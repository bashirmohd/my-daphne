{
 "cells": [
  {
   "cell_type": "code",
   "execution_count": 7,
   "metadata": {},
   "outputs": [],
   "source": [
    "#!pip3 install tensorflow\n",
    "#!pip install tensorflow==1.14\n",
    "#print('hello')"
   ]
  },
  {
   "cell_type": "code",
   "execution_count": 1,
   "metadata": {},
   "outputs": [
    {
     "name": "stderr",
     "output_type": "stream",
     "text": [
      "/Users/bashirmohammed/anaconda3/lib/python3.7/site-packages/tensorflow/python/framework/dtypes.py:516: FutureWarning: Passing (type, 1) or '1type' as a synonym of type is deprecated; in a future version of numpy, it will be understood as (type, (1,)) / '(1,)type'.\n",
      "  _np_qint8 = np.dtype([(\"qint8\", np.int8, 1)])\n",
      "/Users/bashirmohammed/anaconda3/lib/python3.7/site-packages/tensorflow/python/framework/dtypes.py:517: FutureWarning: Passing (type, 1) or '1type' as a synonym of type is deprecated; in a future version of numpy, it will be understood as (type, (1,)) / '(1,)type'.\n",
      "  _np_quint8 = np.dtype([(\"quint8\", np.uint8, 1)])\n",
      "/Users/bashirmohammed/anaconda3/lib/python3.7/site-packages/tensorflow/python/framework/dtypes.py:518: FutureWarning: Passing (type, 1) or '1type' as a synonym of type is deprecated; in a future version of numpy, it will be understood as (type, (1,)) / '(1,)type'.\n",
      "  _np_qint16 = np.dtype([(\"qint16\", np.int16, 1)])\n",
      "/Users/bashirmohammed/anaconda3/lib/python3.7/site-packages/tensorflow/python/framework/dtypes.py:519: FutureWarning: Passing (type, 1) or '1type' as a synonym of type is deprecated; in a future version of numpy, it will be understood as (type, (1,)) / '(1,)type'.\n",
      "  _np_quint16 = np.dtype([(\"quint16\", np.uint16, 1)])\n",
      "/Users/bashirmohammed/anaconda3/lib/python3.7/site-packages/tensorflow/python/framework/dtypes.py:520: FutureWarning: Passing (type, 1) or '1type' as a synonym of type is deprecated; in a future version of numpy, it will be understood as (type, (1,)) / '(1,)type'.\n",
      "  _np_qint32 = np.dtype([(\"qint32\", np.int32, 1)])\n",
      "/Users/bashirmohammed/anaconda3/lib/python3.7/site-packages/tensorflow/python/framework/dtypes.py:525: FutureWarning: Passing (type, 1) or '1type' as a synonym of type is deprecated; in a future version of numpy, it will be understood as (type, (1,)) / '(1,)type'.\n",
      "  np_resource = np.dtype([(\"resource\", np.ubyte, 1)])\n",
      "/Users/bashirmohammed/anaconda3/lib/python3.7/site-packages/tensorboard/compat/tensorflow_stub/dtypes.py:541: FutureWarning: Passing (type, 1) or '1type' as a synonym of type is deprecated; in a future version of numpy, it will be understood as (type, (1,)) / '(1,)type'.\n",
      "  _np_qint8 = np.dtype([(\"qint8\", np.int8, 1)])\n",
      "/Users/bashirmohammed/anaconda3/lib/python3.7/site-packages/tensorboard/compat/tensorflow_stub/dtypes.py:542: FutureWarning: Passing (type, 1) or '1type' as a synonym of type is deprecated; in a future version of numpy, it will be understood as (type, (1,)) / '(1,)type'.\n",
      "  _np_quint8 = np.dtype([(\"quint8\", np.uint8, 1)])\n",
      "/Users/bashirmohammed/anaconda3/lib/python3.7/site-packages/tensorboard/compat/tensorflow_stub/dtypes.py:543: FutureWarning: Passing (type, 1) or '1type' as a synonym of type is deprecated; in a future version of numpy, it will be understood as (type, (1,)) / '(1,)type'.\n",
      "  _np_qint16 = np.dtype([(\"qint16\", np.int16, 1)])\n",
      "/Users/bashirmohammed/anaconda3/lib/python3.7/site-packages/tensorboard/compat/tensorflow_stub/dtypes.py:544: FutureWarning: Passing (type, 1) or '1type' as a synonym of type is deprecated; in a future version of numpy, it will be understood as (type, (1,)) / '(1,)type'.\n",
      "  _np_quint16 = np.dtype([(\"quint16\", np.uint16, 1)])\n",
      "/Users/bashirmohammed/anaconda3/lib/python3.7/site-packages/tensorboard/compat/tensorflow_stub/dtypes.py:545: FutureWarning: Passing (type, 1) or '1type' as a synonym of type is deprecated; in a future version of numpy, it will be understood as (type, (1,)) / '(1,)type'.\n",
      "  _np_qint32 = np.dtype([(\"qint32\", np.int32, 1)])\n",
      "/Users/bashirmohammed/anaconda3/lib/python3.7/site-packages/tensorboard/compat/tensorflow_stub/dtypes.py:550: FutureWarning: Passing (type, 1) or '1type' as a synonym of type is deprecated; in a future version of numpy, it will be understood as (type, (1,)) / '(1,)type'.\n",
      "  np_resource = np.dtype([(\"resource\", np.ubyte, 1)])\n"
     ]
    }
   ],
   "source": [
    "import matplotlib.pyplot as plt\n",
    "import seaborn as sns\n",
    "%matplotlib inline\n",
    "import os\n",
    "import pandas as pd\n",
    "import numpy as np\n",
    "#%matplotlib inline\n",
    "from sklearn import preprocessing\n",
    "import tensorflow as tf\n",
    "from tensorflow.contrib.tensorboard.plugins import projector\n",
    "from sklearn.preprocessing import StandardScaler\n",
    "from sklearn.decomposition import PCA\n",
    "import warnings\n",
    "warnings.filterwarnings(\"ignore\", category=DeprecationWarning)\n"
   ]
  },
  {
   "cell_type": "code",
   "execution_count": 2,
   "metadata": {},
   "outputs": [
    {
     "data": {
      "text/plain": [
       "'/Users/bashirmohammed/Documents/GitHub/daphne/Bashirs_coderoom_testing/anl'"
      ]
     },
     "execution_count": 2,
     "metadata": {},
     "output_type": "execute_result"
    }
   ],
   "source": [
    "pwd"
   ]
  },
  {
   "cell_type": "code",
   "execution_count": 4,
   "metadata": {},
   "outputs": [],
   "source": [
    "## Get working directory\n",
    "PATH = os.getcwd()"
   ]
  },
  {
   "cell_type": "code",
   "execution_count": 5,
   "metadata": {},
   "outputs": [],
   "source": [
    "## Path to save the embedding and checkpoints generated\n",
    "LOG_DIR = PATH + '/project-tensorboard/log-1/'"
   ]
  },
  {
   "cell_type": "code",
   "execution_count": 7,
   "metadata": {},
   "outputs": [],
   "source": [
    "## Load data\n",
    "df = pd.read_csv(\"one_year_data_34links.csv\")"
   ]
  },
  {
   "cell_type": "code",
   "execution_count": 8,
   "metadata": {},
   "outputs": [],
   "source": [
    "del df['Months']"
   ]
  },
  {
   "cell_type": "code",
   "execution_count": 9,
   "metadata": {},
   "outputs": [
    {
     "data": {
      "text/html": [
       "<div>\n",
       "<style scoped>\n",
       "    .dataframe tbody tr th:only-of-type {\n",
       "        vertical-align: middle;\n",
       "    }\n",
       "\n",
       "    .dataframe tbody tr th {\n",
       "        vertical-align: top;\n",
       "    }\n",
       "\n",
       "    .dataframe thead th {\n",
       "        text-align: right;\n",
       "    }\n",
       "</style>\n",
       "<table border=\"1\" class=\"dataframe\">\n",
       "  <thead>\n",
       "    <tr style=\"text-align: right;\">\n",
       "      <th></th>\n",
       "      <th>L1</th>\n",
       "      <th>L2</th>\n",
       "      <th>L3</th>\n",
       "      <th>L4</th>\n",
       "      <th>L5</th>\n",
       "      <th>L6</th>\n",
       "      <th>L7</th>\n",
       "      <th>L8</th>\n",
       "      <th>L9</th>\n",
       "      <th>L10</th>\n",
       "      <th>...</th>\n",
       "      <th>L25</th>\n",
       "      <th>L26</th>\n",
       "      <th>L27</th>\n",
       "      <th>L28</th>\n",
       "      <th>L29</th>\n",
       "      <th>L30</th>\n",
       "      <th>L31</th>\n",
       "      <th>L32</th>\n",
       "      <th>L33</th>\n",
       "      <th>L34</th>\n",
       "    </tr>\n",
       "  </thead>\n",
       "  <tbody>\n",
       "    <tr>\n",
       "      <th>0</th>\n",
       "      <td>2.016730e+09</td>\n",
       "      <td>6.559878e+09</td>\n",
       "      <td>1.117868e+07</td>\n",
       "      <td>220096758.3</td>\n",
       "      <td>1.276634e+10</td>\n",
       "      <td>9.838906e+09</td>\n",
       "      <td>6.804753e+07</td>\n",
       "      <td>1.567461e+07</td>\n",
       "      <td>1.554591e+09</td>\n",
       "      <td>3.337917e+09</td>\n",
       "      <td>...</td>\n",
       "      <td>1.569704e+09</td>\n",
       "      <td>2.987887e+09</td>\n",
       "      <td>3.926408e+09</td>\n",
       "      <td>6.210077e+09</td>\n",
       "      <td>1.109243e+09</td>\n",
       "      <td>8.683116e+09</td>\n",
       "      <td>2.952571e+10</td>\n",
       "      <td>32127050406</td>\n",
       "      <td>9.575782e+08</td>\n",
       "      <td>7.241651e+09</td>\n",
       "    </tr>\n",
       "    <tr>\n",
       "      <th>1</th>\n",
       "      <td>1.871437e+09</td>\n",
       "      <td>4.165667e+09</td>\n",
       "      <td>7.070847e+06</td>\n",
       "      <td>224528257.8</td>\n",
       "      <td>1.182706e+10</td>\n",
       "      <td>9.088112e+09</td>\n",
       "      <td>1.197467e+08</td>\n",
       "      <td>2.550747e+06</td>\n",
       "      <td>1.657738e+09</td>\n",
       "      <td>2.763025e+09</td>\n",
       "      <td>...</td>\n",
       "      <td>1.670443e+09</td>\n",
       "      <td>2.786660e+09</td>\n",
       "      <td>2.726693e+09</td>\n",
       "      <td>5.627768e+09</td>\n",
       "      <td>1.242256e+09</td>\n",
       "      <td>5.181239e+09</td>\n",
       "      <td>2.323105e+10</td>\n",
       "      <td>30542821342</td>\n",
       "      <td>1.846840e+09</td>\n",
       "      <td>3.695484e+09</td>\n",
       "    </tr>\n",
       "    <tr>\n",
       "      <th>2</th>\n",
       "      <td>1.991793e+09</td>\n",
       "      <td>2.589278e+09</td>\n",
       "      <td>5.132826e+07</td>\n",
       "      <td>229200120.9</td>\n",
       "      <td>1.091153e+10</td>\n",
       "      <td>7.944180e+09</td>\n",
       "      <td>6.460113e+07</td>\n",
       "      <td>2.678000e+06</td>\n",
       "      <td>1.306412e+09</td>\n",
       "      <td>2.754520e+09</td>\n",
       "      <td>...</td>\n",
       "      <td>1.468039e+09</td>\n",
       "      <td>2.165914e+09</td>\n",
       "      <td>4.623652e+09</td>\n",
       "      <td>6.190882e+09</td>\n",
       "      <td>2.006322e+09</td>\n",
       "      <td>1.224286e+10</td>\n",
       "      <td>3.053876e+10</td>\n",
       "      <td>27252911164</td>\n",
       "      <td>1.947976e+09</td>\n",
       "      <td>5.325143e+09</td>\n",
       "    </tr>\n",
       "    <tr>\n",
       "      <th>3</th>\n",
       "      <td>1.924070e+09</td>\n",
       "      <td>3.532163e+09</td>\n",
       "      <td>5.217827e+06</td>\n",
       "      <td>212289872.7</td>\n",
       "      <td>9.910009e+09</td>\n",
       "      <td>7.610080e+09</td>\n",
       "      <td>6.362367e+07</td>\n",
       "      <td>2.251643e+06</td>\n",
       "      <td>5.299254e+08</td>\n",
       "      <td>2.724323e+09</td>\n",
       "      <td>...</td>\n",
       "      <td>1.406788e+09</td>\n",
       "      <td>2.053214e+09</td>\n",
       "      <td>2.483065e+09</td>\n",
       "      <td>2.286046e+09</td>\n",
       "      <td>1.073181e+09</td>\n",
       "      <td>4.717642e+09</td>\n",
       "      <td>2.570215e+10</td>\n",
       "      <td>28311807743</td>\n",
       "      <td>2.217494e+09</td>\n",
       "      <td>2.194284e+09</td>\n",
       "    </tr>\n",
       "    <tr>\n",
       "      <th>4</th>\n",
       "      <td>1.814329e+09</td>\n",
       "      <td>2.058993e+09</td>\n",
       "      <td>7.495363e+06</td>\n",
       "      <td>213758038.0</td>\n",
       "      <td>8.953243e+09</td>\n",
       "      <td>8.567451e+09</td>\n",
       "      <td>6.662926e+07</td>\n",
       "      <td>3.117066e+07</td>\n",
       "      <td>1.121435e+09</td>\n",
       "      <td>2.974258e+09</td>\n",
       "      <td>...</td>\n",
       "      <td>2.328494e+09</td>\n",
       "      <td>2.735493e+09</td>\n",
       "      <td>1.020563e+09</td>\n",
       "      <td>2.556964e+09</td>\n",
       "      <td>8.645069e+08</td>\n",
       "      <td>1.987249e+09</td>\n",
       "      <td>2.445649e+10</td>\n",
       "      <td>19851990236</td>\n",
       "      <td>1.115394e+09</td>\n",
       "      <td>3.096373e+09</td>\n",
       "    </tr>\n",
       "  </tbody>\n",
       "</table>\n",
       "<p>5 rows × 34 columns</p>\n",
       "</div>"
      ],
      "text/plain": [
       "             L1            L2            L3           L4            L5  \\\n",
       "0  2.016730e+09  6.559878e+09  1.117868e+07  220096758.3  1.276634e+10   \n",
       "1  1.871437e+09  4.165667e+09  7.070847e+06  224528257.8  1.182706e+10   \n",
       "2  1.991793e+09  2.589278e+09  5.132826e+07  229200120.9  1.091153e+10   \n",
       "3  1.924070e+09  3.532163e+09  5.217827e+06  212289872.7  9.910009e+09   \n",
       "4  1.814329e+09  2.058993e+09  7.495363e+06  213758038.0  8.953243e+09   \n",
       "\n",
       "             L6            L7            L8            L9           L10  ...  \\\n",
       "0  9.838906e+09  6.804753e+07  1.567461e+07  1.554591e+09  3.337917e+09  ...   \n",
       "1  9.088112e+09  1.197467e+08  2.550747e+06  1.657738e+09  2.763025e+09  ...   \n",
       "2  7.944180e+09  6.460113e+07  2.678000e+06  1.306412e+09  2.754520e+09  ...   \n",
       "3  7.610080e+09  6.362367e+07  2.251643e+06  5.299254e+08  2.724323e+09  ...   \n",
       "4  8.567451e+09  6.662926e+07  3.117066e+07  1.121435e+09  2.974258e+09  ...   \n",
       "\n",
       "            L25           L26           L27           L28           L29  \\\n",
       "0  1.569704e+09  2.987887e+09  3.926408e+09  6.210077e+09  1.109243e+09   \n",
       "1  1.670443e+09  2.786660e+09  2.726693e+09  5.627768e+09  1.242256e+09   \n",
       "2  1.468039e+09  2.165914e+09  4.623652e+09  6.190882e+09  2.006322e+09   \n",
       "3  1.406788e+09  2.053214e+09  2.483065e+09  2.286046e+09  1.073181e+09   \n",
       "4  2.328494e+09  2.735493e+09  1.020563e+09  2.556964e+09  8.645069e+08   \n",
       "\n",
       "            L30           L31          L32           L33           L34  \n",
       "0  8.683116e+09  2.952571e+10  32127050406  9.575782e+08  7.241651e+09  \n",
       "1  5.181239e+09  2.323105e+10  30542821342  1.846840e+09  3.695484e+09  \n",
       "2  1.224286e+10  3.053876e+10  27252911164  1.947976e+09  5.325143e+09  \n",
       "3  4.717642e+09  2.570215e+10  28311807743  2.217494e+09  2.194284e+09  \n",
       "4  1.987249e+09  2.445649e+10  19851990236  1.115394e+09  3.096373e+09  \n",
       "\n",
       "[5 rows x 34 columns]"
      ]
     },
     "execution_count": 9,
     "metadata": {},
     "output_type": "execute_result"
    }
   ],
   "source": [
    "df.head()"
   ]
  },
  {
   "cell_type": "code",
   "execution_count": 10,
   "metadata": {},
   "outputs": [],
   "source": [
    "# #df = StandardScaler().fit_transform(df)\n",
    "\n",
    "\n",
    "# x = df.values #returns a numpy array\n",
    "# min_max_scaler = preprocessing.MinMaxScaler()\n",
    "# x_scaled = min_max_scaler.fit_transform(x)\n",
    "# df = pd.DataFrame(x_scaled)"
   ]
  },
  {
   "cell_type": "code",
   "execution_count": 11,
   "metadata": {},
   "outputs": [
    {
     "data": {
      "text/plain": [
       "(8760, 34)"
      ]
     },
     "execution_count": 11,
     "metadata": {},
     "output_type": "execute_result"
    }
   ],
   "source": [
    "df.shape"
   ]
  },
  {
   "cell_type": "code",
   "execution_count": 12,
   "metadata": {},
   "outputs": [],
   "source": [
    "metadata = os.path.join(LOG_DIR, 'df.tsv')"
   ]
  },
  {
   "cell_type": "code",
   "execution_count": 13,
   "metadata": {},
   "outputs": [],
   "source": [
    "# Generating PCA and \n",
    "pca = PCA(n_components=34,\n",
    "         random_state = 123,\n",
    "         svd_solver = 'auto'\n",
    "         )\n",
    "\n",
    "df_pca = pd.DataFrame(pca.fit_transform(df))\n",
    "df_pca = df_pca.values"
   ]
  },
  {
   "cell_type": "code",
   "execution_count": 14,
   "metadata": {},
   "outputs": [],
   "source": [
    "## TensorFlow Variable from data\n",
    "tf_data = tf.Variable(df_pca)"
   ]
  },
  {
   "cell_type": "code",
   "execution_count": 15,
   "metadata": {},
   "outputs": [],
   "source": [
    "## Running TensorFlow Session\n",
    "with tf.Session() as sess:\n",
    "    saver = tf.train.Saver([tf_data])\n",
    "    sess.run(tf_data.initializer)\n",
    "    saver.save(sess, os.path.join(LOG_DIR, 'tf_data.ckpt'))\n",
    "    config = projector.ProjectorConfig()\n",
    "    "
   ]
  },
  {
   "cell_type": "code",
   "execution_count": 16,
   "metadata": {},
   "outputs": [],
   "source": [
    "# One can add multiple embeddings.\n",
    "embedding = config.embeddings.add()\n",
    "embedding.tensor_name = tf_data.name"
   ]
  },
  {
   "cell_type": "code",
   "execution_count": 17,
   "metadata": {},
   "outputs": [],
   "source": [
    "# Link this tensor to its metadata(Labels) file\n",
    "embedding.metadata_path = metadata"
   ]
  },
  {
   "cell_type": "code",
   "execution_count": 18,
   "metadata": {},
   "outputs": [],
   "source": [
    "# Saves a config file that TensorBoard will read during startup.\n",
    "projector.visualize_embeddings(tf.summary.FileWriter(LOG_DIR), config)"
   ]
  },
  {
   "cell_type": "code",
   "execution_count": 19,
   "metadata": {},
   "outputs": [
    {
     "name": "stdout",
     "output_type": "stream",
     "text": [
      "embeddings {\n",
      "  tensor_name: \"Variable:0\"\n",
      "  metadata_path: \"/Users/bashirmohammed/Documents/GitHub/daphne/Bashirs_coderoom_testing/anl/project-tensorboard/log-1/df.tsv\"\n",
      "}\n",
      "\n"
     ]
    }
   ],
   "source": [
    "print(config)"
   ]
  },
  {
   "cell_type": "code",
   "execution_count": 20,
   "metadata": {},
   "outputs": [],
   "source": [
    "import pkg_resources\n",
    "\n",
    "for entry_point in pkg_resources.iter_entry_points('tensorboard_plugins'):\n",
    "    print(entry_point.dist)"
   ]
  },
  {
   "cell_type": "code",
   "execution_count": null,
   "metadata": {},
   "outputs": [],
   "source": [
    "#!sudo pip list --format=freeze | grep tensorboard | xargs pip uninstall -y"
   ]
  },
  {
   "cell_type": "code",
   "execution_count": null,
   "metadata": {},
   "outputs": [],
   "source": [
    "#tensorboard --logdir /Users/bashirmohammed/Dropbox/CodeRoom/Python/python3_jose/project-tensorboard/log-1/ --port=6006"
   ]
  }
 ],
 "metadata": {
  "kernelspec": {
   "display_name": "Python 3",
   "language": "python",
   "name": "python3"
  },
  "language_info": {
   "codemirror_mode": {
    "name": "ipython",
    "version": 3
   },
   "file_extension": ".py",
   "mimetype": "text/x-python",
   "name": "python",
   "nbconvert_exporter": "python",
   "pygments_lexer": "ipython3",
   "version": "3.7.6"
  }
 },
 "nbformat": 4,
 "nbformat_minor": 2
}
