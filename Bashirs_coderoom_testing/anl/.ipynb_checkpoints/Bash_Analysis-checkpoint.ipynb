{
 "cells": [
  {
   "cell_type": "code",
   "execution_count": 1,
   "metadata": {},
   "outputs": [],
   "source": [
    "#importing the libraries\n",
    "import pandas as pd\n",
    "import numpy as np\n",
    "import matplotlib.pyplot as plt\n"
   ]
  },
  {
   "cell_type": "code",
   "execution_count": 3,
   "metadata": {},
   "outputs": [],
   "source": [
    "dataset = pd.read_csv('2018_1hourdata.csv')"
   ]
  },
  {
   "cell_type": "code",
   "execution_count": 4,
   "metadata": {},
   "outputs": [
    {
     "data": {
      "text/html": [
       "<div>\n",
       "<style scoped>\n",
       "    .dataframe tbody tr th:only-of-type {\n",
       "        vertical-align: middle;\n",
       "    }\n",
       "\n",
       "    .dataframe tbody tr th {\n",
       "        vertical-align: top;\n",
       "    }\n",
       "\n",
       "    .dataframe thead th {\n",
       "        text-align: right;\n",
       "    }\n",
       "</style>\n",
       "<table border=\"1\" class=\"dataframe\">\n",
       "  <thead>\n",
       "    <tr style=\"text-align: right;\">\n",
       "      <th></th>\n",
       "      <th>Time</th>\n",
       "      <th>SACR_SUNN_in</th>\n",
       "      <th>SACR_SUNN_out</th>\n",
       "      <th>LOND_NEWY_in</th>\n",
       "      <th>LOND_NEWY_out</th>\n",
       "      <th>JGI_SACR_in</th>\n",
       "      <th>JGI_SACR_out</th>\n",
       "      <th>HOUS_PANTEX_in</th>\n",
       "      <th>HOUS_PANTEX_out</th>\n",
       "      <th>BOIS_PNWG_in</th>\n",
       "      <th>...</th>\n",
       "      <th>AMST_LOND_in</th>\n",
       "      <th>AMST_LOND_out</th>\n",
       "      <th>FNAL_STAR_in</th>\n",
       "      <th>FNAL_STAR_out</th>\n",
       "      <th>BOST_STAR_in</th>\n",
       "      <th>BOST_STAR_out</th>\n",
       "      <th>BOST_NEWY_in</th>\n",
       "      <th>BOST_NEWY_out</th>\n",
       "      <th>ATLA_WASH_in</th>\n",
       "      <th>ATLA_WASH_out</th>\n",
       "    </tr>\n",
       "  </thead>\n",
       "  <tbody>\n",
       "    <tr>\n",
       "      <th>0</th>\n",
       "      <td>1/1/18 8:00</td>\n",
       "      <td>1.411093e+10</td>\n",
       "      <td>1.025131e+10</td>\n",
       "      <td>1.109243e+09</td>\n",
       "      <td>8.683116e+09</td>\n",
       "      <td>8.289831e+07</td>\n",
       "      <td>471952486.5</td>\n",
       "      <td>56650005.21</td>\n",
       "      <td>28102344.40</td>\n",
       "      <td>1.117868e+07</td>\n",
       "      <td>...</td>\n",
       "      <td>3.131858e+09</td>\n",
       "      <td>1.290804e+10</td>\n",
       "      <td>6.221437e+07</td>\n",
       "      <td>4.177833e+07</td>\n",
       "      <td>6.127005e+09</td>\n",
       "      <td>1.505475e+10</td>\n",
       "      <td>1.116761e+10</td>\n",
       "      <td>2.391813e+09</td>\n",
       "      <td>3.005335e+09</td>\n",
       "      <td>5.993152e+09</td>\n",
       "    </tr>\n",
       "    <tr>\n",
       "      <th>1</th>\n",
       "      <td>1/1/18 9:00</td>\n",
       "      <td>1.345362e+10</td>\n",
       "      <td>9.191558e+09</td>\n",
       "      <td>1.242256e+09</td>\n",
       "      <td>5.181239e+09</td>\n",
       "      <td>4.375739e+04</td>\n",
       "      <td>470169221.0</td>\n",
       "      <td>49307351.26</td>\n",
       "      <td>20240358.57</td>\n",
       "      <td>7.070847e+06</td>\n",
       "      <td>...</td>\n",
       "      <td>4.157574e+09</td>\n",
       "      <td>7.468747e+09</td>\n",
       "      <td>1.943452e+08</td>\n",
       "      <td>3.058273e+08</td>\n",
       "      <td>4.952796e+09</td>\n",
       "      <td>1.096238e+10</td>\n",
       "      <td>7.879534e+09</td>\n",
       "      <td>2.225971e+09</td>\n",
       "      <td>3.043124e+09</td>\n",
       "      <td>4.402875e+09</td>\n",
       "    </tr>\n",
       "    <tr>\n",
       "      <th>2</th>\n",
       "      <td>1/1/18 10:00</td>\n",
       "      <td>1.216888e+10</td>\n",
       "      <td>7.793842e+09</td>\n",
       "      <td>2.006322e+09</td>\n",
       "      <td>1.224286e+10</td>\n",
       "      <td>4.315725e+04</td>\n",
       "      <td>254319077.6</td>\n",
       "      <td>56843652.59</td>\n",
       "      <td>13076249.56</td>\n",
       "      <td>5.132826e+07</td>\n",
       "      <td>...</td>\n",
       "      <td>6.164468e+09</td>\n",
       "      <td>1.451626e+10</td>\n",
       "      <td>2.368597e+08</td>\n",
       "      <td>2.297360e+08</td>\n",
       "      <td>7.193835e+09</td>\n",
       "      <td>1.840171e+10</td>\n",
       "      <td>1.573402e+10</td>\n",
       "      <td>2.598615e+09</td>\n",
       "      <td>3.254450e+09</td>\n",
       "      <td>3.451973e+09</td>\n",
       "    </tr>\n",
       "    <tr>\n",
       "      <th>3</th>\n",
       "      <td>1/1/18 11:00</td>\n",
       "      <td>1.123120e+10</td>\n",
       "      <td>7.097238e+09</td>\n",
       "      <td>1.073181e+09</td>\n",
       "      <td>4.717642e+09</td>\n",
       "      <td>8.277154e+07</td>\n",
       "      <td>167067135.5</td>\n",
       "      <td>46645240.59</td>\n",
       "      <td>15344128.69</td>\n",
       "      <td>5.217827e+06</td>\n",
       "      <td>...</td>\n",
       "      <td>3.856222e+09</td>\n",
       "      <td>7.139046e+09</td>\n",
       "      <td>2.644591e+07</td>\n",
       "      <td>8.776042e+07</td>\n",
       "      <td>4.389148e+09</td>\n",
       "      <td>7.153226e+09</td>\n",
       "      <td>7.690503e+09</td>\n",
       "      <td>1.992397e+09</td>\n",
       "      <td>3.717638e+09</td>\n",
       "      <td>5.663406e+09</td>\n",
       "    </tr>\n",
       "    <tr>\n",
       "      <th>4</th>\n",
       "      <td>1/1/18 12:00</td>\n",
       "      <td>1.078085e+10</td>\n",
       "      <td>8.048294e+09</td>\n",
       "      <td>8.645069e+08</td>\n",
       "      <td>1.987249e+09</td>\n",
       "      <td>3.343548e+04</td>\n",
       "      <td>113702282.5</td>\n",
       "      <td>30966947.37</td>\n",
       "      <td>23023533.87</td>\n",
       "      <td>7.495363e+06</td>\n",
       "      <td>...</td>\n",
       "      <td>2.483093e+09</td>\n",
       "      <td>4.691328e+09</td>\n",
       "      <td>3.782775e+07</td>\n",
       "      <td>7.183373e+07</td>\n",
       "      <td>2.982568e+09</td>\n",
       "      <td>4.568829e+09</td>\n",
       "      <td>4.828736e+09</td>\n",
       "      <td>2.083069e+09</td>\n",
       "      <td>3.753083e+09</td>\n",
       "      <td>4.915730e+09</td>\n",
       "    </tr>\n",
       "  </tbody>\n",
       "</table>\n",
       "<p>5 rows × 97 columns</p>\n",
       "</div>"
      ],
      "text/plain": [
       "           Time  SACR_SUNN_in  SACR_SUNN_out  LOND_NEWY_in  LOND_NEWY_out  \\\n",
       "0   1/1/18 8:00  1.411093e+10   1.025131e+10  1.109243e+09   8.683116e+09   \n",
       "1   1/1/18 9:00  1.345362e+10   9.191558e+09  1.242256e+09   5.181239e+09   \n",
       "2  1/1/18 10:00  1.216888e+10   7.793842e+09  2.006322e+09   1.224286e+10   \n",
       "3  1/1/18 11:00  1.123120e+10   7.097238e+09  1.073181e+09   4.717642e+09   \n",
       "4  1/1/18 12:00  1.078085e+10   8.048294e+09  8.645069e+08   1.987249e+09   \n",
       "\n",
       "    JGI_SACR_in  JGI_SACR_out  HOUS_PANTEX_in  HOUS_PANTEX_out  BOIS_PNWG_in  \\\n",
       "0  8.289831e+07   471952486.5     56650005.21      28102344.40  1.117868e+07   \n",
       "1  4.375739e+04   470169221.0     49307351.26      20240358.57  7.070847e+06   \n",
       "2  4.315725e+04   254319077.6     56843652.59      13076249.56  5.132826e+07   \n",
       "3  8.277154e+07   167067135.5     46645240.59      15344128.69  5.217827e+06   \n",
       "4  3.343548e+04   113702282.5     30966947.37      23023533.87  7.495363e+06   \n",
       "\n",
       "   ...  AMST_LOND_in  AMST_LOND_out  FNAL_STAR_in  FNAL_STAR_out  \\\n",
       "0  ...  3.131858e+09   1.290804e+10  6.221437e+07   4.177833e+07   \n",
       "1  ...  4.157574e+09   7.468747e+09  1.943452e+08   3.058273e+08   \n",
       "2  ...  6.164468e+09   1.451626e+10  2.368597e+08   2.297360e+08   \n",
       "3  ...  3.856222e+09   7.139046e+09  2.644591e+07   8.776042e+07   \n",
       "4  ...  2.483093e+09   4.691328e+09  3.782775e+07   7.183373e+07   \n",
       "\n",
       "   BOST_STAR_in  BOST_STAR_out  BOST_NEWY_in  BOST_NEWY_out  ATLA_WASH_in  \\\n",
       "0  6.127005e+09   1.505475e+10  1.116761e+10   2.391813e+09  3.005335e+09   \n",
       "1  4.952796e+09   1.096238e+10  7.879534e+09   2.225971e+09  3.043124e+09   \n",
       "2  7.193835e+09   1.840171e+10  1.573402e+10   2.598615e+09  3.254450e+09   \n",
       "3  4.389148e+09   7.153226e+09  7.690503e+09   1.992397e+09  3.717638e+09   \n",
       "4  2.982568e+09   4.568829e+09  4.828736e+09   2.083069e+09  3.753083e+09   \n",
       "\n",
       "   ATLA_WASH_out  \n",
       "0   5.993152e+09  \n",
       "1   4.402875e+09  \n",
       "2   3.451973e+09  \n",
       "3   5.663406e+09  \n",
       "4   4.915730e+09  \n",
       "\n",
       "[5 rows x 97 columns]"
      ]
     },
     "execution_count": 4,
     "metadata": {},
     "output_type": "execute_result"
    }
   ],
   "source": [
    "dataset.head()"
   ]
  },
  {
   "cell_type": "code",
   "execution_count": 5,
   "metadata": {},
   "outputs": [
    {
     "data": {
      "text/plain": [
       "(8760, 97)"
      ]
     },
     "execution_count": 5,
     "metadata": {},
     "output_type": "execute_result"
    }
   ],
   "source": [
    "dataset.shape"
   ]
  },
  {
   "cell_type": "code",
   "execution_count": 6,
   "metadata": {},
   "outputs": [],
   "source": [
    "\n",
    "X = dataset.iloc[:, [1,-1]].values"
   ]
  },
  {
   "cell_type": "code",
   "execution_count": 19,
   "metadata": {},
   "outputs": [
    {
     "ename": "SyntaxError",
     "evalue": "invalid syntax (<ipython-input-19-972b99e7e271>, line 14)",
     "output_type": "error",
     "traceback": [
      "\u001b[0;36m  File \u001b[0;32m\"<ipython-input-19-972b99e7e271>\"\u001b[0;36m, line \u001b[0;32m14\u001b[0m\n\u001b[0;31m    plt.plot(Number of Clusters, WCSS, 'bx-')\u001b[0m\n\u001b[0m                     ^\u001b[0m\n\u001b[0;31mSyntaxError\u001b[0m\u001b[0;31m:\u001b[0m invalid syntax\n"
     ]
    }
   ],
   "source": [
    "#To find out the optimal number of cluseters we use the elbow method\n",
    "#within cluster sum of errors\n",
    "from sklearn.cluster import KMeans\n",
    "\n",
    "wcss = []\n",
    "K = range(1,10)\n",
    "for i in range(1,96):\n",
    "    kmeans = KMeans(n_clusters = i, init = 'k-means++', max_iter = 300, n_init = 10, random_state = 0)\n",
    "    kmeans.fit(X)\n",
    "    wcss.append(kmeans.inertia_)\n",
    "plt.plot(range(1,96), wcss)\n",
    "plt.title('The Elbow Method')\n",
    "plt.xlabel('Number of Clusters')\n",
    "plt.ylabel('WCSS')\n",
    "plt.plot(K, w, 'bx-')\n",
    "plt.show()"
   ]
  },
  {
   "cell_type": "code",
   "execution_count": 18,
   "metadata": {},
   "outputs": [
    {
     "data": {
      "image/png": "[encoded data removed]",
      "text/plain": [
       "<Figure size 432x288 with 1 Axes>"
      ]
     },
     "metadata": {
      "needs_background": "light"
     },
     "output_type": "display_data"
    }
   ],
   "source": [
    "kmeans= KMeans(n_clusters = 4, init = 'k-means++', max_iter =300, n_init =10, random_state = 0)\n",
    "y_kmeans = kmeans.fit_predict(X)\n",
    "\n",
    "#Visualising the clusters\n",
    "plt.scatter(X[y_kmeans == 0, 0], X[y_kmeans == 0, 1], s = 100, c = 'red', label = 'Cluster1')\n",
    "plt.scatter(X[y_kmeans == 1, 0], X[y_kmeans == 1, 1], s = 100, c = 'blue', label = 'Cluster2')\n",
    "plt.scatter(X[y_kmeans == 2, 0], X[y_kmeans == 2, 1], s = 100, c = 'green', label = 'Cluster3')\n",
    "plt.scatter(X[y_kmeans == 3, 0], X[y_kmeans == 3, 1], s = 100, c = 'cyan', label = 'Cluster4')\n",
    "plt.scatter(X[y_kmeans == 4, 0], X[y_kmeans == 4, 1], s = 100, c = 'magenta', label = 'Cluster5')\n",
    "plt.scatter(kmeans.cluster_centers_[:, 0], kmeans.cluster_centers_[:, 1], s = 300, c = 'yellow', label = 'Centroids')\n",
    "plt.title('Clusters of the bandwidth')\n",
    "plt.xlabel('Annual Income (K$)')\n",
    "plt.ylabel('Spending Score (1-100)')\n",
    "plt.legend()\n",
    "plt.show()"
   ]
  },
  {
   "cell_type": "code",
   "execution_count": null,
   "metadata": {},
   "outputs": [],
   "source": []
  }
 ],
 "metadata": {
  "kernelspec": {
   "display_name": "Python 3",
   "language": "python",
   "name": "python3"
  },
  "language_info": {
   "codemirror_mode": {
    "name": "ipython",
    "version": 3
   },
   "file_extension": ".py",
   "mimetype": "text/x-python",
   "name": "python",
   "nbconvert_exporter": "python",
   "pygments_lexer": "ipython3",
   "version": "3.7.6"
  }
 },
 "nbformat": 4,
 "nbformat_minor": 2
}
