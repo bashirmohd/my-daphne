{
 "cells": [
  {
   "cell_type": "code",
   "execution_count": 1,
   "metadata": {},
   "outputs": [],
   "source": [
    "#!pip3 install tensorflow\n",
    "#!pip install tensorflow==1.14\n",
    "#print('hello')"
   ]
  },
  {
   "cell_type": "code",
   "execution_count": 2,
   "metadata": {},
   "outputs": [
    {
     "data": {
      "text/plain": [
       "'/Users/bashirmohammed/Documents/GitHub/daphne/Bashirs_coderoom_testing/anl'"
      ]
     },
     "execution_count": 2,
     "metadata": {},
     "output_type": "execute_result"
    }
   ],
   "source": [
    "pwd"
   ]
  },
  {
   "cell_type": "code",
   "execution_count": 3,
   "metadata": {
    "scrolled": true
   },
   "outputs": [
    {
     "name": "stderr",
     "output_type": "stream",
     "text": [
      "/Users/bashirmohammed/anaconda3/lib/python3.7/site-packages/tensorflow/python/framework/dtypes.py:516: FutureWarning: Passing (type, 1) or '1type' as a synonym of type is deprecated; in a future version of numpy, it will be understood as (type, (1,)) / '(1,)type'.\n",
      "  _np_qint8 = np.dtype([(\"qint8\", np.int8, 1)])\n",
      "/Users/bashirmohammed/anaconda3/lib/python3.7/site-packages/tensorflow/python/framework/dtypes.py:517: FutureWarning: Passing (type, 1) or '1type' as a synonym of type is deprecated; in a future version of numpy, it will be understood as (type, (1,)) / '(1,)type'.\n",
      "  _np_quint8 = np.dtype([(\"quint8\", np.uint8, 1)])\n",
      "/Users/bashirmohammed/anaconda3/lib/python3.7/site-packages/tensorflow/python/framework/dtypes.py:518: FutureWarning: Passing (type, 1) or '1type' as a synonym of type is deprecated; in a future version of numpy, it will be understood as (type, (1,)) / '(1,)type'.\n",
      "  _np_qint16 = np.dtype([(\"qint16\", np.int16, 1)])\n",
      "/Users/bashirmohammed/anaconda3/lib/python3.7/site-packages/tensorflow/python/framework/dtypes.py:519: FutureWarning: Passing (type, 1) or '1type' as a synonym of type is deprecated; in a future version of numpy, it will be understood as (type, (1,)) / '(1,)type'.\n",
      "  _np_quint16 = np.dtype([(\"quint16\", np.uint16, 1)])\n",
      "/Users/bashirmohammed/anaconda3/lib/python3.7/site-packages/tensorflow/python/framework/dtypes.py:520: FutureWarning: Passing (type, 1) or '1type' as a synonym of type is deprecated; in a future version of numpy, it will be understood as (type, (1,)) / '(1,)type'.\n",
      "  _np_qint32 = np.dtype([(\"qint32\", np.int32, 1)])\n",
      "/Users/bashirmohammed/anaconda3/lib/python3.7/site-packages/tensorflow/python/framework/dtypes.py:525: FutureWarning: Passing (type, 1) or '1type' as a synonym of type is deprecated; in a future version of numpy, it will be understood as (type, (1,)) / '(1,)type'.\n",
      "  np_resource = np.dtype([(\"resource\", np.ubyte, 1)])\n",
      "/Users/bashirmohammed/anaconda3/lib/python3.7/site-packages/tensorboard/compat/tensorflow_stub/dtypes.py:541: FutureWarning: Passing (type, 1) or '1type' as a synonym of type is deprecated; in a future version of numpy, it will be understood as (type, (1,)) / '(1,)type'.\n",
      "  _np_qint8 = np.dtype([(\"qint8\", np.int8, 1)])\n",
      "/Users/bashirmohammed/anaconda3/lib/python3.7/site-packages/tensorboard/compat/tensorflow_stub/dtypes.py:542: FutureWarning: Passing (type, 1) or '1type' as a synonym of type is deprecated; in a future version of numpy, it will be understood as (type, (1,)) / '(1,)type'.\n",
      "  _np_quint8 = np.dtype([(\"quint8\", np.uint8, 1)])\n",
      "/Users/bashirmohammed/anaconda3/lib/python3.7/site-packages/tensorboard/compat/tensorflow_stub/dtypes.py:543: FutureWarning: Passing (type, 1) or '1type' as a synonym of type is deprecated; in a future version of numpy, it will be understood as (type, (1,)) / '(1,)type'.\n",
      "  _np_qint16 = np.dtype([(\"qint16\", np.int16, 1)])\n",
      "/Users/bashirmohammed/anaconda3/lib/python3.7/site-packages/tensorboard/compat/tensorflow_stub/dtypes.py:544: FutureWarning: Passing (type, 1) or '1type' as a synonym of type is deprecated; in a future version of numpy, it will be understood as (type, (1,)) / '(1,)type'.\n",
      "  _np_quint16 = np.dtype([(\"quint16\", np.uint16, 1)])\n",
      "/Users/bashirmohammed/anaconda3/lib/python3.7/site-packages/tensorboard/compat/tensorflow_stub/dtypes.py:545: FutureWarning: Passing (type, 1) or '1type' as a synonym of type is deprecated; in a future version of numpy, it will be understood as (type, (1,)) / '(1,)type'.\n",
      "  _np_qint32 = np.dtype([(\"qint32\", np.int32, 1)])\n",
      "/Users/bashirmohammed/anaconda3/lib/python3.7/site-packages/tensorboard/compat/tensorflow_stub/dtypes.py:550: FutureWarning: Passing (type, 1) or '1type' as a synonym of type is deprecated; in a future version of numpy, it will be understood as (type, (1,)) / '(1,)type'.\n",
      "  np_resource = np.dtype([(\"resource\", np.ubyte, 1)])\n"
     ]
    }
   ],
   "source": [
    "import matplotlib.pyplot as plt\n",
    "import seaborn as sns\n",
    "%matplotlib inline\n",
    "import os\n",
    "import pandas as pd\n",
    "import numpy as np\n",
    "#%matplotlib inline\n",
    "from sklearn import preprocessing\n",
    "import tensorflow as tf\n",
    "from tensorflow.contrib.tensorboard.plugins import projector\n",
    "from sklearn.preprocessing import StandardScaler\n",
    "from sklearn.decomposition import PCA\n",
    "import warnings\n",
    "warnings.filterwarnings(\"ignore\", category=DeprecationWarning)\n"
   ]
  },
  {
   "cell_type": "code",
   "execution_count": 4,
   "metadata": {},
   "outputs": [
    {
     "data": {
      "text/plain": [
       "'/Users/bashirmohammed/Documents/GitHub/daphne/Bashirs_coderoom_testing/anl'"
      ]
     },
     "execution_count": 4,
     "metadata": {},
     "output_type": "execute_result"
    }
   ],
   "source": [
    "pwd"
   ]
  },
  {
   "cell_type": "code",
   "execution_count": 5,
   "metadata": {},
   "outputs": [],
   "source": [
    "## Get working directory\n",
    "PATH = os.getcwd()"
   ]
  },
  {
   "cell_type": "code",
   "execution_count": 6,
   "metadata": {},
   "outputs": [],
   "source": [
    "## Path to save the embedding and checkpoints generated\n",
    "LOG_DIR = PATH + '/project-tensorboard/log-1/'"
   ]
  },
  {
   "cell_type": "code",
   "execution_count": 7,
   "metadata": {},
   "outputs": [],
   "source": [
    "## Load data\n",
    "df = pd.read_csv(\"2018_1hourdata_labelled.csv\")"
   ]
  },
  {
   "cell_type": "code",
   "execution_count": 8,
   "metadata": {},
   "outputs": [],
   "source": [
    "del df['Time']"
   ]
  },
  {
   "cell_type": "code",
   "execution_count": 9,
   "metadata": {},
   "outputs": [],
   "source": [
    "del df['label']"
   ]
  },
  {
   "cell_type": "code",
   "execution_count": 10,
   "metadata": {},
   "outputs": [
    {
     "data": {
      "text/html": [
       "<div>\n",
       "<style scoped>\n",
       "    .dataframe tbody tr th:only-of-type {\n",
       "        vertical-align: middle;\n",
       "    }\n",
       "\n",
       "    .dataframe tbody tr th {\n",
       "        vertical-align: top;\n",
       "    }\n",
       "\n",
       "    .dataframe thead th {\n",
       "        text-align: right;\n",
       "    }\n",
       "</style>\n",
       "<table border=\"1\" class=\"dataframe\">\n",
       "  <thead>\n",
       "    <tr style=\"text-align: right;\">\n",
       "      <th></th>\n",
       "      <th>SACR_SUNN_in</th>\n",
       "      <th>SACR_SUNN_out</th>\n",
       "      <th>LOND_NEWY_in</th>\n",
       "      <th>LOND_NEWY_out</th>\n",
       "      <th>JGI_SACR_in</th>\n",
       "      <th>JGI_SACR_out</th>\n",
       "      <th>HOUS_PANTEX_in</th>\n",
       "      <th>HOUS_PANTEX_out</th>\n",
       "      <th>BOIS_PNWG_in</th>\n",
       "      <th>BOIS_PNWG_out</th>\n",
       "      <th>...</th>\n",
       "      <th>AMST_LOND_in</th>\n",
       "      <th>AMST_LOND_out</th>\n",
       "      <th>FNAL_STAR_in</th>\n",
       "      <th>FNAL_STAR_out</th>\n",
       "      <th>BOST_STAR_in</th>\n",
       "      <th>BOST_STAR_out</th>\n",
       "      <th>BOST_NEWY_in</th>\n",
       "      <th>BOST_NEWY_out</th>\n",
       "      <th>ATLA_WASH_in</th>\n",
       "      <th>ATLA_WASH_out</th>\n",
       "    </tr>\n",
       "  </thead>\n",
       "  <tbody>\n",
       "    <tr>\n",
       "      <th>0</th>\n",
       "      <td>1.411093e+10</td>\n",
       "      <td>1.025131e+10</td>\n",
       "      <td>1.109243e+09</td>\n",
       "      <td>8.683116e+09</td>\n",
       "      <td>8.289831e+07</td>\n",
       "      <td>471952486.5</td>\n",
       "      <td>56650005.21</td>\n",
       "      <td>28102344.40</td>\n",
       "      <td>1.117868e+07</td>\n",
       "      <td>220096758.3</td>\n",
       "      <td>...</td>\n",
       "      <td>3.131858e+09</td>\n",
       "      <td>1.290804e+10</td>\n",
       "      <td>6.221437e+07</td>\n",
       "      <td>4.177833e+07</td>\n",
       "      <td>6.127005e+09</td>\n",
       "      <td>1.505475e+10</td>\n",
       "      <td>1.116761e+10</td>\n",
       "      <td>2.391813e+09</td>\n",
       "      <td>3.005335e+09</td>\n",
       "      <td>5.993152e+09</td>\n",
       "    </tr>\n",
       "    <tr>\n",
       "      <th>1</th>\n",
       "      <td>1.345362e+10</td>\n",
       "      <td>9.191558e+09</td>\n",
       "      <td>1.242256e+09</td>\n",
       "      <td>5.181239e+09</td>\n",
       "      <td>4.375739e+04</td>\n",
       "      <td>470169221.0</td>\n",
       "      <td>49307351.26</td>\n",
       "      <td>20240358.57</td>\n",
       "      <td>7.070847e+06</td>\n",
       "      <td>224528257.8</td>\n",
       "      <td>...</td>\n",
       "      <td>4.157574e+09</td>\n",
       "      <td>7.468747e+09</td>\n",
       "      <td>1.943452e+08</td>\n",
       "      <td>3.058273e+08</td>\n",
       "      <td>4.952796e+09</td>\n",
       "      <td>1.096238e+10</td>\n",
       "      <td>7.879534e+09</td>\n",
       "      <td>2.225971e+09</td>\n",
       "      <td>3.043124e+09</td>\n",
       "      <td>4.402875e+09</td>\n",
       "    </tr>\n",
       "    <tr>\n",
       "      <th>2</th>\n",
       "      <td>1.216888e+10</td>\n",
       "      <td>7.793842e+09</td>\n",
       "      <td>2.006322e+09</td>\n",
       "      <td>1.224286e+10</td>\n",
       "      <td>4.315725e+04</td>\n",
       "      <td>254319077.6</td>\n",
       "      <td>56843652.59</td>\n",
       "      <td>13076249.56</td>\n",
       "      <td>5.132826e+07</td>\n",
       "      <td>229200120.9</td>\n",
       "      <td>...</td>\n",
       "      <td>6.164468e+09</td>\n",
       "      <td>1.451626e+10</td>\n",
       "      <td>2.368597e+08</td>\n",
       "      <td>2.297360e+08</td>\n",
       "      <td>7.193835e+09</td>\n",
       "      <td>1.840171e+10</td>\n",
       "      <td>1.573402e+10</td>\n",
       "      <td>2.598615e+09</td>\n",
       "      <td>3.254450e+09</td>\n",
       "      <td>3.451973e+09</td>\n",
       "    </tr>\n",
       "    <tr>\n",
       "      <th>3</th>\n",
       "      <td>1.123120e+10</td>\n",
       "      <td>7.097238e+09</td>\n",
       "      <td>1.073181e+09</td>\n",
       "      <td>4.717642e+09</td>\n",
       "      <td>8.277154e+07</td>\n",
       "      <td>167067135.5</td>\n",
       "      <td>46645240.59</td>\n",
       "      <td>15344128.69</td>\n",
       "      <td>5.217827e+06</td>\n",
       "      <td>212289872.7</td>\n",
       "      <td>...</td>\n",
       "      <td>3.856222e+09</td>\n",
       "      <td>7.139046e+09</td>\n",
       "      <td>2.644591e+07</td>\n",
       "      <td>8.776042e+07</td>\n",
       "      <td>4.389148e+09</td>\n",
       "      <td>7.153226e+09</td>\n",
       "      <td>7.690503e+09</td>\n",
       "      <td>1.992397e+09</td>\n",
       "      <td>3.717638e+09</td>\n",
       "      <td>5.663406e+09</td>\n",
       "    </tr>\n",
       "    <tr>\n",
       "      <th>4</th>\n",
       "      <td>1.078085e+10</td>\n",
       "      <td>8.048294e+09</td>\n",
       "      <td>8.645069e+08</td>\n",
       "      <td>1.987249e+09</td>\n",
       "      <td>3.343548e+04</td>\n",
       "      <td>113702282.5</td>\n",
       "      <td>30966947.37</td>\n",
       "      <td>23023533.87</td>\n",
       "      <td>7.495363e+06</td>\n",
       "      <td>213758038.0</td>\n",
       "      <td>...</td>\n",
       "      <td>2.483093e+09</td>\n",
       "      <td>4.691328e+09</td>\n",
       "      <td>3.782775e+07</td>\n",
       "      <td>7.183373e+07</td>\n",
       "      <td>2.982568e+09</td>\n",
       "      <td>4.568829e+09</td>\n",
       "      <td>4.828736e+09</td>\n",
       "      <td>2.083069e+09</td>\n",
       "      <td>3.753083e+09</td>\n",
       "      <td>4.915730e+09</td>\n",
       "    </tr>\n",
       "  </tbody>\n",
       "</table>\n",
       "<p>5 rows × 96 columns</p>\n",
       "</div>"
      ],
      "text/plain": [
       "   SACR_SUNN_in  SACR_SUNN_out  LOND_NEWY_in  LOND_NEWY_out   JGI_SACR_in  \\\n",
       "0  1.411093e+10   1.025131e+10  1.109243e+09   8.683116e+09  8.289831e+07   \n",
       "1  1.345362e+10   9.191558e+09  1.242256e+09   5.181239e+09  4.375739e+04   \n",
       "2  1.216888e+10   7.793842e+09  2.006322e+09   1.224286e+10  4.315725e+04   \n",
       "3  1.123120e+10   7.097238e+09  1.073181e+09   4.717642e+09  8.277154e+07   \n",
       "4  1.078085e+10   8.048294e+09  8.645069e+08   1.987249e+09  3.343548e+04   \n",
       "\n",
       "   JGI_SACR_out  HOUS_PANTEX_in  HOUS_PANTEX_out  BOIS_PNWG_in  BOIS_PNWG_out  \\\n",
       "0   471952486.5     56650005.21      28102344.40  1.117868e+07    220096758.3   \n",
       "1   470169221.0     49307351.26      20240358.57  7.070847e+06    224528257.8   \n",
       "2   254319077.6     56843652.59      13076249.56  5.132826e+07    229200120.9   \n",
       "3   167067135.5     46645240.59      15344128.69  5.217827e+06    212289872.7   \n",
       "4   113702282.5     30966947.37      23023533.87  7.495363e+06    213758038.0   \n",
       "\n",
       "   ...  AMST_LOND_in  AMST_LOND_out  FNAL_STAR_in  FNAL_STAR_out  \\\n",
       "0  ...  3.131858e+09   1.290804e+10  6.221437e+07   4.177833e+07   \n",
       "1  ...  4.157574e+09   7.468747e+09  1.943452e+08   3.058273e+08   \n",
       "2  ...  6.164468e+09   1.451626e+10  2.368597e+08   2.297360e+08   \n",
       "3  ...  3.856222e+09   7.139046e+09  2.644591e+07   8.776042e+07   \n",
       "4  ...  2.483093e+09   4.691328e+09  3.782775e+07   7.183373e+07   \n",
       "\n",
       "   BOST_STAR_in  BOST_STAR_out  BOST_NEWY_in  BOST_NEWY_out  ATLA_WASH_in  \\\n",
       "0  6.127005e+09   1.505475e+10  1.116761e+10   2.391813e+09  3.005335e+09   \n",
       "1  4.952796e+09   1.096238e+10  7.879534e+09   2.225971e+09  3.043124e+09   \n",
       "2  7.193835e+09   1.840171e+10  1.573402e+10   2.598615e+09  3.254450e+09   \n",
       "3  4.389148e+09   7.153226e+09  7.690503e+09   1.992397e+09  3.717638e+09   \n",
       "4  2.982568e+09   4.568829e+09  4.828736e+09   2.083069e+09  3.753083e+09   \n",
       "\n",
       "   ATLA_WASH_out  \n",
       "0   5.993152e+09  \n",
       "1   4.402875e+09  \n",
       "2   3.451973e+09  \n",
       "3   5.663406e+09  \n",
       "4   4.915730e+09  \n",
       "\n",
       "[5 rows x 96 columns]"
      ]
     },
     "execution_count": 10,
     "metadata": {},
     "output_type": "execute_result"
    }
   ],
   "source": [
    "df.head()"
   ]
  },
  {
   "cell_type": "code",
   "execution_count": 11,
   "metadata": {},
   "outputs": [],
   "source": [
    "# #df = StandardScaler().fit_transform(df)\n",
    "\n",
    "\n",
    "# x = df.values #returns a numpy array\n",
    "# min_max_scaler = preprocessing.MinMaxScaler()\n",
    "# x_scaled = min_max_scaler.fit_transform(x)\n",
    "# df = pd.DataFrame(x_scaled)"
   ]
  },
  {
   "cell_type": "code",
   "execution_count": 12,
   "metadata": {},
   "outputs": [
    {
     "data": {
      "text/plain": [
       "(8760, 96)"
      ]
     },
     "execution_count": 12,
     "metadata": {},
     "output_type": "execute_result"
    }
   ],
   "source": [
    "df.shape"
   ]
  },
  {
   "cell_type": "code",
   "execution_count": 13,
   "metadata": {},
   "outputs": [],
   "source": [
    "metadata = os.path.join(LOG_DIR, 'df.tsv')"
   ]
  },
  {
   "cell_type": "code",
   "execution_count": 14,
   "metadata": {},
   "outputs": [],
   "source": [
    "# Generating PCA and \n",
    "pca = PCA(n_components=96,\n",
    "         random_state = 123,\n",
    "         svd_solver = 'auto'\n",
    "         )\n",
    "\n",
    "df_pca = pd.DataFrame(pca.fit_transform(df))\n",
    "df_pca = df_pca.values"
   ]
  },
  {
   "cell_type": "code",
   "execution_count": 15,
   "metadata": {},
   "outputs": [],
   "source": [
    "## TensorFlow Variable from data\n",
    "tf_data = tf.Variable(df_pca)"
   ]
  },
  {
   "cell_type": "code",
   "execution_count": 16,
   "metadata": {},
   "outputs": [],
   "source": [
    "## Running TensorFlow Session\n",
    "with tf.Session() as sess:\n",
    "    saver = tf.train.Saver([tf_data])\n",
    "    sess.run(tf_data.initializer)\n",
    "    saver.save(sess, os.path.join(LOG_DIR, 'tf_data.ckpt'))\n",
    "    config = projector.ProjectorConfig()\n",
    "    "
   ]
  },
  {
   "cell_type": "code",
   "execution_count": 17,
   "metadata": {},
   "outputs": [],
   "source": [
    "# One can add multiple embeddings.\n",
    "embedding = config.embeddings.add()\n",
    "embedding.tensor_name = tf_data.name"
   ]
  },
  {
   "cell_type": "code",
   "execution_count": 18,
   "metadata": {},
   "outputs": [],
   "source": [
    "# Link this tensor to its metadata(Labels) file\n",
    "embedding.metadata_path = metadata"
   ]
  },
  {
   "cell_type": "code",
   "execution_count": 19,
   "metadata": {},
   "outputs": [],
   "source": [
    "# Saves a config file that TensorBoard will read during startup.\n",
    "projector.visualize_embeddings(tf.summary.FileWriter(LOG_DIR), config)"
   ]
  },
  {
   "cell_type": "code",
   "execution_count": 20,
   "metadata": {},
   "outputs": [
    {
     "name": "stdout",
     "output_type": "stream",
     "text": [
      "embeddings {\n",
      "  tensor_name: \"Variable:0\"\n",
      "  metadata_path: \"/Users/bashirmohammed/Documents/GitHub/daphne/Bashirs_coderoom_testing/anl/project-tensorboard/log-1/df.tsv\"\n",
      "}\n",
      "\n"
     ]
    }
   ],
   "source": [
    "print(config)"
   ]
  },
  {
   "cell_type": "code",
   "execution_count": 21,
   "metadata": {},
   "outputs": [
    {
     "name": "stdout",
     "output_type": "stream",
     "text": [
      "hello\n"
     ]
    }
   ],
   "source": [
    "print('hello')"
   ]
  },
  {
   "cell_type": "code",
   "execution_count": null,
   "metadata": {},
   "outputs": [],
   "source": [
    "# import pkg_resources\n",
    "\n",
    "# for entry_point in pkg_resources.iter_entry_points('tensorboard_plugins'):\n",
    "#     print(entry_point.dist)"
   ]
  },
  {
   "cell_type": "code",
   "execution_count": null,
   "metadata": {},
   "outputs": [],
   "source": [
    "#!sudo pip list --format=freeze | grep tensorboard | xargs pip uninstall -y"
   ]
  },
  {
   "cell_type": "code",
   "execution_count": null,
   "metadata": {},
   "outputs": [],
   "source": [
    "#tensorboard --logdir /Users/bashirmohammed/Dropbox/CodeRoom/Python/python3_jose/project-tensorboard/log-1/ --port=6006"
   ]
  }
 ],
 "metadata": {
  "kernelspec": {
   "display_name": "Python 3",
   "language": "python",
   "name": "python3"
  },
  "language_info": {
   "codemirror_mode": {
    "name": "ipython",
    "version": 3
   },
   "file_extension": ".py",
   "mimetype": "text/x-python",
   "name": "python",
   "nbconvert_exporter": "python",
   "pygments_lexer": "ipython3",
   "version": "3.7.4"
  }
 },
 "nbformat": 4,
 "nbformat_minor": 2
}
