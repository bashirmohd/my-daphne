{
 "cells": [
  {
   "cell_type": "code",
   "execution_count": 1,
   "metadata": {},
   "outputs": [],
   "source": [
    "from pydstarlite.utility import *\n",
    "from pydstarlite.dstarlite import DStarLite\n",
    "from matplotlib import pyplot as plt\n",
    "import numpy as np\n",
    "from matplotlib import animation\n",
    "from IPython.display import HTML\n",
    "%matplotlib inline"
   ]
  },
  {
   "cell_type": "code",
   "execution_count": 2,
   "metadata": {},
   "outputs": [],
   "source": [
    "GRAPH, START, END = grid_from_string(\"\"\"\n",
    "#####################\n",
    "A.......#.......#...#\n",
    "#######.#######.#.#.#\n",
    "#.#...#.#.....#...#.#\n",
    "#.#.#.#.#.###.###.#.#\n",
    "#...#.#.....#.#...#.#\n",
    "#####.#####.#.#.###.#\n",
    "#...#.....#.#.#.#...#\n",
    "#.#.###.#.#.#.#.#.###\n",
    "#.#.....#.#.#...#.#.#\n",
    "#.#######.###.###.#.#\n",
    "#...#...#.....#.....#\n",
    "###.###.#######.#.###\n",
    "#.#.....#.......#...#\n",
    "#.###.###.#########.#\n",
    "#...#.#...#.....#.#.#\n",
    "###.#.#.#######.#.#.#\n",
    "#...#.#...#...#.#.#.#\n",
    "#.#.#####.#.#.#.#.#.#\n",
    "#.#.........#...#...Z\n",
    "#####################\n",
    "\"\"\")"
   ]
  },
  {
   "cell_type": "code",
   "execution_count": 3,
   "metadata": {},
   "outputs": [],
   "source": [
    "came_from, cost_so_far = a_star_search(GRAPH, START, END)"
   ]
  },
  {
   "cell_type": "code",
   "execution_count": 4,
   "metadata": {},
   "outputs": [
    {
     "name": "stdout",
     "output_type": "stream",
     "text": [
      "#####################\n",
      "@@@@@@@@#.......#@@@#\n",
      "#######@#######.#@#@#\n",
      "#.#...#@#@@@@@#..@#@#\n",
      "#.#.#.#@#@###@###@#@#\n",
      "#...#.#@@@..#@#@@@#@#\n",
      "#####.#####.#@#@###@#\n",
      "#...#.....#.#@#@#@@@#\n",
      "#.#.###.#.#.#@#@#@###\n",
      "#.#.....#.#.#@@@#@#.#\n",
      "#.#######.###.###@#.#\n",
      "#...#...#.....#..@..#\n",
      "###.###.#######.#@###\n",
      "#.#.....#.......#@@@#\n",
      "#.###.###.#########@#\n",
      "#...#.#...#.....#.#@#\n",
      "###.#.#.#######.#.#@#\n",
      "#...#.#...#...#.#.#@#\n",
      "#.#.#####.#.#.#.#.#@#\n",
      "#.#.........#...#..@@\n",
      "#####################\n"
     ]
    }
   ],
   "source": [
    "draw_grid(GRAPH, width=1, path=reconstruct_path(came_from, start=START, goal=END))"
   ]
  },
  {
   "cell_type": "code",
   "execution_count": 5,
   "metadata": {},
   "outputs": [
    {
     "name": "stdout",
     "output_type": "stream",
     "text": [
      "Automatic pdb calling has been turned ON\n"
     ]
    }
   ],
   "source": [
    "%pdb"
   ]
  },
  {
   "cell_type": "code",
   "execution_count": 6,
   "metadata": {},
   "outputs": [],
   "source": [
    "def empty_image(graph):\n",
    "    image = 0.5 * np.ones((GRAPH.width, GRAPH.height, 4))\n",
    "    image[:, :, 3] = 1\n",
    "    return image"
   ]
  },
  {
   "cell_type": "code",
   "execution_count": 7,
   "metadata": {},
   "outputs": [
    {
     "data": {
      "image/png": "[encoded data removed]",
      "text/plain": [
       "<Figure size 720x720 with 1 Axes>"
      ]
     },
     "metadata": {},
     "output_type": "display_data"
    }
   ],
   "source": [
    "data = empty_image(GRAPH)\n",
    "fig = plt.figure(figsize=(10,10))\n",
    "ax = plt.axes()\n",
    "img = ax.imshow(data)"
   ]
  },
  {
   "cell_type": "code",
   "execution_count": 8,
   "metadata": {},
   "outputs": [],
   "source": [
    "dstar = DStarLite(GRAPH, START, END, view_range=2)"
   ]
  },
  {
   "cell_type": "code",
   "execution_count": 9,
   "metadata": {},
   "outputs": [],
   "source": [
    "SIMULATION = dstar.move_to_goal()"
   ]
  },
  {
   "cell_type": "code",
   "execution_count": 10,
   "metadata": {},
   "outputs": [],
   "source": [
    "def init():\n",
    "    img.set_data(data)\n",
    "    return img,"
   ]
  },
  {
   "cell_type": "code",
   "execution_count": 11,
   "metadata": {},
   "outputs": [],
   "source": [
    "def animate(args):\n",
    "    (position, observation, walls) = args\n",
    "    tmp = empty_image(GRAPH)\n",
    "    tmp[END[1], END[0]] = [0, 0, 1, 1]\n",
    "\n",
    "    tmp[position[1], position[0]] = [1, 0, 0, 1]\n",
    "    for (x, y) in walls:\n",
    "        tmp[y, x] = [0,0,0,1]\n",
    "    for (x, y) in observation.keys():\n",
    "        if (x, y) == position:\n",
    "            continue\n",
    "        else:\n",
    "            (r, g, b, a) = tmp[y, x]\n",
    "            tmp[y, x] = [r, g, b, 0.7]\n",
    "    img.set_data(tmp)\n",
    "    return img,"
   ]
  },
  {
   "cell_type": "code",
   "execution_count": 12,
   "metadata": {},
   "outputs": [],
   "source": [
    "anim = animation.FuncAnimation(fig, animate, init_func=init,\n",
    "                               frames=SIMULATION, interval=200, blit=True, save_count=100000)"
   ]
  },
  {
   "cell_type": "code",
   "execution_count": 13,
   "metadata": {},
   "outputs": [],
   "source": [
    "# Requires ffmpeg installed - `brew install ffmpeg` on Mac\n",
    "#HTML(anim.to_html5_video())"
   ]
  },
  {
   "cell_type": "code",
   "execution_count": 14,
   "metadata": {},
   "outputs": [],
   "source": [
    "anim.save('pydstarlite.gif', dpi=80, writer='imagemagick')"
   ]
  },
  {
   "cell_type": "code",
   "execution_count": 15,
   "metadata": {},
   "outputs": [
    {
     "name": "stdout",
     "output_type": "stream",
     "text": [
      "Couldn't get a file descriptor referring to the console\r\n"
     ]
    }
   ],
   "source": [
    "!open ."
   ]
  },
  {
   "cell_type": "code",
   "execution_count": null,
   "metadata": {
    "collapsed": true
   },
   "outputs": [],
   "source": []
  }
 ],
 "metadata": {
  "kernelspec": {
   "display_name": "Python 3",
   "language": "python",
   "name": "python3"
  },
  "language_info": {
   "codemirror_mode": {
    "name": "ipython",
    "version": 3
   },
   "file_extension": ".py",
   "mimetype": "text/x-python",
   "name": "python",
   "nbconvert_exporter": "python",
   "pygments_lexer": "ipython3",
   "version": "3.6.5"
  },
  "toc": {
   "base_numbering": 1,
   "nav_menu": {},
   "number_sections": false,
   "sideBar": false,
   "skip_h1_title": false,
   "title_cell": "Table of Contents",
   "title_sidebar": "Contents",
   "toc_cell": false,
   "toc_position": {},
   "toc_section_display": false,
   "toc_window_display": false
  }
 },
 "nbformat": 4,
 "nbformat_minor": 2
}
