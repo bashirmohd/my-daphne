{
 "cells": [
  {
   "cell_type": "code",
   "execution_count": 1,
   "metadata": {},
   "outputs": [],
   "source": [
    "import requests\n",
    "import json\n",
    "import matplotlib.pyplot as plt\n",
    "import numpy as np\n",
    "import pandas as pd\n",
    "import datetime\n",
    "import dateutil.parser\n",
    "from threading import Thread\n",
    "%matplotlib qt"
   ]
  },
  {
   "cell_type": "code",
   "execution_count": 2,
   "metadata": {},
   "outputs": [],
   "source": [
    "id = 1767\n",
    "beginTime = '2017-05-20T18:22:53.253Z'\n",
    "endTime = '2018-05-21T18:22:53.253Z'"
   ]
  },
  {
   "cell_type": "code",
   "execution_count": 3,
   "metadata": {},
   "outputs": [],
   "source": [
    "class SNMPstream(object):\n",
    "    \n",
    "    def __init__(self, id, start, stop):\n",
    "        self.id = id\n",
    "        self.e1 = None\n",
    "        self.e2 = None\n",
    "        self.startdt = dateutil.parser.parse(start)\n",
    "        self.stopdt = dateutil.parser.parse(stop)\n",
    "        self.prefetched = self.fetch(self.startdt, self.stopdt)\n",
    "        self.currblock = None\n",
    "        self.current = None\n",
    "        self.end = False\n",
    "        self.prefetch()\n",
    "        \n",
    "    def __iter__(self): \n",
    "        return self\n",
    "    \n",
    "    def __next__(self):\n",
    "        if self.startdt >= self.stopdt and self.end:\n",
    "            raise StopIteration\n",
    "        if self.prefetched == None:\n",
    "            Thread(target=self.prefetch).start()\n",
    "        if self.currblock == None:\n",
    "            self.currblock = self.prefetched\n",
    "        self.current = self.currblock.pop()\n",
    "        print(self.current)\n",
    "        return self.current\n",
    "    \n",
    "    def run_query(self, query): # A simple function to use requests to make the API call.\n",
    "        request = requests.get('https://my.es.net/graphql', json={'query': query})\n",
    "        if request.status_code == 200:\n",
    "           return request.json()\n",
    "        else:\n",
    "           raise Exception(\"Query failed to run by returning code of {}. {}\".format(request.status_code, query))\n",
    "    \n",
    "    def fetch(self, startdt, stopdt):\n",
    "        beginTime = startdt.isoformat()[:-9] + 'Z'\n",
    "        endTime = stopdt.isoformat()[:-9] + 'Z'\n",
    "        query = '''\n",
    "        {\n",
    "          mapTopologyEdge(id: \"%d\") {\n",
    "                name\n",
    "            traffic(beginTime: \"%s\", endTime: \"%s\")\n",
    "          }\n",
    "        }\n",
    "        ''' % (self.id, beginTime, endTime)\n",
    "        print(\"fetching\", beginTime, endTime)\n",
    "        data = self.run_query(query)\n",
    "        print(data)\n",
    "        datastr = data[\"data\"][\"mapTopologyEdge\"][\"traffic\"]\n",
    "        self.e1, self.e2 = json.loads(datastr)[\"labels\"]\n",
    "        cleaned_data = np.array(json.loads(datastr)[\"points\"])\n",
    "        return cleaned_data\n",
    "    \n",
    "    def prefetch(self):\n",
    "        if self.startdt + datetime.timedelta(1) < self.stopdt:\n",
    "            self.prefetched = self.fetch(self.startdt, self.startdt + datetime.timedelta(1))\n",
    "            self.startdt = self.startdt + datetime.timedelta(1)\n",
    "        else:\n",
    "            self.prefetched = self.fetch(self.startdt, self.stopdt)\n",
    "            self.end = True"
   ]
  },
  {
   "cell_type": "code",
   "execution_count": null,
   "metadata": {},
   "outputs": [
    {
     "name": "stdout",
     "output_type": "stream",
     "text": [
      "fetching 2017-05-20T18:22:53.253Z 2018-05-21T18:22:53.253Z\n"
     ]
    }
   ],
   "source": [
    "def plot_stream(id, beginTime, endTime):    \n",
    "    import matplotlib.pyplot as plt\n",
    "    import time\n",
    "\n",
    "    xdata = []\n",
    "    ydata1 = []\n",
    "    ydata2 = []\n",
    "    datastream = SNMPstream(id, beginTime, endTime)\n",
    "    \n",
    "    plt.show()\n",
    "\n",
    "    axes = plt.gca()\n",
    "    line1, = axes.plot(xdata, ydata1, 'skyblue', linewidth=1)\n",
    "    line2, = axes.plot(xdata, ydata2, 'olive', linewidth=1)\n",
    "    line1.set_label(datastream.e1)\n",
    "    line2.set_label(datastream.e2)\n",
    "    axes.legend(loc=1)\n",
    "\n",
    "    for i in datastream:\n",
    "        if len(xdata) == 100:\n",
    "            del xdata[0]\n",
    "            del ydata1[0]\n",
    "            del ydata2[0]\n",
    "        xdata.append(i[0])\n",
    "        ydata1.append(i[1])\n",
    "        ydata2.append(i[2])\n",
    "        line1.set_xdata(xdata)\n",
    "        line1.set_ydata(ydata1)\n",
    "        line2.set_xdata(xdata)\n",
    "        line2.set_ydata(ydata2)\n",
    "        axes.relim()\n",
    "        axes.autoscale_view()\n",
    "        plt.draw()\n",
    "        plt.pause(1e-17)\n",
    "        time.sleep(0.1)\n",
    "\n",
    "    # add this if you don't want the window to disappear at the end\n",
    "    plt.show()\n",
    "plot_stream(id, beginTime, endTime)"
   ]
  },
  {
   "cell_type": "code",
   "execution_count": null,
   "metadata": {},
   "outputs": [],
   "source": []
  }
 ],
 "metadata": {
  "kernelspec": {
   "display_name": "Python 3",
   "language": "python",
   "name": "python3"
  },
  "language_info": {
   "codemirror_mode": {
    "name": "ipython",
    "version": 3
   },
   "file_extension": ".py",
   "mimetype": "text/x-python",
   "name": "python",
   "nbconvert_exporter": "python",
   "pygments_lexer": "ipython3",
   "version": "3.6.5"
  }
 },
 "nbformat": 4,
 "nbformat_minor": 2
}
