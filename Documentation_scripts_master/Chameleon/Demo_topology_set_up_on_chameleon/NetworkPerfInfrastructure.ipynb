{
 "cells": [
  {
   "cell_type": "markdown",
   "metadata": {},
   "source": [
    "## Network Performance Monitoring Infrastructure setup using 2 seperate VLANS connected to a each other via a router.\n",
    "\n",
    "We use Chameleon DirectStitch ports to connect isolated tenant networks at each of the two Chameleon sites and Chicago and Texas.  \n",
    "\n",
    "\n",
    "### Set Variables\n",
    "\n",
    "  - `OS_PROJECT_NAME`: The name of the project you want to use.\n",
    "  - `UC_RESERVATION`: Reservation ID at UC.\n",
    "  - `TACC_RESERVATION`: Reservation ID at TACC.\n",
    "  - `SSH_KEY_NAME`: SSH key name as registered in Chameleon\n",
    "  - `SSH_PRIVATE_KEY`: Path to the corresponding private key in your Jupyter container.\n",
    "  - `NETWORK_SUBNET`: Private IP subnet that will span both Chameleon sites.\n",
    "  - `UC_ALLOCATION_START`: The start of the IP range assigned at the UC site.\n",
    "  - `UC_ALLOCATION_END`: The end of the IP range assigned at the UC site.\n",
    "  - `TACC_ALLOCATION_START`: The start of the IP range assigned at the TACC site.\n",
    "  - `TACC_ALLOCATION_END`: The start of the IP range assigned at the TACC site.\n",
    "  - `RESOURCE_PREFIX`: A begin string used to idenify resources provision. This includes your user ID so that your resources can be distinguised from those belonging to other tutorial particpants.\n",
    "  - `GENI_PEM_FILE`: The path to your GENI certificate file in you Jupyter container.\n",
    "  - `UC_DIRECTSTITCH_VLAN`: The VLAN using to attach to the DirectStitch port at UC.\n",
    "  - `TACC_DIRECTSTITCH_VLAN`: The VLAN using to attach to the DirectStitch port at TACC."
   ]
  },
  {
   "cell_type": "code",
   "execution_count": 31,
   "metadata": {},
   "outputs": [],
   "source": [
    "# Set up user's project (user's can be multiple ones, so there is no default currently)\n",
    "export OS_PROJECT_NAME='MC4N'\n",
    "\n",
    "# Set chameleon keypair name and path to the private ssh key\n",
    "export SSH_KEY_NAME=${USERNAME}-uc-mc4n-key\n",
    "export SSH_PRIVATE_KEY=${HOME}/work/bmohd-chameleon-jupyter\n",
    "\n",
    "export NETWORK_SUBNET=\"192.168.100.0/24\"\n",
    "export UC_ALLOCATION_START=\"192.168.100.10\"\n",
    "export UC_ALLOCATION_END=\"192.168.100.19\"\n",
    "export TACC_ALLOCATION_START=\"192.168.100.20\"\n",
    "export TACC_ALLOCATION_END=\"192.168.100.29\"\n",
    "\n",
    "export RESOURCE_PREFIX=\"$USER-netperform-$(date +%b%d)\"\n",
    "\n",
    "export GENI_PEM_FILE=\"~/work/geni-bmohamme.pem\"\n"
   ]
  },
  {
   "cell_type": "code",
   "execution_count": 30,
   "metadata": {},
   "outputs": [
    {
     "name": "stdout",
     "output_type": "stream",
     "text": [
      "/work/work\n"
     ]
    }
   ],
   "source": [
    "pwd"
   ]
  },
  {
   "cell_type": "markdown",
   "metadata": {},
   "source": [
    "## Step 1: Create Chameleon Isolated Network(s) with DirectStitch Ports\n",
    "\n",
    "Creating a Chameleon DirectStitch port is as easy as creating an isolated VLAN but with an extra parameter requesting the port.We create a two Chameleon networks each with a DirectConnect port. One network will be at the UC (Chicago) while the other will be at TACC (Austin)."
   ]
  },
  {
   "cell_type": "markdown",
   "metadata": {},
   "source": [
    "### Step 1a: Create a Network a UC\n",
    "\n",
    "#### Set network resource names"
   ]
  },
  {
   "cell_type": "code",
   "execution_count": 32,
   "metadata": {},
   "outputs": [],
   "source": [
    "UC_RESERVATION_NAME=${RESOURCE_PREFIX}\"-UC\"\n",
    "\n",
    "# Set the names for the network, subnet, router, and switch. \n",
    "UC_NETWORK_NAME=${RESOURCE_PREFIX}\"-Network-UC\"\n",
    "UC_SUBNET_NAME=${RESOURCE_PREFIX}\"-Subnet-UC\"\n",
    "UC_ROUTER_NAME=${RESOURCE_PREFIX}\"-Router-UC\"\n",
    "\n"
   ]
  },
  {
   "cell_type": "markdown",
   "metadata": {},
   "source": [
    "#### Create the Network"
   ]
  },
  {
   "cell_type": "code",
   "execution_count": 33,
   "metadata": {},
   "outputs": [
    {
     "name": "stdout",
     "output_type": "stream",
     "text": [
      "Creating network\n",
      "Matches: ('min=1,max=7', 'resource_properties', '[\"=\", \"$node_type\", \"compute_haswell\"]')\n",
      "Matches: ('min=1', 'max', '7')\n",
      "Matches: (None, 'min', '1')\n",
      "Matches: ('resource_type=virtual:floatingip,network_id=44b38c44-2a42-4b6d-b129-6c8f1b2a1375', 'amount', '1')\n",
      "Matches: ('resource_type=virtual:floatingip', 'network_id', '44b38c44-2a42-4b6d-b129-6c8f1b2a1375')\n",
      "Matches: (None, 'resource_type', 'virtual:floatingip')\n",
      "Matches: ('resource_type=network,network_name=bmohd1-netperform-Jul02-Network-UC', 'resource_properties', '[\"==\",\"$physical_network\",\"exogeni\"]')\n",
      "Matches: ('resource_type=network', 'network_name', 'bmohd1-netperform-Jul02-Network-UC')\n",
      "Matches: (None, 'resource_type', 'network')\n",
      "Created a new lease:\n",
      "+--------------+----------------------------------------------------------------------------+\n",
      "| Field        | Value                                                                      |\n",
      "+--------------+----------------------------------------------------------------------------+\n",
      "| created_at   | 2020-07-02 01:16:51                                                        |\n",
      "| degraded     | False                                                                      |\n",
      "| end_date     | 2020-07-07T01:16:00.000000                                                 |\n",
      "| events       | {                                                                          |\n",
      "|              |     \"status\": \"UNDONE\",                                                    |\n",
      "|              |     \"lease_id\": \"71e6c2e9-430a-45e4-916e-a73764153653\",                    |\n",
      "|              |     \"event_type\": \"before_end_lease\",                                      |\n",
      "|              |     \"created_at\": \"2020-07-02 01:17:00\",                                   |\n",
      "|              |     \"updated_at\": null,                                                    |\n",
      "|              |     \"time\": \"2020-07-05T01:16:00.000000\",                                  |\n",
      "|              |     \"id\": \"3cd6cc7c-fb88-4df7-a76f-2f5ecb9f4633\"                           |\n",
      "|              | }                                                                          |\n",
      "|              | {                                                                          |\n",
      "|              |     \"status\": \"UNDONE\",                                                    |\n",
      "|              |     \"lease_id\": \"71e6c2e9-430a-45e4-916e-a73764153653\",                    |\n",
      "|              |     \"event_type\": \"start_lease\",                                           |\n",
      "|              |     \"created_at\": \"2020-07-02 01:17:00\",                                   |\n",
      "|              |     \"updated_at\": null,                                                    |\n",
      "|              |     \"time\": \"2020-07-02T01:18:00.000000\",                                  |\n",
      "|              |     \"id\": \"7e98983c-2ff1-4a2a-a6ad-48a5172adacd\"                           |\n",
      "|              | }                                                                          |\n",
      "|              | {                                                                          |\n",
      "|              |     \"status\": \"UNDONE\",                                                    |\n",
      "|              |     \"lease_id\": \"71e6c2e9-430a-45e4-916e-a73764153653\",                    |\n",
      "|              |     \"event_type\": \"end_lease\",                                             |\n",
      "|              |     \"created_at\": \"2020-07-02 01:17:00\",                                   |\n",
      "|              |     \"updated_at\": null,                                                    |\n",
      "|              |     \"time\": \"2020-07-07T01:16:00.000000\",                                  |\n",
      "|              |     \"id\": \"e28c6676-d776-48fa-b224-41876e052edc\"                           |\n",
      "|              | }                                                                          |\n",
      "| id           | 71e6c2e9-430a-45e4-916e-a73764153653                                       |\n",
      "| name         | bmohd1-netperform-Jul02-UC                                                 |\n",
      "| project_id   | c6c0856c1db04d01af8d4e63ff900c7c                                           |\n",
      "| reservations | {                                                                          |\n",
      "|              |     \"status\": \"pending\",                                                   |\n",
      "|              |     \"lease_id\": \"71e6c2e9-430a-45e4-916e-a73764153653\",                    |\n",
      "|              |     \"resource_id\": \"8df57bd8-ac28-4aa9-ab3d-ff551470200f\",                 |\n",
      "|              |     \"network_id\": \"44b38c44-2a42-4b6d-b129-6c8f1b2a1375\",                  |\n",
      "|              |     \"created_at\": \"2020-07-02 01:16:57\",                                   |\n",
      "|              |     \"updated_at\": \"2020-07-02 01:16:58\",                                   |\n",
      "|              |     \"required_floatingips\": [],                                            |\n",
      "|              |     \"missing_resources\": false,                                            |\n",
      "|              |     \"amount\": 1,                                                           |\n",
      "|              |     \"id\": \"19594bfb-ec2d-4b78-bb4c-93d8a019bde7\",                          |\n",
      "|              |     \"resource_type\": \"virtual:floatingip\",                                 |\n",
      "|              |     \"resources_changed\": false                                             |\n",
      "|              | }                                                                          |\n",
      "|              | {                                                                          |\n",
      "|              |     \"status\": \"pending\",                                                   |\n",
      "|              |     \"before_end\": \"default\",                                               |\n",
      "|              |     \"lease_id\": \"71e6c2e9-430a-45e4-916e-a73764153653\",                    |\n",
      "|              |     \"resource_id\": \"730e9dc8-2a0b-43f3-b321-e2d8117d8cc0\",                 |\n",
      "|              |     \"max\": 7,                                                              |\n",
      "|              |     \"created_at\": \"2020-07-02 01:16:51\",                                   |\n",
      "|              |     \"min\": 1,                                                              |\n",
      "|              |     \"updated_at\": \"2020-07-02 01:16:57\",                                   |\n",
      "|              |     \"missing_resources\": false,                                            |\n",
      "|              |     \"hypervisor_properties\": \"\",                                           |\n",
      "|              |     \"on_start\": \"default\",                                                 |\n",
      "|              |     \"resource_properties\": \"[\\\"=\\\", \\\"$node_type\\\", \\\"compute_haswell\\\"]\", |\n",
      "|              |     \"id\": \"702bc5bd-0ac3-48c3-b7bc-ff9d3b67b8ed\",                          |\n",
      "|              |     \"resource_type\": \"physical:host\",                                      |\n",
      "|              |     \"resources_changed\": false                                             |\n",
      "|              | }                                                                          |\n",
      "|              | {                                                                          |\n",
      "|              |     \"status\": \"pending\",                                                   |\n",
      "|              |     \"lease_id\": \"71e6c2e9-430a-45e4-916e-a73764153653\",                    |\n",
      "|              |     \"resource_id\": \"56b4a9b4-c31c-4f0e-b1ac-b3400215c0ee\",                 |\n",
      "|              |     \"created_at\": \"2020-07-02 01:16:58\",                                   |\n",
      "|              |     \"updated_at\": \"2020-07-02 01:17:00\",                                   |\n",
      "|              |     \"missing_resources\": false,                                            |\n",
      "|              |     \"id\": \"96f1e969-3530-4749-bb9f-2aeee24e3a95\",                          |\n",
      "|              |     \"resource_type\": \"network\",                                            |\n",
      "|              |     \"resources_changed\": false                                             |\n",
      "|              | }                                                                          |\n",
      "| start_date   | 2020-07-02T01:18:00.000000                                                 |\n",
      "| status       | PENDING                                                                    |\n",
      "| trust_id     | 26cedb3a75364a3eb17ff21df8bb2734                                           |\n",
      "| updated_at   | 2020-07-02 01:17:00                                                        |\n",
      "| user_id      | e325e79f2bc74500840cf8060bd9c310                                           |\n",
      "+--------------+----------------------------------------------------------------------------+\n",
      "UC_RESERVATION 71e6c2e9-430a-45e4-916e-a73764153653\n",
      "UC_NODE_RESERVATION 702bc5bd-0ac3-48c3-b7bc-ff9d3b67b8ed\n"
     ]
    }
   ],
   "source": [
    "OS_REGION_NAME='CHI@UC'\n",
    "\n",
    "START_DATE=`date -d \"+2 min\" +'%F %H:%M'`\n",
    "END_DATE=`date -d \"+5 day\" +'%F %H:%M'`\n",
    "\n",
    "PUBLIC_NETWORK_ID=$(openstack network show public -c id -f value)\n",
    "\n",
    "echo Creating network ${EXOGENI_STITCH_NAME}\n",
    "blazar lease-create \\\n",
    "   --physical-reservation min=1,max=7,resource_properties='[\"=\", \"$node_type\", \"compute_haswell\"]' \\\n",
    "   --reservation resource_type=virtual:floatingip,network_id=${PUBLIC_NETWORK_ID},amount=1 \\\n",
    "   --reservation resource_type=\"network\",network_name=\"${UC_NETWORK_NAME}\",resource_properties='[\"==\",\"$physical_network\",\"exogeni\"]' \\\n",
    "   --start-date \"${START_DATE}\" \\\n",
    "   --end-date \"${END_DATE}\" \\\n",
    "   ${UC_RESERVATION_NAME}\n",
    "\n",
    "UC_RESERVATION=`blazar lease-show --format value -c id ${UC_RESERVATION_NAME}`\n",
    "echo UC_RESERVATION $UC_RESERVATION\n",
    "\n",
    "UC_NODE_RESERVATION=`blazar lease-show -json --format value -c reservations ${UC_RESERVATION_NAME} | jq -r 'select(.resource_type | contains(\"physical:host\")) | .id'`\n",
    "echo UC_NODE_RESERVATION $UC_NODE_RESERVATION\n"
   ]
  },
  {
   "cell_type": "markdown",
   "metadata": {},
   "source": [
    "#### Get the DirectStitch VLAN Tag\n",
    "\n",
    "Note: this will not be successful until the network is created. You may need to rerun this command until the VLAN tag is found."
   ]
  },
  {
   "cell_type": "code",
   "execution_count": 34,
   "metadata": {},
   "outputs": [
    {
     "name": "stdout",
     "output_type": "stream",
     "text": [
      "UC DirectStitch VLAN: 3295\n",
      "UC_FLOATING_IP 192.5.87.186\n"
     ]
    }
   ],
   "source": [
    "OS_REGION_NAME='CHI@UC'\n",
    "\n",
    "UC_DIRECTSTITCH_VLAN=`openstack network show -c provider:segmentation_id -f value ${UC_NETWORK_NAME}`\n",
    "echo UC DirectStitch VLAN: $UC_DIRECTSTITCH_VLAN \n",
    "\n",
    "UC_FLOATING_IP=`lease_list_floating_ips $UC_RESERVATION`\n",
    "echo UC_FLOATING_IP $UC_FLOATING_IP \n"
   ]
  },
  {
   "cell_type": "markdown",
   "metadata": {},
   "source": [
    "#### Step 1b: Add a subnet and router to the network"
   ]
  },
  {
   "cell_type": "code",
   "execution_count": 35,
   "metadata": {},
   "outputs": [
    {
     "name": "stdout",
     "output_type": "stream",
     "text": [
      "Creating Subnet\n",
      "+----------------------+-------------------------------------------------------+\n",
      "| Field                | Value                                                 |\n",
      "+----------------------+-------------------------------------------------------+\n",
      "| allocation_pools     | 192.168.100.10-192.168.100.19                         |\n",
      "| cidr                 | 192.168.100.0/24                                      |\n",
      "| created_at           | 2020-07-02T01:18:47Z                                  |\n",
      "| description          |                                                       |\n",
      "| dns_nameservers      |                                                       |\n",
      "| dns_publish_fixed_ip | None                                                  |\n",
      "| enable_dhcp          | True                                                  |\n",
      "| gateway_ip           | 192.168.100.1                                         |\n",
      "| host_routes          |                                                       |\n",
      "| id                   | ab459dc1-7522-4c22-814e-d484bfb99903                  |\n",
      "| ip_version           | 4                                                     |\n",
      "| ipv6_address_mode    | None                                                  |\n",
      "| ipv6_ra_mode         | None                                                  |\n",
      "| location             | cloud='', project.domain_id='default',                |\n",
      "|                      | project.domain_name='Default',                        |\n",
      "|                      | project.id='c6c0856c1db04d01af8d4e63ff900c7c',        |\n",
      "|                      | project.name='MC4N', region_name='CHI@UC', zone=      |\n",
      "| name                 | bmohd1-netperform-Jul02-Subnet-UC                     |\n",
      "| network_id           | 57b18a24-7d0d-41f6-b6b4-28cf193f8cb3                  |\n",
      "| prefix_length        | None                                                  |\n",
      "| project_id           | c6c0856c1db04d01af8d4e63ff900c7c                      |\n",
      "| revision_number      | 0                                                     |\n",
      "| segment_id           | None                                                  |\n",
      "| service_types        |                                                       |\n",
      "| subnetpool_id        | None                                                  |\n",
      "| tags                 |                                                       |\n",
      "| updated_at           | 2020-07-02T01:18:47Z                                  |\n",
      "+----------------------+-------------------------------------------------------+\n",
      "Creating Router\n",
      "+-------------------------+----------------------------------------------------+\n",
      "| Field                   | Value                                              |\n",
      "+-------------------------+----------------------------------------------------+\n",
      "| admin_state_up          | UP                                                 |\n",
      "| availability_zone_hints |                                                    |\n",
      "| availability_zones      |                                                    |\n",
      "| created_at              | 2020-07-02T01:18:49Z                               |\n",
      "| description             |                                                    |\n",
      "| external_gateway_info   | null                                               |\n",
      "| flavor_id               | None                                               |\n",
      "| id                      | 57dcbf5e-e736-4e05-b478-1a8a65513163               |\n",
      "| location                | cloud='', project.domain_id='default',             |\n",
      "|                         | project.domain_name='Default',                     |\n",
      "|                         | project.id='c6c0856c1db04d01af8d4e63ff900c7c',     |\n",
      "|                         | project.name='MC4N', region_name='CHI@UC', zone=   |\n",
      "| name                    | bmohd1-netperform-Jul02-Router-UC                  |\n",
      "| project_id              | c6c0856c1db04d01af8d4e63ff900c7c                   |\n",
      "| revision_number         | 1                                                  |\n",
      "| routes                  |                                                    |\n",
      "| status                  | ACTIVE                                             |\n",
      "| tags                    |                                                    |\n",
      "| updated_at              | 2020-07-02T01:18:49Z                               |\n",
      "+-------------------------+----------------------------------------------------+\n",
      "Linking router to subnet\n",
      "Linking router to external gateway\n",
      "Network bmohd1-netperform-Jul02-Network-UC is ready for nodes!\n"
     ]
    }
   ],
   "source": [
    "OS_REGION_NAME='CHI@UC'\n",
    "echo Creating Subnet\n",
    "openstack subnet create --max-width 80 \\\n",
    "                        --subnet-range ${NETWORK_SUBNET} \\\n",
    "                        --allocation-pool start=${UC_ALLOCATION_START},end=${UC_ALLOCATION_END} \\\n",
    "                        --dhcp \\\n",
    "                        --network ${UC_NETWORK_NAME} \\\n",
    "                        ${UC_SUBNET_NAME}\n",
    "                        \n",
    "echo Creating Router\n",
    "openstack router create --max-width 80 ${UC_ROUTER_NAME}\n",
    "\n",
    "echo Linking router to subnet\n",
    "openstack router add subnet ${UC_ROUTER_NAME} ${UC_SUBNET_NAME}\n",
    "\n",
    "echo Linking router to external gateway\n",
    "openstack router set --external-gateway public ${UC_ROUTER_NAME}\n",
    "\n",
    "echo Network ${UC_NETWORK_NAME} is ready for nodes!"
   ]
  },
  {
   "cell_type": "markdown",
   "metadata": {},
   "source": [
    "#### Step 1c: Launch servers connected to the new network\n",
    "\n",
    "At this point your OpenFlow network is ready for compute nodes. You can add nodes using the CLI commands below or by any other method you are comfortable with. "
   ]
  },
  {
   "cell_type": "code",
   "execution_count": 36,
   "metadata": {},
   "outputs": [
    {
     "name": "stdout",
     "output_type": "stream",
     "text": [
      "Creating servers... This will take several minutes!\n",
      "+-------------------------------------+----------------------------------------+\n",
      "| Field                               | Value                                  |\n",
      "+-------------------------------------+----------------------------------------+\n",
      "| OS-DCF:diskConfig                   | MANUAL                                 |\n",
      "| OS-EXT-AZ:availability_zone         |                                        |\n",
      "| OS-EXT-SRV-ATTR:host                | None                                   |\n",
      "| OS-EXT-SRV-ATTR:hypervisor_hostname | None                                   |\n",
      "| OS-EXT-SRV-ATTR:instance_name       |                                        |\n",
      "| OS-EXT-STS:power_state              | NOSTATE                                |\n",
      "| OS-EXT-STS:task_state               | scheduling                             |\n",
      "| OS-EXT-STS:vm_state                 | building                               |\n",
      "| OS-SRV-USG:launched_at              | None                                   |\n",
      "| OS-SRV-USG:terminated_at            | None                                   |\n",
      "| accessIPv4                          |                                        |\n",
      "| accessIPv6                          |                                        |\n",
      "| addresses                           |                                        |\n",
      "| adminPass                           | qn8nCT8A3ivr                           |\n",
      "| config_drive                        |                                        |\n",
      "| created                             | 2020-07-02T01:19:08Z                   |\n",
      "| flavor                              | baremetal                              |\n",
      "|                                     | (0018ac2a-05ca-4703-82ef-105230f8f1f1) |\n",
      "| hostId                              |                                        |\n",
      "| id                                  | a986ac0d-e63a-45b9-bced-bc31861c1dd6   |\n",
      "| image                               | CC-Ubuntu16.04                         |\n",
      "|                                     | (8e57cb54-dd2f-477f-81a2-b1b7c1e7603d) |\n",
      "| key_name                            | uc-mc4n-key                            |\n",
      "| name                                | bmohd1-netperform-Jul02-node           |\n",
      "| progress                            | 0                                      |\n",
      "| project_id                          | c6c0856c1db04d01af8d4e63ff900c7c       |\n",
      "| properties                          |                                        |\n",
      "| security_groups                     | name='b49824f1-25e1-4873-956a-6dafd3e4 |\n",
      "|                                     | 877c'                                  |\n",
      "| status                              | BUILD                                  |\n",
      "| updated                             | 2020-07-02T01:19:08Z                   |\n",
      "| user_id                             | e325e79f2bc74500840cf8060bd9c310       |\n",
      "| volumes_attached                    |                                        |\n",
      "+-------------------------------------+----------------------------------------+\n"
     ]
    }
   ],
   "source": [
    "UC_NODE_NAME=${RESOURCE_PREFIX}-node\n",
    "\n",
    "OS_REGION_NAME='CHI@UC'\n",
    "echo Creating servers... This will take several minutes! \n",
    "openstack server create --max-width 80 \\\n",
    "                        --flavor \"baremetal\" \\\n",
    "                        --image \"CC-Ubuntu16.04\" \\\n",
    "                        --key-name \"uc-mc4n-key\" \\\n",
    "                        --hint reservation=${UC_NODE_RESERVATION} \\\n",
    "                        --security-group default  \\\n",
    "                        --nic net-id=${UC_NETWORK_NAME} \\\n",
    "                        ${UC_NODE_NAME}"
   ]
  },
  {
   "cell_type": "code",
   "execution_count": 37,
   "metadata": {},
   "outputs": [
    {
     "name": "stdout",
     "output_type": "stream",
     "text": [
      "192.5.87.186\n"
     ]
    }
   ],
   "source": [
    "OS_REGION_NAME='CHI@UC'\n",
    "#Attach the floating IP address to the server\n",
    "echo $UC_FLOATING_IP \n",
    "openstack server add floating ip $UC_NODE_NAME $UC_FLOATING_IP "
   ]
  },
  {
   "cell_type": "markdown",
   "metadata": {},
   "source": [
    "### Create Network a TACC\n",
    "\n",
    "Repeat the steps but target the TACC Chameleon site"
   ]
  },
  {
   "cell_type": "code",
   "execution_count": 38,
   "metadata": {},
   "outputs": [],
   "source": [
    "# Set up user's project (user's can be multiple ones, so there is no default currently)\n",
    "export OS_PROJECT_NAME='MC4N'\n",
    "\n",
    "# Set chameleon keypair name and path to the private ssh key\n",
    "export SSH_KEY_NAME=${USERNAME}-tacc-mc4n-key\n",
    "export SSH_PRIVATE_KEY=${HOME}/work/bmohd-chameleon-jupyter\n",
    "\n",
    "export NETWORK_SUBNET=\"192.168.100.0/24\"\n",
    "export UC_ALLOCATION_START=\"192.168.100.10\"\n",
    "export UC_ALLOCATION_END=\"192.168.100.19\"\n",
    "export TACC_ALLOCATION_START=\"192.168.100.20\"\n",
    "export TACC_ALLOCATION_END=\"192.168.100.29\"\n",
    "\n",
    "export RESOURCE_PREFIX=\"$USER-netperform-$(date +%b%d)\"\n",
    "\n",
    "export GENI_PEM_FILE=\"~/work/geni-bmohamme.pem\"\n"
   ]
  },
  {
   "cell_type": "code",
   "execution_count": 39,
   "metadata": {},
   "outputs": [],
   "source": [
    "OS_REGION_NAME='CHI@TACC'\n",
    "\n",
    "TACC_RESERVATION_NAME=${RESOURCE_PREFIX}\"-TACC\"\n",
    "\n",
    "# Set the names for the network, subnet, router, and switch. \n",
    "# See above about using identifiable names.  \n",
    "TACC_NETWORK_NAME=${RESOURCE_PREFIX}\"-Network-TACC\"\n",
    "TACC_SUBNET_NAME=${RESOURCE_PREFIX}\"-Subnet-TACC\"\n",
    "TACC_ROUTER_NAME=${RESOURCE_PREFIX}\"-Router-TACC\""
   ]
  },
  {
   "cell_type": "markdown",
   "metadata": {},
   "source": [
    "#### Create the Network"
   ]
  },
  {
   "cell_type": "code",
   "execution_count": 40,
   "metadata": {},
   "outputs": [
    {
     "name": "stdout",
     "output_type": "stream",
     "text": [
      "Creating network\n",
      "Matches: ('min=1,max=5', 'resource_properties', '[\"=\", \"$node_type\", \"compute_haswell\"]')\n",
      "Matches: ('min=1', 'max', '5')\n",
      "Matches: (None, 'min', '1')\n",
      "Matches: ('resource_type=virtual:floatingip,network_id=6189521e-06a0-4c43-b163-16cc11ce675b', 'amount', '1')\n",
      "Matches: ('resource_type=virtual:floatingip', 'network_id', '6189521e-06a0-4c43-b163-16cc11ce675b')\n",
      "Matches: (None, 'resource_type', 'virtual:floatingip')\n",
      "Matches: ('resource_type=network,network_name=bmohd1-netperform-Jul02-Network-TACC', 'resource_properties', '[\"==\",\"$physical_network\",\"exogeni\"]')\n",
      "Matches: ('resource_type=network', 'network_name', 'bmohd1-netperform-Jul02-Network-TACC')\n",
      "Matches: (None, 'resource_type', 'network')\n",
      "Created a new lease:\n",
      "+--------------+----------------------------------------------------------------------------+\n",
      "| Field        | Value                                                                      |\n",
      "+--------------+----------------------------------------------------------------------------+\n",
      "| created_at   | 2020-07-02 01:28:51                                                        |\n",
      "| degraded     | False                                                                      |\n",
      "| end_date     | 2020-07-07T01:28:00.000000                                                 |\n",
      "| events       | {                                                                          |\n",
      "|              |     \"status\": \"UNDONE\",                                                    |\n",
      "|              |     \"lease_id\": \"4087c400-e8c4-4b33-8029-311554e22103\",                    |\n",
      "|              |     \"event_type\": \"before_end_lease\",                                      |\n",
      "|              |     \"created_at\": \"2020-07-02 01:29:12\",                                   |\n",
      "|              |     \"updated_at\": null,                                                    |\n",
      "|              |     \"time\": \"2020-07-05T01:28:00.000000\",                                  |\n",
      "|              |     \"id\": \"2b6156b8-9367-4390-b91f-a1a268a4bb4f\"                           |\n",
      "|              | }                                                                          |\n",
      "|              | {                                                                          |\n",
      "|              |     \"status\": \"UNDONE\",                                                    |\n",
      "|              |     \"lease_id\": \"4087c400-e8c4-4b33-8029-311554e22103\",                    |\n",
      "|              |     \"event_type\": \"end_lease\",                                             |\n",
      "|              |     \"created_at\": \"2020-07-02 01:29:12\",                                   |\n",
      "|              |     \"updated_at\": null,                                                    |\n",
      "|              |     \"time\": \"2020-07-07T01:28:00.000000\",                                  |\n",
      "|              |     \"id\": \"2f16adcf-df82-4d71-b8fd-e407a5cc0fb9\"                           |\n",
      "|              | }                                                                          |\n",
      "|              | {                                                                          |\n",
      "|              |     \"status\": \"UNDONE\",                                                    |\n",
      "|              |     \"lease_id\": \"4087c400-e8c4-4b33-8029-311554e22103\",                    |\n",
      "|              |     \"event_type\": \"start_lease\",                                           |\n",
      "|              |     \"created_at\": \"2020-07-02 01:29:12\",                                   |\n",
      "|              |     \"updated_at\": null,                                                    |\n",
      "|              |     \"time\": \"2020-07-02T01:30:00.000000\",                                  |\n",
      "|              |     \"id\": \"62a1c963-3bb4-45c9-a1e6-0153d22fe01f\"                           |\n",
      "|              | }                                                                          |\n",
      "| id           | 4087c400-e8c4-4b33-8029-311554e22103                                       |\n",
      "| name         | bmohd1-netperform-Jul02-TACC                                               |\n",
      "| project_id   | c6c0856c1db04d01af8d4e63ff900c7c                                           |\n",
      "| reservations | {                                                                          |\n",
      "|              |     \"status\": \"pending\",                                                   |\n",
      "|              |     \"lease_id\": \"4087c400-e8c4-4b33-8029-311554e22103\",                    |\n",
      "|              |     \"resource_id\": \"525ac6e5-6581-4a37-983a-358034b7437a\",                 |\n",
      "|              |     \"created_at\": \"2020-07-02 01:29:09\",                                   |\n",
      "|              |     \"updated_at\": \"2020-07-02 01:29:12\",                                   |\n",
      "|              |     \"missing_resources\": false,                                            |\n",
      "|              |     \"id\": \"437c273f-7f30-49db-9e90-44bb58a2f3b9\",                          |\n",
      "|              |     \"resource_type\": \"network\",                                            |\n",
      "|              |     \"resources_changed\": false                                             |\n",
      "|              | }                                                                          |\n",
      "|              | {                                                                          |\n",
      "|              |     \"status\": \"pending\",                                                   |\n",
      "|              |     \"lease_id\": \"4087c400-e8c4-4b33-8029-311554e22103\",                    |\n",
      "|              |     \"resource_id\": \"20a62416-ff1f-474a-b34d-fb9283a34561\",                 |\n",
      "|              |     \"network_id\": \"6189521e-06a0-4c43-b163-16cc11ce675b\",                  |\n",
      "|              |     \"created_at\": \"2020-07-02 01:29:08\",                                   |\n",
      "|              |     \"updated_at\": \"2020-07-02 01:29:09\",                                   |\n",
      "|              |     \"required_floatingips\": [],                                            |\n",
      "|              |     \"missing_resources\": false,                                            |\n",
      "|              |     \"amount\": 1,                                                           |\n",
      "|              |     \"id\": \"5a347f04-bc58-42b4-b01d-f9c13b7c0981\",                          |\n",
      "|              |     \"resource_type\": \"virtual:floatingip\",                                 |\n",
      "|              |     \"resources_changed\": false                                             |\n",
      "|              | }                                                                          |\n",
      "|              | {                                                                          |\n",
      "|              |     \"status\": \"pending\",                                                   |\n",
      "|              |     \"before_end\": \"default\",                                               |\n",
      "|              |     \"lease_id\": \"4087c400-e8c4-4b33-8029-311554e22103\",                    |\n",
      "|              |     \"resource_id\": \"89f76394-5994-4f6d-9b14-e1018661bc10\",                 |\n",
      "|              |     \"max\": 5,                                                              |\n",
      "|              |     \"created_at\": \"2020-07-02 01:28:51\",                                   |\n",
      "|              |     \"min\": 1,                                                              |\n",
      "|              |     \"updated_at\": \"2020-07-02 01:29:08\",                                   |\n",
      "|              |     \"missing_resources\": false,                                            |\n",
      "|              |     \"hypervisor_properties\": \"\",                                           |\n",
      "|              |     \"on_start\": \"default\",                                                 |\n",
      "|              |     \"resource_properties\": \"[\\\"=\\\", \\\"$node_type\\\", \\\"compute_haswell\\\"]\", |\n",
      "|              |     \"id\": \"683c7f5d-eb72-4b23-8362-9be880041350\",                          |\n",
      "|              |     \"resource_type\": \"physical:host\",                                      |\n",
      "|              |     \"resources_changed\": false                                             |\n",
      "|              | }                                                                          |\n",
      "| start_date   | 2020-07-02T01:30:00.000000                                                 |\n",
      "| status       | PENDING                                                                    |\n",
      "| trust_id     | 4adff366455c44399c8f2e334878484c                                           |\n",
      "| updated_at   | 2020-07-02 01:29:12                                                        |\n",
      "| user_id      | e325e79f2bc74500840cf8060bd9c310                                           |\n",
      "+--------------+----------------------------------------------------------------------------+\n",
      "TACC_RESERVATION 4087c400-e8c4-4b33-8029-311554e22103\n",
      "TACC_NODE_RESERVATION 683c7f5d-eb72-4b23-8362-9be880041350\n"
     ]
    }
   ],
   "source": [
    "OS_REGION_NAME='CHI@TACC'\n",
    "\n",
    "START_DATE=`date -d \"+2 min\" +'%F %H:%M'`\n",
    "END_DATE=`date -d \"+5 day\" +'%F %H:%M'`\n",
    "\n",
    "PUBLIC_NETWORK_ID=$(openstack network show public -c id -f value)\n",
    "\n",
    "echo Creating network ${EXOGENI_STITCH_NAME}\n",
    "blazar lease-create \\\n",
    "   --physical-reservation min=1,max=5,resource_properties='[\"=\", \"$node_type\", \"compute_haswell\"]' \\\n",
    "   --reservation resource_type=virtual:floatingip,network_id=${PUBLIC_NETWORK_ID},amount=1 \\\n",
    "   --reservation resource_type=\"network\",network_name=\"${TACC_NETWORK_NAME}\",resource_properties='[\"==\",\"$physical_network\",\"exogeni\"]' \\\n",
    "   --start-date \"${START_DATE}\" \\\n",
    "   --end-date \"${END_DATE}\" \\\n",
    "   ${TACC_RESERVATION_NAME}\n",
    "\n",
    "TACC_RESERVATION=`blazar lease-show --format value -c id ${TACC_RESERVATION_NAME}`\n",
    "echo TACC_RESERVATION $TACC_RESERVATION\n",
    "\n",
    "TACC_NODE_RESERVATION=`blazar lease-show -json --format value -c reservations ${TACC_RESERVATION} | jq -r 'select(.resource_type | contains(\"physical:host\")) | .id'`\n",
    "echo TACC_NODE_RESERVATION $TACC_NODE_RESERVATION\n",
    "   \n",
    "   \n",
    "   "
   ]
  },
  {
   "cell_type": "markdown",
   "metadata": {},
   "source": [
    "#### Get the DirectStitch VLAN Tag\n",
    "\n",
    "Repeat until sucessful"
   ]
  },
  {
   "cell_type": "code",
   "execution_count": 41,
   "metadata": {},
   "outputs": [
    {
     "name": "stdout",
     "output_type": "stream",
     "text": [
      "TACC DirectStitch VLAN: 3509\n",
      "TACC_FLOATING_IP 129.114.109.235\n"
     ]
    }
   ],
   "source": [
    "OS_REGION_NAME='CHI@TACC'\n",
    "TACC_DIRECTSTITCH_VLAN=`openstack network show -c provider:segmentation_id -f value ${TACC_NETWORK_NAME}`\n",
    "echo TACC DirectStitch VLAN: $TACC_DIRECTSTITCH_VLAN \n",
    "\n",
    "TACC_FLOATING_IP=`lease_list_floating_ips $TACC_RESERVATION`\n",
    "echo TACC_FLOATING_IP $TACC_FLOATING_IP \n"
   ]
  },
  {
   "cell_type": "markdown",
   "metadata": {},
   "source": [
    "#### Add a subnet and router to the network"
   ]
  },
  {
   "cell_type": "code",
   "execution_count": 42,
   "metadata": {},
   "outputs": [
    {
     "name": "stdout",
     "output_type": "stream",
     "text": [
      "Creating Subnet\n",
      "+----------------------+-------------------------------------------------------+\n",
      "| Field                | Value                                                 |\n",
      "+----------------------+-------------------------------------------------------+\n",
      "| allocation_pools     | 192.168.100.20-192.168.100.29                         |\n",
      "| cidr                 | 192.168.100.0/24                                      |\n",
      "| created_at           | 2020-07-02T01:31:02Z                                  |\n",
      "| description          |                                                       |\n",
      "| dns_nameservers      |                                                       |\n",
      "| dns_publish_fixed_ip | None                                                  |\n",
      "| enable_dhcp          | True                                                  |\n",
      "| gateway_ip           | 192.168.100.1                                         |\n",
      "| host_routes          |                                                       |\n",
      "| id                   | 12dbabb7-60bd-4d20-bb43-1d63551647a9                  |\n",
      "| ip_version           | 4                                                     |\n",
      "| ipv6_address_mode    | None                                                  |\n",
      "| ipv6_ra_mode         | None                                                  |\n",
      "| location             | cloud='', project.domain_id='default',                |\n",
      "|                      | project.domain_name='Default',                        |\n",
      "|                      | project.id='c6c0856c1db04d01af8d4e63ff900c7c',        |\n",
      "|                      | project.name='MC4N', region_name='CHI@TACC', zone=    |\n",
      "| name                 | bmohd1-netperform-Jul02-Subnet-TACC                   |\n",
      "| network_id           | 9f856264-f9ba-4923-a0cc-d6f760ebafc4                  |\n",
      "| prefix_length        | None                                                  |\n",
      "| project_id           | c6c0856c1db04d01af8d4e63ff900c7c                      |\n",
      "| revision_number      | 0                                                     |\n",
      "| segment_id           | None                                                  |\n",
      "| service_types        |                                                       |\n",
      "| subnetpool_id        | None                                                  |\n",
      "| tags                 |                                                       |\n",
      "| updated_at           | 2020-07-02T01:31:02Z                                  |\n",
      "+----------------------+-------------------------------------------------------+\n",
      "Creating Router\n",
      "+-------------------------+----------------------------------------------------+\n",
      "| Field                   | Value                                              |\n",
      "+-------------------------+----------------------------------------------------+\n",
      "| admin_state_up          | UP                                                 |\n",
      "| availability_zone_hints |                                                    |\n",
      "| availability_zones      |                                                    |\n",
      "| created_at              | 2020-07-02T01:31:04Z                               |\n",
      "| description             |                                                    |\n",
      "| external_gateway_info   | null                                               |\n",
      "| flavor_id               | None                                               |\n",
      "| id                      | 556aa136-a985-48ab-b9d7-37928847654a               |\n",
      "| location                | cloud='', project.domain_id='default',             |\n",
      "|                         | project.domain_name='Default',                     |\n",
      "|                         | project.id='c6c0856c1db04d01af8d4e63ff900c7c',     |\n",
      "|                         | project.name='MC4N', region_name='CHI@TACC', zone= |\n",
      "| name                    | bmohd1-netperform-Jul02-Router-TACC                |\n",
      "| project_id              | c6c0856c1db04d01af8d4e63ff900c7c                   |\n",
      "| revision_number         | 1                                                  |\n",
      "| routes                  |                                                    |\n",
      "| status                  | ACTIVE                                             |\n",
      "| tags                    |                                                    |\n",
      "| updated_at              | 2020-07-02T01:31:04Z                               |\n",
      "+-------------------------+----------------------------------------------------+\n",
      "Linking router to subnet\n",
      "Linking router to external gateway\n",
      "Network bmohd1-netperform-Jul02-Network-TACC is ready for nodes!\n"
     ]
    }
   ],
   "source": [
    "OS_REGION_NAME='CHI@TACC'\n",
    "echo Creating Subnet\n",
    "openstack subnet create --max-width 80 \\\n",
    "                        --subnet-range ${NETWORK_SUBNET} \\\n",
    "                        --allocation-pool start=${TACC_ALLOCATION_START},end=${TACC_ALLOCATION_END} \\\n",
    "                        --dhcp \\\n",
    "                        --network ${TACC_NETWORK_NAME} \\\n",
    "                        ${TACC_SUBNET_NAME}\n",
    "                        \n",
    "echo Creating Router\n",
    "openstack router create --max-width 80 ${TACC_ROUTER_NAME}\n",
    "\n",
    "echo Linking router to subnet\n",
    "openstack router add subnet ${TACC_ROUTER_NAME} ${TACC_SUBNET_NAME}\n",
    "\n",
    "echo Linking router to external gateway\n",
    "openstack router set --external-gateway public ${TACC_ROUTER_NAME}\n",
    "\n",
    "echo Network ${TACC_NETWORK_NAME} is ready for nodes!"
   ]
  },
  {
   "cell_type": "markdown",
   "metadata": {},
   "source": [
    "#### Launch servers connected to the new network\n",
    "\n",
    "At this point your OpenFlow network is ready for compute nodes. You can add nodes using the CLI commands below or by any other method you are comfortable with. "
   ]
  },
  {
   "cell_type": "code",
   "execution_count": 43,
   "metadata": {},
   "outputs": [
    {
     "name": "stdout",
     "output_type": "stream",
     "text": [
      "TACC_RESERVATION 4087c400-e8c4-4b33-8029-311554e22103\n",
      "Creating servers... This will take several minutes!\n",
      "+-------------------------------------+----------------------------------------+\n",
      "| Field                               | Value                                  |\n",
      "+-------------------------------------+----------------------------------------+\n",
      "| OS-DCF:diskConfig                   | MANUAL                                 |\n",
      "| OS-EXT-AZ:availability_zone         |                                        |\n",
      "| OS-EXT-SRV-ATTR:host                | None                                   |\n",
      "| OS-EXT-SRV-ATTR:hypervisor_hostname | None                                   |\n",
      "| OS-EXT-SRV-ATTR:instance_name       |                                        |\n",
      "| OS-EXT-STS:power_state              | NOSTATE                                |\n",
      "| OS-EXT-STS:task_state               | scheduling                             |\n",
      "| OS-EXT-STS:vm_state                 | building                               |\n",
      "| OS-SRV-USG:launched_at              | None                                   |\n",
      "| OS-SRV-USG:terminated_at            | None                                   |\n",
      "| accessIPv4                          |                                        |\n",
      "| accessIPv6                          |                                        |\n",
      "| addresses                           |                                        |\n",
      "| adminPass                           | fv5Gz8Dx9SEH                           |\n",
      "| config_drive                        |                                        |\n",
      "| created                             | 2020-07-02T01:31:27Z                   |\n",
      "| flavor                              | baremetal (baremetal)                  |\n",
      "| hostId                              |                                        |\n",
      "| id                                  | 82f8f251-649c-43bb-b414-e874e99e8ebb   |\n",
      "| image                               | CC-Ubuntu16.04                         |\n",
      "|                                     | (e6bcc522-e3bc-4f0c-9203-69a74fb72b55) |\n",
      "| key_name                            | tacc-mc4n-key                          |\n",
      "| name                                | bmohd1-netperform-Jul02-node           |\n",
      "| progress                            | 0                                      |\n",
      "| project_id                          | c6c0856c1db04d01af8d4e63ff900c7c       |\n",
      "| properties                          |                                        |\n",
      "| security_groups                     | name='4773bba2-8ee9-4c03-b070-3f9b8202 |\n",
      "|                                     | f096'                                  |\n",
      "| status                              | BUILD                                  |\n",
      "| updated                             | 2020-07-02T01:31:27Z                   |\n",
      "| user_id                             | e325e79f2bc74500840cf8060bd9c310       |\n",
      "| volumes_attached                    |                                        |\n",
      "+-------------------------------------+----------------------------------------+\n"
     ]
    }
   ],
   "source": [
    "echo TACC_RESERVATION $TACC_RESERVATION\n",
    "\n",
    "TACC_NODE_NAME=${RESOURCE_PREFIX}-node\n",
    "\n",
    "OS_REGION_NAME='CHI@TACC'\n",
    "echo Creating servers... This will take several minutes! \n",
    "openstack server create --max-width 80 \\\n",
    "                        --flavor \"baremetal\" \\\n",
    "                        --image \"CC-Ubuntu16.04\"  \\\n",
    "                        --key-name \"tacc-mc4n-key\" \\\n",
    "                        --hint reservation=${TACC_NODE_RESERVATION} \\\n",
    "                        --security-group default  \\\n",
    "                        --nic net-id=${TACC_NETWORK_NAME} \\\n",
    "                        ${TACC_NODE_NAME}\n"
   ]
  },
  {
   "cell_type": "code",
   "execution_count": 47,
   "metadata": {},
   "outputs": [
    {
     "name": "stdout",
     "output_type": "stream",
     "text": [
      "129.114.109.235\n"
     ]
    }
   ],
   "source": [
    "OS_REGION_NAME='CHI@TACC'\n",
    "\n",
    "#Attach the floating IP address to the server\n",
    "echo $TACC_FLOATING_IP \n",
    "openstack server add floating ip $TACC_NODE_NAME $TACC_FLOATING_IP "
   ]
  },
  {
   "cell_type": "markdown",
   "metadata": {},
   "source": [
    "## Step 2: Use ExoGENI to Connect the Ports\n"
   ]
  },
  {
   "cell_type": "code",
   "execution_count": null,
   "metadata": {},
   "outputs": [],
   "source": [
    "echo UC DirectStitch VLAN:   $UC_DIRECTSTITCH_VLAN\n",
    "echo TACC DirectStitch VLAN: $TACC_DIRECTSTITCH_VLAN\n",
    "xoStitch create -sp1 uc -vlan1 $UC_DIRECTSTITCH_VLAN -sp2 tacc -vlan2 $TACC_DIRECTSTITCH_VLAN -c $GENI_PEM_FILE"
   ]
  },
  {
   "cell_type": "markdown",
   "metadata": {},
   "source": [
    "## Experiment with the DirectStitch Connection\n",
    "\n",
    "Add a floating IP to the nodes and ssh to them in separate windows."
   ]
  },
  {
   "cell_type": "markdown",
   "metadata": {},
   "source": [
    "- Ping from one node to the other using the fixed IPs. What is the RTT?\n",
    "- Use traceroute find the path between the nodes. How many hops do you see if you use the fixed IPs? How many hops uing the floating IP? \n",
    "- Use iperf3 to test the bandwidth between the nodes. Set the MTU to use jumbo frames. Does the bandwidth change?"
   ]
  },
  {
   "cell_type": "markdown",
   "metadata": {},
   "source": [
    "## Other Useful Commands"
   ]
  },
  {
   "cell_type": "code",
   "execution_count": null,
   "metadata": {},
   "outputs": [],
   "source": [
    "#Get the status of the ExoGENI circuit\n",
    "xoStitch status -sp1 uc -vlan1 $UC_DIRECTSTITCH_VLAN -sp2 tacc -vlan2 $TACC_DIRECTSTITCH_VLAN -c $GENI_PEM_FILE\n"
   ]
  },
  {
   "cell_type": "code",
   "execution_count": null,
   "metadata": {},
   "outputs": [],
   "source": [
    "#Delete the ExoGENI circuit\n",
    "xoStitch delete -sp1 uc -vlan1 $UC_DIRECTSTITCH_VLAN -sp2 tacc -vlan2 $TACC_DIRECTSTITCH_VLAN -c $GENI_PEM_FILE\n"
   ]
  }
 ],
 "metadata": {
  "kernelspec": {
   "display_name": "Bash",
   "language": "bash",
   "name": "bash"
  },
  "language_info": {
   "codemirror_mode": "shell",
   "file_extension": ".sh",
   "mimetype": "text/x-sh",
   "name": "bash"
  }
 },
 "nbformat": 4,
 "nbformat_minor": 4
}
