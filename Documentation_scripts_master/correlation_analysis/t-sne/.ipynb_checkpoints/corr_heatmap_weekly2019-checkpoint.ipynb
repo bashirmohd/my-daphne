{
 "cells": [
  {
   "cell_type": "code",
   "execution_count": null,
   "metadata": {},
   "outputs": [],
   "source": [
    "import pandas as pd\n",
    "import numpy as np\n",
    "import seaborn as sns\n",
    "import matplotlib\n",
    "%matplotlib inline\n",
    "import matplotlib.pyplot as plt\n",
    "from sklearn.preprocessing import MinMaxScaler\n",
    "import statsmodels.api as sm\n",
    "import warnings\n",
    "import itertools\n",
    "from datetime import datetime\n",
    "plt.rcParams[\"font.weight\"] = \"bold\"\n",
    "plt.rcParams[\"axes.labelweight\"] = \"bold\"\n",
    "plt.rcParams[\"font.family\"] = \"sans-serif\"\n",
    "print('hello')"
   ]
  },
  {
   "cell_type": "code",
   "execution_count": null,
   "metadata": {},
   "outputs": [],
   "source": [
    "pwd"
   ]
  },
  {
   "cell_type": "code",
   "execution_count": null,
   "metadata": {},
   "outputs": [],
   "source": [
    "df = pd.read_csv('2019_concat_data.csv')"
   ]
  },
  {
   "cell_type": "code",
   "execution_count": null,
   "metadata": {},
   "outputs": [],
   "source": [
    "df.shape"
   ]
  },
  {
   "cell_type": "code",
   "execution_count": null,
   "metadata": {},
   "outputs": [],
   "source": [
    "#del df['time']\n",
    "#del df['Days']"
   ]
  },
  {
   "cell_type": "code",
   "execution_count": null,
   "metadata": {},
   "outputs": [],
   "source": [
    "df = pd.read_csv('2019_concat_data.csv', index_col=0)"
   ]
  },
  {
   "cell_type": "code",
   "execution_count": null,
   "metadata": {},
   "outputs": [],
   "source": [
    "del df['time']"
   ]
  },
  {
   "cell_type": "code",
   "execution_count": null,
   "metadata": {},
   "outputs": [],
   "source": [
    "df.head()"
   ]
  },
  {
   "cell_type": "code",
   "execution_count": null,
   "metadata": {},
   "outputs": [],
   "source": [
    "#df=(df-df.mean())/df.std()"
   ]
  },
  {
   "cell_type": "code",
   "execution_count": null,
   "metadata": {},
   "outputs": [],
   "source": [
    "scaler = MinMaxScaler() \n",
    "scaled_values = scaler.fit_transform(df) \n",
    "df.loc[:,:] = scaled_values"
   ]
  },
  {
   "cell_type": "code",
   "execution_count": null,
   "metadata": {},
   "outputs": [],
   "source": [
    "df.shape"
   ]
  },
  {
   "cell_type": "code",
   "execution_count": null,
   "metadata": {},
   "outputs": [],
   "source": [
    "df.head()"
   ]
  },
  {
   "cell_type": "code",
   "execution_count": null,
   "metadata": {},
   "outputs": [],
   "source": [
    "corr = df.corr().round(2)\n",
    "plt.figure(figsize = (40,30))\n",
    "sns.set(font_scale=2.0)\n",
    "sns.heatmap(corr,cmap='coolwarm',annot=True, annot_kws={\"size\":10})\n",
    "plt.title(\"Year 2019 Full One-year\", fontsize=80)\n",
    "plt.savefig('corr_oneyear.png')"
   ]
  },
  {
   "cell_type": "code",
   "execution_count": null,
   "metadata": {},
   "outputs": [],
   "source": [
    "df1 = df.loc[0:182, :]"
   ]
  },
  {
   "cell_type": "code",
   "execution_count": null,
   "metadata": {},
   "outputs": [],
   "source": [
    "df1.shape"
   ]
  },
  {
   "cell_type": "code",
   "execution_count": null,
   "metadata": {},
   "outputs": [],
   "source": [
    "corr1 = df1.corr().round(2)\n",
    "plt.figure(figsize = (40,30))\n",
    "sns.heatmap(corr1,cmap='coolwarm',annot=True, annot_kws={\"size\":10})\n",
    "plt.title(\"Year-2019 January-Week1\", fontsize=80)\n",
    "plt.savefig('corr_janwk1.png')"
   ]
  },
  {
   "cell_type": "code",
   "execution_count": null,
   "metadata": {},
   "outputs": [],
   "source": [
    "df2 = df.loc[183:365, :]"
   ]
  },
  {
   "cell_type": "code",
   "execution_count": null,
   "metadata": {},
   "outputs": [],
   "source": [
    "df2.shape"
   ]
  },
  {
   "cell_type": "code",
   "execution_count": null,
   "metadata": {},
   "outputs": [],
   "source": [
    "corr2 = df2.corr().round(2)\n",
    "plt.figure(figsize = (60,50))\n",
    "sns.heatmap(corr2,cmap='coolwarm',annot=True, annot_kws={\"size\":10})\n",
    "plt.title(\"Year-2019 January-Week2\", fontsize=80)\n",
    "plt.savefig('corr_janwk2.png')"
   ]
  },
  {
   "cell_type": "code",
   "execution_count": null,
   "metadata": {},
   "outputs": [],
   "source": [
    "df3 = df.loc[366:542, :]"
   ]
  },
  {
   "cell_type": "code",
   "execution_count": null,
   "metadata": {},
   "outputs": [],
   "source": [
    "df3.shape"
   ]
  },
  {
   "cell_type": "code",
   "execution_count": null,
   "metadata": {},
   "outputs": [],
   "source": [
    "corr3 = df3.corr().round(2)\n",
    "plt.figure(figsize = (60,50))\n",
    "sns.heatmap(corr3,cmap='coolwarm',annot=True, annot_kws={\"size\":10})\n",
    "plt.title(\"Year-2019 January-Week3\", fontsize=80)\n",
    "plt.savefig('corr_janwk3.png')"
   ]
  },
  {
   "cell_type": "code",
   "execution_count": null,
   "metadata": {},
   "outputs": [],
   "source": [
    "df4 = df.loc[543:730, :]"
   ]
  },
  {
   "cell_type": "code",
   "execution_count": null,
   "metadata": {},
   "outputs": [],
   "source": [
    "corr4 = df4.corr().round(2)\n",
    "plt.figure(figsize = (60,50))\n",
    "sns.heatmap(corr4,cmap='coolwarm',annot=True, annot_kws={\"size\":10})\n",
    "plt.title(\"Year-2019 January-Week4\", fontsize=80)\n",
    "plt.savefig('corr_janwk4.png')"
   ]
  },
  {
   "cell_type": "code",
   "execution_count": null,
   "metadata": {},
   "outputs": [],
   "source": [
    "df5 = df.loc[731:912, :]"
   ]
  },
  {
   "cell_type": "code",
   "execution_count": null,
   "metadata": {},
   "outputs": [],
   "source": [
    "df5.shape"
   ]
  },
  {
   "cell_type": "code",
   "execution_count": null,
   "metadata": {},
   "outputs": [],
   "source": [
    "\n",
    "corr5 = df5.corr().round(2)\n",
    "plt.figure(figsize = (60,50))\n",
    "sns.heatmap(corr5,cmap='coolwarm',annot=True, annot_kws={\"size\":10})\n",
    "plt.title(\"Year-2019 February-Week1\", fontsize=80)\n",
    "plt.savefig('corr_febwk1.png')"
   ]
  },
  {
   "cell_type": "code",
   "execution_count": null,
   "metadata": {},
   "outputs": [],
   "source": [
    "df6 = df.loc[913:1094, :]"
   ]
  },
  {
   "cell_type": "code",
   "execution_count": null,
   "metadata": {},
   "outputs": [],
   "source": [
    "corr6 = df6.corr().round(2)\n",
    "plt.figure(figsize = (60,50))\n",
    "sns.heatmap(corr6,cmap='coolwarm',annot=True, annot_kws={\"size\":10})\n",
    "plt.title(\"Year-2019 February-Week2\", fontsize=80)\n",
    "plt.savefig('corr_febwk2.png')"
   ]
  },
  {
   "cell_type": "code",
   "execution_count": null,
   "metadata": {},
   "outputs": [],
   "source": [
    "df7 = df.loc[1095:1276, :]"
   ]
  },
  {
   "cell_type": "code",
   "execution_count": null,
   "metadata": {},
   "outputs": [],
   "source": [
    "corr7 = df7.corr().round(2)\n",
    "plt.figure(figsize = (60,50))\n",
    "sns.heatmap(corr7,cmap='coolwarm',annot=True, annot_kws={\"size\":10})\n",
    "plt.title(\"Year-2019 February-Week3\", fontsize=80)\n",
    "plt.savefig('corr_febwk3.png')"
   ]
  },
  {
   "cell_type": "code",
   "execution_count": null,
   "metadata": {},
   "outputs": [],
   "source": [
    "df8 = df.loc[1277:1460, :]"
   ]
  },
  {
   "cell_type": "code",
   "execution_count": null,
   "metadata": {},
   "outputs": [],
   "source": [
    "corr8 = df8.corr().round(2)\n",
    "plt.figure(figsize = (60,50))\n",
    "sns.heatmap(corr8,cmap='coolwarm',annot=True, annot_kws={\"size\":10})\n",
    "plt.title(\"Year-2019 February-Week4\", fontsize=80)\n",
    "plt.savefig('corr_febwk4.png')"
   ]
  },
  {
   "cell_type": "code",
   "execution_count": null,
   "metadata": {},
   "outputs": [],
   "source": [
    "df9 = df.loc[1461:1642, :]"
   ]
  },
  {
   "cell_type": "code",
   "execution_count": null,
   "metadata": {},
   "outputs": [],
   "source": [
    "\n",
    "corr9 = df9.corr().round(2)\n",
    "plt.figure(figsize = (60,50))\n",
    "sns.heatmap(corr9,cmap='coolwarm',annot=True, annot_kws={\"size\":10})\n",
    "plt.title(\"Year-2019 March-Week1\", fontsize=80)\n",
    "plt.savefig('corr_marwk1.png')"
   ]
  },
  {
   "cell_type": "code",
   "execution_count": null,
   "metadata": {},
   "outputs": [],
   "source": [
    "df10 = df.loc[1643:1824, :]"
   ]
  },
  {
   "cell_type": "code",
   "execution_count": null,
   "metadata": {},
   "outputs": [],
   "source": [
    "\n",
    "corr10 = df10.corr().round(2)\n",
    "plt.figure(figsize = (60,50))\n",
    "sns.heatmap(corr10,cmap='coolwarm',annot=True, annot_kws={\"size\":10})\n",
    "plt.title(\"Year-2019 March-Week2\", fontsize=80)\n",
    "plt.savefig('corr_marwk2.png')"
   ]
  },
  {
   "cell_type": "code",
   "execution_count": null,
   "metadata": {},
   "outputs": [],
   "source": [
    "df11 = df.loc[1825:2006, :]"
   ]
  },
  {
   "cell_type": "code",
   "execution_count": null,
   "metadata": {},
   "outputs": [],
   "source": [
    "df11.shape"
   ]
  },
  {
   "cell_type": "code",
   "execution_count": null,
   "metadata": {},
   "outputs": [],
   "source": [
    "\n",
    "corr11 = df11.corr().round(2)\n",
    "plt.figure(figsize = (60,50))\n",
    "sns.heatmap(corr11,cmap='coolwarm',annot=True, annot_kws={\"size\":10})\n",
    "plt.title(\"Year-2019 March-Week3\", fontsize=80)\n",
    "plt.savefig('corr_marwk3.png')"
   ]
  },
  {
   "cell_type": "code",
   "execution_count": null,
   "metadata": {},
   "outputs": [],
   "source": [
    "df12 = df.loc[2007:2190, :]"
   ]
  },
  {
   "cell_type": "code",
   "execution_count": null,
   "metadata": {},
   "outputs": [],
   "source": [
    "\n",
    "corr12 = df12.corr().round(2)\n",
    "plt.figure(figsize = (60,50))\n",
    "sns.heatmap(corr12,cmap='coolwarm',annot=True, annot_kws={\"size\":10})\n",
    "plt.title(\"Year-2019 March-Week4\", fontsize=80)\n",
    "plt.savefig('corr_marwk4.png')"
   ]
  },
  {
   "cell_type": "code",
   "execution_count": null,
   "metadata": {},
   "outputs": [],
   "source": [
    "df13 = df.loc[2191:2372, :]"
   ]
  },
  {
   "cell_type": "code",
   "execution_count": null,
   "metadata": {},
   "outputs": [],
   "source": [
    "corr13 = df13.corr().round(2)\n",
    "plt.figure(figsize = (60,50))\n",
    "sns.heatmap(corr13,cmap='coolwarm',annot=True, annot_kws={\"size\":10})\n",
    "plt.title(\"Year-2019 April-Week1\", fontsize=80)\n",
    "plt.savefig('corr_aprwk1.png')"
   ]
  },
  {
   "cell_type": "code",
   "execution_count": null,
   "metadata": {},
   "outputs": [],
   "source": [
    "df14 = df.loc[2373:2554, :]"
   ]
  },
  {
   "cell_type": "code",
   "execution_count": null,
   "metadata": {},
   "outputs": [],
   "source": [
    "corr14 = df14.corr().round(2)\n",
    "plt.figure(figsize = (60,50))\n",
    "sns.heatmap(corr14,cmap='coolwarm',annot=True, annot_kws={\"size\":10})\n",
    "plt.title(\"Year-2019 April-Week2\", fontsize=80)\n",
    "plt.savefig('corr_aprwk2.png')"
   ]
  },
  {
   "cell_type": "code",
   "execution_count": null,
   "metadata": {},
   "outputs": [],
   "source": [
    "df15 = df.loc[2555:2736, :]"
   ]
  },
  {
   "cell_type": "code",
   "execution_count": null,
   "metadata": {},
   "outputs": [],
   "source": [
    "corr15 = df15.corr().round(2)\n",
    "plt.figure(figsize = (60,50))\n",
    "sns.heatmap(corr15,cmap='coolwarm',annot=True, annot_kws={\"size\":10})\n",
    "plt.title(\"Year-2019 April-Week3\", fontsize=80)\n",
    "plt.savefig('corr_aprwk3.png')"
   ]
  },
  {
   "cell_type": "code",
   "execution_count": null,
   "metadata": {},
   "outputs": [],
   "source": [
    "df16 = df.loc[2737:2920, :]"
   ]
  },
  {
   "cell_type": "code",
   "execution_count": null,
   "metadata": {},
   "outputs": [],
   "source": [
    "corr16 = df16.corr().round(2)\n",
    "plt.figure(figsize = (60,50))\n",
    "sns.heatmap(corr16,cmap='coolwarm',annot=True, annot_kws={\"size\":10})\n",
    "plt.title(\"Year-2019 April-Week4\", fontsize=80)\n",
    "plt.savefig('corr_aprwk4.png')"
   ]
  },
  {
   "cell_type": "code",
   "execution_count": null,
   "metadata": {},
   "outputs": [],
   "source": [
    "df17 = df.loc[2921:3120, :]"
   ]
  },
  {
   "cell_type": "code",
   "execution_count": null,
   "metadata": {},
   "outputs": [],
   "source": [
    "corr17 = df17.corr().round(2)\n",
    "plt.figure(figsize = (60,50))\n",
    "sns.heatmap(corr17,cmap='coolwarm',annot=True, annot_kws={\"size\":10})\n",
    "plt.title(\"Year-2019 May-Week1\", fontsize=80)\n",
    "plt.savefig('corr_maywk4.png')"
   ]
  },
  {
   "cell_type": "code",
   "execution_count": null,
   "metadata": {},
   "outputs": [],
   "source": [
    "df18 = df.loc[3103:3284, :]"
   ]
  },
  {
   "cell_type": "code",
   "execution_count": null,
   "metadata": {},
   "outputs": [],
   "source": [
    "corr18 = df18.corr().round(2)\n",
    "plt.figure(figsize = (60,50))\n",
    "sns.heatmap(corr18,cmap='coolwarm',annot=True, annot_kws={\"size\":10})\n",
    "plt.title(\"Year-2019 May-Week2\", fontsize=80)\n",
    "plt.savefig('corr_maywk2.png')"
   ]
  },
  {
   "cell_type": "code",
   "execution_count": null,
   "metadata": {},
   "outputs": [],
   "source": [
    "df19 = df.loc[3285:3466, :]"
   ]
  },
  {
   "cell_type": "code",
   "execution_count": null,
   "metadata": {},
   "outputs": [],
   "source": [
    "df19.shape"
   ]
  },
  {
   "cell_type": "code",
   "execution_count": null,
   "metadata": {},
   "outputs": [],
   "source": [
    "corr19 = df19.corr().round(2)\n",
    "plt.figure(figsize = (60,50))\n",
    "sns.heatmap(corr19,cmap='coolwarm',annot=True, annot_kws={\"size\":10})\n",
    "plt.title(\"Year-2019 May-Week3\", fontsize=80)\n",
    "plt.savefig('corr_maywk3.png')"
   ]
  },
  {
   "cell_type": "code",
   "execution_count": null,
   "metadata": {},
   "outputs": [],
   "source": [
    "df20 = df.loc[3467:3650, :]"
   ]
  },
  {
   "cell_type": "code",
   "execution_count": null,
   "metadata": {},
   "outputs": [],
   "source": [
    "corr20 = df20.corr().round(2)\n",
    "plt.figure(figsize = (60,50))\n",
    "sns.heatmap(corr20,cmap='coolwarm',annot=True, annot_kws={\"size\":10})\n",
    "plt.title(\"Year-2019 May-Week4\", fontsize=80)\n",
    "plt.savefig('corr_maywk4.png')"
   ]
  },
  {
   "cell_type": "code",
   "execution_count": null,
   "metadata": {},
   "outputs": [],
   "source": [
    "df21 = df.loc[3651:3832, :]"
   ]
  },
  {
   "cell_type": "code",
   "execution_count": null,
   "metadata": {},
   "outputs": [],
   "source": [
    "corr21 = df21.corr().round(2)\n",
    "plt.figure(figsize = (60,50))\n",
    "sns.heatmap(corr21,cmap='coolwarm',annot=True, annot_kws={\"size\":10})\n",
    "plt.title(\"Year-2019 June-Week1\", fontsize=80)\n",
    "plt.savefig('corr_junewk1.png')"
   ]
  },
  {
   "cell_type": "code",
   "execution_count": null,
   "metadata": {},
   "outputs": [],
   "source": [
    "df22 = df.loc[3833:4014, :]"
   ]
  },
  {
   "cell_type": "code",
   "execution_count": null,
   "metadata": {},
   "outputs": [],
   "source": [
    "corr22 = df22.corr().round(2)\n",
    "plt.figure(figsize = (60,50))\n",
    "sns.heatmap(corr22,cmap='coolwarm',annot=True, annot_kws={\"size\":10})\n",
    "plt.title(\"Year-2019 June-Week2\", fontsize=80)\n",
    "plt.savefig('corr_junewk2.png')"
   ]
  },
  {
   "cell_type": "code",
   "execution_count": null,
   "metadata": {},
   "outputs": [],
   "source": [
    "df23 = df.loc[4015:4196, :]"
   ]
  },
  {
   "cell_type": "code",
   "execution_count": null,
   "metadata": {},
   "outputs": [],
   "source": [
    "corr23 = df23.corr().round(2)\n",
    "plt.figure(figsize = (60,50))\n",
    "sns.heatmap(corr23,cmap='coolwarm',annot=True, annot_kws={\"size\":10})\n",
    "plt.title(\"Year-2019 June-Week3\", fontsize=80)\n",
    "plt.savefig('corr_junewk3.png')"
   ]
  },
  {
   "cell_type": "code",
   "execution_count": null,
   "metadata": {},
   "outputs": [],
   "source": [
    "df24 = df.loc[4197:4380, :]"
   ]
  },
  {
   "cell_type": "code",
   "execution_count": null,
   "metadata": {},
   "outputs": [],
   "source": [
    "corr24 = df24.corr().round(2)\n",
    "plt.figure(figsize = (60,50))\n",
    "sns.heatmap(corr24,cmap='coolwarm',annot=True, annot_kws={\"size\":10})\n",
    "plt.title(\"Year-2019 June-Week4\", fontsize=80)\n",
    "plt.savefig('corr_junewk4.png')"
   ]
  },
  {
   "cell_type": "code",
   "execution_count": null,
   "metadata": {},
   "outputs": [],
   "source": [
    "df25 = df.loc[4381:4562, :]"
   ]
  },
  {
   "cell_type": "code",
   "execution_count": null,
   "metadata": {},
   "outputs": [],
   "source": [
    "corr25 = df25.corr().round(2)\n",
    "plt.figure(figsize = (60,50))\n",
    "sns.heatmap(corr25,cmap='coolwarm',annot=True, annot_kws={\"size\":10})\n",
    "plt.title(\"Year-2019 July-Week1\", fontsize=80)\n",
    "plt.savefig('corr_julywk1.png')"
   ]
  },
  {
   "cell_type": "code",
   "execution_count": null,
   "metadata": {},
   "outputs": [],
   "source": [
    "df26 = df.loc[4563:4744, :]"
   ]
  },
  {
   "cell_type": "code",
   "execution_count": null,
   "metadata": {},
   "outputs": [],
   "source": [
    "corr26 = df26.corr().round(2)\n",
    "plt.figure(figsize = (60,50))\n",
    "sns.heatmap(corr26,cmap='coolwarm',annot=True, annot_kws={\"size\":10})\n",
    "plt.title(\"Year-2019 July-Week2\", fontsize=80)\n",
    "plt.savefig('corr_julywk2.png')"
   ]
  },
  {
   "cell_type": "code",
   "execution_count": null,
   "metadata": {},
   "outputs": [],
   "source": [
    "df27 = df.loc[4745:4926, :]"
   ]
  },
  {
   "cell_type": "code",
   "execution_count": null,
   "metadata": {},
   "outputs": [],
   "source": [
    "corr27 = df27.corr().round(2)\n",
    "plt.figure(figsize = (60,50))\n",
    "sns.heatmap(corr27,cmap='coolwarm',annot=True, annot_kws={\"size\":10})\n",
    "plt.title(\"Year-2019 July-Week3\", fontsize=80)\n",
    "plt.savefig('corr_julywk3.png')"
   ]
  },
  {
   "cell_type": "code",
   "execution_count": null,
   "metadata": {},
   "outputs": [],
   "source": [
    "df28 = df.loc[4927:5110, :]"
   ]
  },
  {
   "cell_type": "code",
   "execution_count": null,
   "metadata": {},
   "outputs": [],
   "source": [
    "corr28 = df28.corr().round(2)\n",
    "plt.figure(figsize = (60,50))\n",
    "sns.heatmap(corr28,cmap='coolwarm',annot=True, annot_kws={\"size\":10})\n",
    "plt.title(\"Year-2019 July-Week4\", fontsize=80)\n",
    "plt.savefig('corr_julywk4.png')"
   ]
  },
  {
   "cell_type": "code",
   "execution_count": null,
   "metadata": {},
   "outputs": [],
   "source": [
    "df29 = df.loc[5111:5292, :]"
   ]
  },
  {
   "cell_type": "code",
   "execution_count": null,
   "metadata": {},
   "outputs": [],
   "source": [
    "corr29 = df29.corr().round(2)\n",
    "plt.figure(figsize = (60,50))\n",
    "sns.heatmap(corr29,cmap='coolwarm',annot=True, annot_kws={\"size\":10})\n",
    "plt.title(\"Year-2019 August-Week1\", fontsize=80)\n",
    "plt.savefig('corr_augwk1.png')"
   ]
  },
  {
   "cell_type": "code",
   "execution_count": null,
   "metadata": {},
   "outputs": [],
   "source": [
    "df30 = df.loc[5293:5474, :]"
   ]
  },
  {
   "cell_type": "code",
   "execution_count": null,
   "metadata": {},
   "outputs": [],
   "source": [
    "corr30 = df30.corr().round(2)\n",
    "plt.figure(figsize = (60,50))\n",
    "sns.heatmap(corr30,cmap='coolwarm',annot=True, annot_kws={\"size\":10})\n",
    "plt.title(\"Year-2019 August-Week2\", fontsize=80)\n",
    "plt.savefig('corr_augwk2.png')"
   ]
  },
  {
   "cell_type": "code",
   "execution_count": null,
   "metadata": {},
   "outputs": [],
   "source": [
    "df31 = df.loc[5475:5656, :]"
   ]
  },
  {
   "cell_type": "code",
   "execution_count": null,
   "metadata": {},
   "outputs": [],
   "source": [
    "corr31 = df31.corr().round(2)\n",
    "plt.figure(figsize = (60,50))\n",
    "sns.heatmap(corr31,cmap='coolwarm',annot=True, annot_kws={\"size\":10})\n",
    "plt.title(\"Year-2019 August-Week3\", fontsize=80)\n",
    "plt.savefig('corr_augwk3.png')"
   ]
  },
  {
   "cell_type": "code",
   "execution_count": null,
   "metadata": {},
   "outputs": [],
   "source": [
    "df32 = df.loc[5657:5840, :]"
   ]
  },
  {
   "cell_type": "code",
   "execution_count": null,
   "metadata": {},
   "outputs": [],
   "source": [
    "corr32 = df32.corr().round(2)\n",
    "plt.figure(figsize = (60,50))\n",
    "sns.heatmap(corr32,cmap='coolwarm',annot=True, annot_kws={\"size\":10})\n",
    "plt.title(\"Year-2019 August-Week4\", fontsize=80)\n",
    "plt.savefig('corr_augwk4.png')"
   ]
  },
  {
   "cell_type": "code",
   "execution_count": null,
   "metadata": {},
   "outputs": [],
   "source": [
    "df33 = df.loc[5841:6022, :]"
   ]
  },
  {
   "cell_type": "code",
   "execution_count": null,
   "metadata": {},
   "outputs": [],
   "source": [
    "corr33 = df33.corr().round(2)\n",
    "plt.figure(figsize = (60,50))\n",
    "sns.heatmap(corr33,cmap='coolwarm',annot=True, annot_kws={\"size\":10})\n",
    "plt.title(\"Year-2019 September-Week1\", fontsize=80)\n",
    "plt.savefig('corr_sepwk1.png')"
   ]
  },
  {
   "cell_type": "code",
   "execution_count": null,
   "metadata": {},
   "outputs": [],
   "source": [
    "df34 = df.loc[6023:6204, :]"
   ]
  },
  {
   "cell_type": "code",
   "execution_count": null,
   "metadata": {},
   "outputs": [],
   "source": [
    "corr34 = df34.corr().round(2)\n",
    "plt.figure(figsize = (60,50))\n",
    "sns.heatmap(corr34,cmap='coolwarm',annot=True, annot_kws={\"size\":10})\n",
    "plt.title(\"Year-2019 September-Week2\", fontsize=80)\n",
    "plt.savefig('corr_sepwk2.png')"
   ]
  },
  {
   "cell_type": "code",
   "execution_count": null,
   "metadata": {},
   "outputs": [],
   "source": [
    "df35 = df.loc[6205:6386, :]"
   ]
  },
  {
   "cell_type": "code",
   "execution_count": null,
   "metadata": {},
   "outputs": [],
   "source": [
    "corr35 = df35.corr().round(2)\n",
    "plt.figure(figsize = (60,50))\n",
    "sns.heatmap(corr35,cmap='coolwarm',annot=True, annot_kws={\"size\":10})\n",
    "plt.title(\"Year-2019 September-Week3\", fontsize=80)\n",
    "plt.savefig('corr_sepwk3.png')"
   ]
  },
  {
   "cell_type": "code",
   "execution_count": null,
   "metadata": {},
   "outputs": [],
   "source": [
    "df36 = df.loc[6387:6570, :]"
   ]
  },
  {
   "cell_type": "code",
   "execution_count": null,
   "metadata": {},
   "outputs": [],
   "source": [
    "corr36 = df36.corr().round(2)\n",
    "plt.figure(figsize = (60,50))\n",
    "sns.heatmap(corr36,cmap='coolwarm',annot=True, annot_kws={\"size\":10})\n",
    "plt.title(\"Year-2019 September-Week4\", fontsize=80)\n",
    "plt.savefig('corr_sepwk4.png')"
   ]
  },
  {
   "cell_type": "code",
   "execution_count": null,
   "metadata": {},
   "outputs": [],
   "source": [
    "df37 = df.loc[6571:6752, :]"
   ]
  },
  {
   "cell_type": "code",
   "execution_count": null,
   "metadata": {},
   "outputs": [],
   "source": [
    "corr37 = df37.corr().round(2)\n",
    "plt.figure(figsize = (60,50))\n",
    "sns.heatmap(corr37,cmap='coolwarm',annot=True, annot_kws={\"size\":10})\n",
    "plt.title(\"Year-2019 October-Week1\", fontsize=80)\n",
    "plt.savefig('corr_octwk1.png')"
   ]
  },
  {
   "cell_type": "code",
   "execution_count": null,
   "metadata": {},
   "outputs": [],
   "source": [
    "df38 = df.loc[6753:6934, :]"
   ]
  },
  {
   "cell_type": "code",
   "execution_count": null,
   "metadata": {},
   "outputs": [],
   "source": [
    "corr38 = df38.corr().round(2)\n",
    "plt.figure(figsize = (60,50))\n",
    "sns.heatmap(corr38,cmap='coolwarm',annot=True, annot_kws={\"size\":10})\n",
    "plt.title(\"Year-2019 October-Week2\", fontsize=80)\n",
    "plt.savefig('corr_octwk2.png')"
   ]
  },
  {
   "cell_type": "code",
   "execution_count": null,
   "metadata": {},
   "outputs": [],
   "source": [
    "df39 = df.loc[6935:7116, :]"
   ]
  },
  {
   "cell_type": "code",
   "execution_count": null,
   "metadata": {},
   "outputs": [],
   "source": [
    "corr39 = df39.corr().round(2)\n",
    "plt.figure(figsize = (60,50))\n",
    "sns.heatmap(corr39,cmap='coolwarm',annot=True, annot_kws={\"size\":10})\n",
    "plt.title(\"Year-2019 October-Week3\", fontsize=80)\n",
    "plt.savefig('corr_octwk3.png')"
   ]
  },
  {
   "cell_type": "code",
   "execution_count": null,
   "metadata": {},
   "outputs": [],
   "source": [
    "df40 = df.loc[7117:7300, :]"
   ]
  },
  {
   "cell_type": "code",
   "execution_count": null,
   "metadata": {},
   "outputs": [],
   "source": [
    "corr40 = df40.corr().round(2)\n",
    "plt.figure(figsize = (60,50))\n",
    "sns.heatmap(corr40,cmap='coolwarm',annot=True, annot_kws={\"size\":10})\n",
    "plt.title(\"Year-2019 October-Week4\", fontsize=80)\n",
    "plt.savefig('corr_octwk4.png')"
   ]
  },
  {
   "cell_type": "code",
   "execution_count": null,
   "metadata": {},
   "outputs": [],
   "source": [
    "df41 = df.loc[7301:7482, :]"
   ]
  },
  {
   "cell_type": "code",
   "execution_count": null,
   "metadata": {},
   "outputs": [],
   "source": [
    "corr41 = df41.corr().round(2)\n",
    "plt.figure(figsize = (60,50))\n",
    "sns.heatmap(corr41,cmap='coolwarm',annot=True, annot_kws={\"size\":10})\n",
    "plt.title(\"Year-2019 November-Week1\", fontsize=80)\n",
    "plt.savefig('corr_novwk1.png')"
   ]
  },
  {
   "cell_type": "code",
   "execution_count": null,
   "metadata": {},
   "outputs": [],
   "source": [
    "df42 = df.loc[7483:7664, :]"
   ]
  },
  {
   "cell_type": "code",
   "execution_count": null,
   "metadata": {},
   "outputs": [],
   "source": [
    "corr42 = df42.corr().round(2)\n",
    "plt.figure(figsize = (60,50))\n",
    "sns.heatmap(corr42,cmap='coolwarm',annot=True, annot_kws={\"size\":10})\n",
    "plt.title(\"Year-2019 November-Week2\", fontsize=80)\n",
    "plt.savefig('corr_novwk2.png')"
   ]
  },
  {
   "cell_type": "code",
   "execution_count": null,
   "metadata": {},
   "outputs": [],
   "source": [
    "df43 = df.loc[7665:7846, :]"
   ]
  },
  {
   "cell_type": "code",
   "execution_count": null,
   "metadata": {},
   "outputs": [],
   "source": [
    "corr43 = df43.corr().round(2)\n",
    "plt.figure(figsize = (60,50))\n",
    "sns.heatmap(corr43,cmap='coolwarm',annot=True, annot_kws={\"size\":10})\n",
    "plt.title(\"Year-2019 November-Week3\", fontsize=80)\n",
    "plt.savefig('corr_novwk3.png')"
   ]
  },
  {
   "cell_type": "code",
   "execution_count": null,
   "metadata": {},
   "outputs": [],
   "source": [
    "df44 = df.loc[7847:8030, :]"
   ]
  },
  {
   "cell_type": "code",
   "execution_count": null,
   "metadata": {},
   "outputs": [],
   "source": [
    "corr44 = df44.corr().round(2)\n",
    "plt.figure(figsize = (60,50))\n",
    "sns.heatmap(corr44,cmap='coolwarm',annot=True, annot_kws={\"size\":10})\n",
    "plt.title(\"Year-2019 November-Week4\", fontsize=80)\n",
    "plt.savefig('corr_novwk4.png')"
   ]
  },
  {
   "cell_type": "code",
   "execution_count": null,
   "metadata": {},
   "outputs": [],
   "source": [
    "df45 = df.loc[8031:8212, :]"
   ]
  },
  {
   "cell_type": "code",
   "execution_count": null,
   "metadata": {},
   "outputs": [],
   "source": [
    "corr45 = df45.corr().round(2)\n",
    "plt.figure(figsize = (60,50))\n",
    "sns.heatmap(corr45,cmap='coolwarm',annot=True, annot_kws={\"size\":10})\n",
    "plt.title(\"Year-2019 December-Week1\", fontsize=80)\n",
    "plt.savefig('corr_decwk2.png')"
   ]
  },
  {
   "cell_type": "code",
   "execution_count": null,
   "metadata": {},
   "outputs": [],
   "source": [
    "df46 = df.loc[8213:8394, :]"
   ]
  },
  {
   "cell_type": "code",
   "execution_count": null,
   "metadata": {},
   "outputs": [],
   "source": [
    "corr46 = df46.corr().round(2)\n",
    "plt.figure(figsize = (60,50))\n",
    "sns.heatmap(corr46,cmap='coolwarm',annot=True, annot_kws={\"size\":10})\n",
    "plt.title(\"Year-2019 December-Week2\", fontsize=80)\n",
    "plt.savefig('corr_decwk2.png')"
   ]
  },
  {
   "cell_type": "code",
   "execution_count": null,
   "metadata": {},
   "outputs": [],
   "source": [
    "df47 = df.loc[8395:8576, :]"
   ]
  },
  {
   "cell_type": "code",
   "execution_count": null,
   "metadata": {},
   "outputs": [],
   "source": [
    "corr47 = df47.corr().round(2)\n",
    "plt.figure(figsize = (60,50))\n",
    "sns.heatmap(corr47,cmap='coolwarm',annot=True, annot_kws={\"size\":10})\n",
    "plt.title(\"Year-2019 December-Week3\", fontsize=80)\n",
    "plt.savefig('corr_decwk3.png')"
   ]
  },
  {
   "cell_type": "code",
   "execution_count": null,
   "metadata": {},
   "outputs": [],
   "source": [
    "df48 = df.loc[8577:8760, :]"
   ]
  },
  {
   "cell_type": "code",
   "execution_count": null,
   "metadata": {},
   "outputs": [],
   "source": [
    "corr48 = df48.corr().round(2)\n",
    "plt.figure(figsize = (60,50))\n",
    "sns.heatmap(corr48,cmap='coolwarm',annot=True, annot_kws={\"size\":10})\n",
    "plt.title(\"Year-2019 December-Week4\", fontsize=80)\n",
    "plt.savefig('corr_decwk4.png')"
   ]
  },
  {
   "cell_type": "code",
   "execution_count": null,
   "metadata": {},
   "outputs": [],
   "source": []
  },
  {
   "cell_type": "code",
   "execution_count": null,
   "metadata": {},
   "outputs": [],
   "source": []
  },
  {
   "cell_type": "code",
   "execution_count": null,
   "metadata": {},
   "outputs": [],
   "source": []
  },
  {
   "cell_type": "code",
   "execution_count": null,
   "metadata": {},
   "outputs": [],
   "source": []
  }
 ],
 "metadata": {
  "kernelspec": {
   "display_name": "Python 3",
   "language": "python",
   "name": "python3"
  },
  "language_info": {
   "codemirror_mode": {
    "name": "ipython",
    "version": 3
   },
   "file_extension": ".py",
   "mimetype": "text/x-python",
   "name": "python",
   "nbconvert_exporter": "python",
   "pygments_lexer": "ipython3",
   "version": "3.7.6"
  }
 },
 "nbformat": 4,
 "nbformat_minor": 2
}
