{
 "cells": [
  {
   "cell_type": "code",
   "execution_count": 22,
   "metadata": {},
   "outputs": [],
   "source": [
    "%matplotlib inline\n",
    "import numpy as np\n",
    "from bokeh.layouts import row, column, gridplot\n",
    "from bokeh.models import ColumnDataSource, Slider, Select\n",
    "from bokeh.plotting import curdoc, figure, show, output_file\n",
    "from bokeh.driving import count\n",
    "from bokeh.palettes import Spectral11\n",
    "import itertools\n",
    "\n",
    "import json\n",
    "from os.path import dirname, join\n",
    "import numpy as np\n",
    "import pandas as pd\n",
    "import matplotlib.pyplot as plt\n",
    "import collections\n",
    "\n",
    "BUFSIZE = 200\n",
    "filename = '17700.json'\n",
    "    "
   ]
  },
  {
   "cell_type": "code",
   "execution_count": 35,
   "metadata": {},
   "outputs": [
    {
     "name": "stdout",
     "output_type": "stream",
     "text": [
      "            time  pppl-rt5  srs-rt3  eqx-ash-asw1  orau-rt3    pnwg-ssw1  \\\n",
      "0  1529280000000       0.0      0.0           0.0       0.0  2563.698814   \n",
      "1  1529280030000       0.0      0.0           0.0       0.0  3289.142940   \n",
      "2  1529280060000       0.0      0.0           0.0       0.0  2440.466643   \n",
      "3  1529280090000       0.0      0.0           0.0       0.0  3251.836702   \n",
      "4  1529280120000       0.0      0.0           0.0       0.0  3830.225718   \n",
      "\n",
      "   lbl-2002-asw1  wash-ar1    wash-cr5  osti-rt2     ...          aofa-cr5  \\\n",
      "0            0.0       0.0  289.479020       0.0     ...       2999.733333   \n",
      "1            0.0       0.0  357.782284       0.0     ...       2601.866667   \n",
      "2            0.0       0.0  327.292855       0.0     ...       2343.200000   \n",
      "3            0.0       0.0  251.111613       0.0     ...       2378.666667   \n",
      "4            0.0       0.0  268.645056       0.0     ...       2745.066667   \n",
      "\n",
      "   cern-513-cr5  bnl-lsw4     bnl-lsw2       bnl-lsw1      bost-cr5  \\\n",
      "0  9.209956e+09       0.0  2395.845926   25910.532385  6.313451e+07   \n",
      "1  8.205888e+09       0.0  2345.967359   23211.121661  5.561942e+07   \n",
      "2  8.068554e+09       0.0  2783.273817   81200.856466  6.589265e+07   \n",
      "3  8.319181e+09       0.0  2742.273310  139328.909532  6.667935e+07   \n",
      "4  8.810978e+09       0.0  3060.981573   20111.278377  5.735789e+07   \n",
      "\n",
      "   lbl-2002-ssw1  ameslab-asw1   kans-cr5    sacr-ssw1  \n",
      "0    2864.698323           0.0  41.561710  2664.602426  \n",
      "1    4142.622601           0.0  52.878883  2295.572316  \n",
      "2    3849.553955           0.0  48.853330  2634.642347  \n",
      "3    4165.214086           0.0  53.085373  2967.581863  \n",
      "4    4424.863851           0.0  54.393410  2855.513961  \n",
      "\n",
      "[5 rows x 148 columns]\n"
     ]
    }
   ],
   "source": [
    "def jsonToDF(filename):\n",
    "    initialize = True\n",
    "    json1_file = open(filename)\n",
    "    json1_str = json1_file.read()\n",
    "    json1_data = json.loads(json1_str)\n",
    "    for link in json1_data.keys():\n",
    "        tsdict = json1_data[link]\n",
    "        keys = sorted(list(map(int, tsdict.keys())))\n",
    "        sorted_val = []\n",
    "        for k in keys:\n",
    "            sorted_val.append(tsdict[str(k)])\n",
    "        if initialize:\n",
    "            df = pd.DataFrame({'time': keys, link: sorted_val})\n",
    "            df.set_index('time')\n",
    "            initialize = False\n",
    "        else:\n",
    "            df = pd.concat([df, pd.DataFrame({link: sorted_val})], axis=1)\n",
    "    return df\n",
    "\n",
    "df = jsonToDF(filename)\n",
    "print(df.head())\n",
    "#df.plot(figsize=(17,20))\n",
    "dicts = df.to_dict(orient='records')"
   ]
  },
  {
   "cell_type": "code",
   "execution_count": 36,
   "metadata": {},
   "outputs": [
    {
     "name": "stdout",
     "output_type": "stream",
     "text": [
      "{'time': [1529280000000.0], 'pppl-rt5': [0.0], 'srs-rt3': [0.0], 'eqx-ash-asw1': [0.0], 'orau-rt3': [0.0], 'pnwg-ssw1': [2563.698813597361], 'lbl-2002-asw1': [0.0], 'wash-ar1': [0.0], 'wash-cr5': [289.47902018229166], 'osti-rt2': [0.0], 'netl-mgn-rt1': [19843.94553527832], 'star-cr5': [150.25999806722004], 'albq-asw1': [0.0], 'elpa-cr5': [868248365.3333334], 'jgi-asw1': [0.0], 'sunn-asw1': [0.0], 'netl-mgn-ssw1': [11813.002880350748], 'nash-cr5': [13630160.4], 'albq-cr5': [300147198.73333335], 'anl-ssw1': [5369.891113408406], 'sunn-cr5': [34230.96666666667], 'denv-cr5': [1832587237.3333333], 'osti-ssw1': [1389.9321883201599], 'llnl-mr2': [0.0], 'newy-asw1': [284082.02643229166], 'star-asw1': [145.2618887980779], 'nersc-2960-1': [3879.205244064331], 'sdsc-2940-1': [2452.3480570475263], 'snll-mr2': [68.67121857802073], 'chic-2960-1': [3021.6771589279174], 'chic-asw1': [372329.7859049479], 'esnet-lsw4': [42176.03204447428], 'denv-2960-1': [3584.4166208902993], 'slac-2940-1': [2291.8389973958333], 'sunn-2960-1': [2807.0080187479657], 'sdsc-asw1': [0.0], 'lond-cr5': [4094411270.5666666], 'llnldc-rt4': [0.0], 'esnet-rt5': [45520107.7], 'osti-asw1': [5036057.225520833], 'bost-2960-1': [1809.179892285665], 'hous-2960-1': [3101.998955408732], 'eqx-sj-asw1': [0.0], 'ornl-ssw2': [2807.7197083791098], 'anl-asw1': [5348978.225], 'fnal-2960-1': [4311.762899589538], 'doe-gtn-rt2': [0.0], 'lsvn-ssw1': [2852.5702845891315], 'lond-ssw1': [3197.802924982707], 'srs-ssw1': [3722.0516464869183], 'slac-asw1': [0.0], 'netl-pgh-rt1': [21097.544676717123], 'pantex-ssw1': [2703.7032885869344], 'fnal-asw1': [0.0], 'cern-773-asw1': [0.0], 'sdsc-sdn2': [34486.0], 'denv-asw1': [750246.9471354167], 'atla-cr5': [1171611925.3333333], 'orau-ssw1': [1057.0669523557028], 'pnwg-asw1': [630551.015234375], 'forr-ssw1': [1079.7031491279602], 'newy-2960-1': [2461.275782140096], 'aofa-asw1': [1504319.1046875], 'cern-513-asw1': [0.0], 'pppl-ssw2': [2816.7103712081907], 'aofa-2960-1': [3597.676376215617], 'chic-cr5': [7150257306.666667], 'snll-asw1': [0.0], 'nash-asw1': [0.0], 'ornl-asw1': [0.0], 'newy-cr5': [41036.26666666667], 'anl-mr2': [3256.913541666667], 'lond-asw1': [0.0], 'bost-asw1': [778786.48671875], 'crt-ops-ssw1': [8487.147325642904], 'star-ssw2': [0.0], 'nersc-ssw3': [3285.5394660949705], 'cern-773-cr5': [142239.06666666668], 'sacr-cr5': [1875081360.5333333], 'xo-osf-rt1': [0.0], 'hous-asw1': [420501966.2583333], 'eqx-chi-asw1': [0.0], 'hous-cr5': [62369338.11666667], 'eqx-chi-cr5': [21030739.029166665], 'snll-2940-1': [2111.2807006835938], 'lbl-mr2': [0.0], 'lsvn-cr1': [0.0], 'ga-rt2': [0.0], 'bois-asw1': [0.0], 'fnal-mr2': [801313.20625], 'atla-asw1': [53480715.9], 'llnl-2940-1': [2720.0188484191895], 'ameslab-ssw1': [1785.239334516724], 'netl-pgh-ssw1': [9771.241671244303], 'nersc-mr2': [53208.38776041667], 'sacr-asw1': [721912.0915364583], 'albq-ssw1': [2306.0230382919312], 'bnl-rt3': [0.0], 'ornl-rt4': [4413.731510416666], 'amst-ssw1': [4162.454889297485], 'lbl-2002-lsw3': [20866.259875488282], 'lbl-2002-lsw2': [134.78010229269663], 'lbl-2002-lsw1': [0.0], 'lbl-2002-lsw7': [0.0], 'lbl-2002-lsw6': [4438.047493489584], 'lbl-2002-lsw5': [6803371.816666666], 'lbl-2002-lsw4': [0.0], 'cern-773-ssw1': [5716.2383121490475], 'netl-alb-ssw1': [4964.122698338827], 'netl-alb-rt1': [10926.159211858114], 'eqx-ash-cr5': [589732.0458333333], 'star-ssw1': [0.0], 'snla-ssw1': [2484.2366906483967], 'ornl-cr5': [4435692.922916667], 'amst-asw1': [0.0], 'doe-gtn-ssw1': [2931.3243654886883], 'pantex-rt3': [0.0], 'lbl-1165a-lsw1': [43385.61239420573], 'pnwg-cr5': [332524024.03333336], 'bois-cr1': [34734.26666666667], 'nersc-asw1': [0.0], 'snla-rt3': [0.0], 'slac-mr2': [0.0], 'ameslab-rt3': [370.33668182492255], 'llnldc-ssw1': [1204.340325228373], 'jgi-2940-1': [2016.006269454956], 'eqx-sj-cr5': [9928509.472916666], 'kans-asw1': [79380535.9], 'wash-asw1': [29050931.4875], 'elpa-asw1': [0.0], 'jgi-mr2': [0.0], 'atla-2960-1': [2031.9116160710653], 'cern-513-ssw1': [5177.335809834798], 'lbl-2960-1': [3895.8189149220784], 'forr-rt2': [0.0], 'nersc-ssw4': [122204.79440104167], 'amst-cr5': [248722.59166666667], 'wash-2960-1': [3339.1467555999757], 'aofa-cr5': [2999.733333333333], 'cern-513-cr5': [9209956196.4], 'bnl-lsw4': [0.0], 'bnl-lsw2': [2395.8459256490073], 'bnl-lsw1': [25910.532385253908], 'bost-cr5': [63134514.93333333], 'lbl-2002-ssw1': [2864.6983227411906], 'ameslab-asw1': [0.0], 'kans-cr5': [41.561709562937416], 'sacr-ssw1': [2664.602425702413]}\n"
     ]
    }
   ],
   "source": [
    "source = ColumnDataSource(df)\n",
    "links = list(df.columns.values)\n",
    "for dict in dicts:\n",
    "    for k in links:\n",
    "        dict[k] = [dict[k]]\n",
    "links.remove('time')\n",
    "\n",
    "p = figure(plot_height=500, tools=\"xpan,xwheel_zoom,xbox_zoom,reset\", x_axis_type=None, y_axis_location=\"right\")\n",
    "p.x_range.follow = \"end\"\n",
    "p.x_range.follow_interval = 100\n",
    "p.x_range.range_padding = 0\n",
    "ts = Select(value=\"all\", options=[\"all\"] + links)\n",
    "\n",
    "numlines=len(links)\n",
    "palette=itertools.cycle(Spectral11[0:numlines])\n",
    "\n",
    "for i in range(numlines):\n",
    "    p.line(x='time', y=links[i], alpha=0.2, line_width=3, color=next(palette), source=source)\n"
   ]
  },
  {
   "cell_type": "code",
   "execution_count": 29,
   "metadata": {},
   "outputs": [],
   "source": [
    "@count()\n",
    "def update(t):\n",
    "    global dicts\n",
    "    new_data = dicts[t % len(dicts)]\n",
    "\n",
    "#     if   ts.value == MA12:  new_data['ma'] = [ma12]\n",
    "#     elif ts.value == MA26:  new_data['ma'] = [ma26]\n",
    "#     elif ts.value == EMA12: new_data['ma'] = [ema12]\n",
    "#     elif ts.value == EMA26: new_data['ma'] = [ema26]\n",
    "\n",
    "    source.stream(new_data, 300)\n",
    "\n",
    "curdoc().add_root(column(row(ts), gridplot([[p]], toolbar_location=\"left\", plot_width=1000)))\n",
    "curdoc().add_periodic_callback(update, 50)\n",
    "curdoc().title = \"SNMP\""
   ]
  },
  {
   "cell_type": "code",
   "execution_count": 14,
   "metadata": {},
   "outputs": [
    {
     "data": {
      "text/plain": [
       "'2018-06-17 17:00:00'"
      ]
     },
     "execution_count": 14,
     "metadata": {},
     "output_type": "execute_result"
    }
   ],
   "source": [
    "import datetime\n",
    "your_timestamp = 1331856000000\n",
    "date = datetime.datetime.fromtimestamp(1529280000000 / 1e3)\n",
    "str(date)"
   ]
  },
  {
   "cell_type": "code",
   "execution_count": 1,
   "metadata": {},
   "outputs": [],
   "source": [
    "import numpy as np\n",
    "np.random.seed(1)\n",
    "\n",
    "from bokeh.layouts import row, column, gridplot\n",
    "from bokeh.models import ColumnDataSource, Slider, Select\n",
    "from bokeh.plotting import curdoc, figure\n",
    "from bokeh.driving import count\n",
    "\n",
    "BUFSIZE = 200\n",
    "MA12, MA26, EMA12, EMA26 = '12-tick Moving Avg', '26-tick Moving Avg', '12-tick EMA', '26-tick EMA'\n",
    "\n",
    "source = ColumnDataSource(dict(\n",
    "    time=[], average=[], low=[], high=[], open=[], close=[],\n",
    "    ma=[], macd=[], macd9=[], macdh=[], color=[]\n",
    "))\n",
    "\n",
    "p = figure(plot_height=500, tools=\"xpan,xwheel_zoom,xbox_zoom,reset\", x_axis_type=None, y_axis_location=\"right\")\n",
    "p.x_range.follow = \"end\"\n",
    "p.x_range.follow_interval = 100\n",
    "p.x_range.range_padding = 0\n",
    "\n",
    "p.line(x='time', y='average', alpha=0.2, line_width=3, color='navy', source=source)\n",
    "p.line(x='time', y='ma', alpha=0.8, line_width=2, color='orange', source=source)\n",
    "p.segment(x0='time', y0='low', x1='time', y1='high', line_width=2, color='black', source=source)\n",
    "p.segment(x0='time', y0='open', x1='time', y1='close', line_width=8, color='color', source=source)\n",
    "\n",
    "p2 = figure(plot_height=250, x_range=p.x_range, tools=\"xpan,xwheel_zoom,xbox_zoom,reset\", y_axis_location=\"right\")\n",
    "p2.line(x='time', y='macd', color='red', source=source)\n",
    "p2.line(x='time', y='macd9', color='blue', source=source)\n",
    "p2.segment(x0='time', y0=0, x1='time', y1='macdh', line_width=6, color='black', alpha=0.5, source=source)\n",
    "\n",
    "mean = Slider(title=\"mean\", value=0, start=-0.01, end=0.01, step=0.001)\n",
    "stddev = Slider(title=\"stddev\", value=0.04, start=0.01, end=0.1, step=0.01)\n",
    "mavg = Select(value=MA12, options=[MA12, MA26, EMA12, EMA26])\n",
    "\n",
    "def _create_prices(t):\n",
    "    last_average = 100 if t==0 else source.data['average'][-1]\n",
    "    returns = np.asarray(np.random.lognormal(mean.value, stddev.value, 1))\n",
    "    average =  last_average * np.cumprod(returns)\n",
    "    high = average * np.exp(abs(np.random.gamma(1, 0.03, size=1)))\n",
    "    low = average / np.exp(abs(np.random.gamma(1, 0.03, size=1)))\n",
    "    delta = high - low\n",
    "    open = low + delta * np.random.uniform(0.05, 0.95, size=1)\n",
    "    close = low + delta * np.random.uniform(0.05, 0.95, size=1)\n",
    "    return open[0], high[0], low[0], close[0], average[0]\n",
    "\n",
    "def _moving_avg(prices, days=10):\n",
    "    if len(prices) < days: return [100]\n",
    "    return np.convolve(prices[-days:], np.ones(days, dtype=float), mode=\"valid\") / days\n",
    "\n",
    "def _ema(prices, days=10):\n",
    "    if len(prices) < days or days < 2: return [prices[-1]]\n",
    "    a = 2.0 / (days+1)\n",
    "    kernel = np.ones(days, dtype=float)\n",
    "    kernel[1:] = 1 - a\n",
    "    kernel = a * np.cumprod(kernel)\n",
    "    # The 0.8647 normalizes out that we stop the EMA after a finite number of terms\n",
    "    return np.convolve(prices[-days:], kernel, mode=\"valid\") / (0.8647)\n",
    "\n",
    "@count()\n",
    "def update(t):\n",
    "    open, high, low, close, average = _create_prices(t)\n",
    "    color = \"green\" if open < close else \"red\"\n",
    "\n",
    "    new_data = dict(\n",
    "        time=[t],\n",
    "        open=[open],\n",
    "        high=[high],\n",
    "        low=[low],\n",
    "        close=[close],\n",
    "        average=[average],\n",
    "        color=[color],\n",
    "    )\n",
    "\n",
    "    close = source.data['close'] + [close]\n",
    "    ma12 = _moving_avg(close[-12:], 12)[0]\n",
    "    ma26 = _moving_avg(close[-26:], 26)[0]\n",
    "    ema12 = _ema(close[-12:], 12)[0]\n",
    "    ema26 = _ema(close[-26:], 26)[0]\n",
    "\n",
    "    if   mavg.value == MA12:  new_data['ma'] = [ma12]\n",
    "    elif mavg.value == MA26:  new_data['ma'] = [ma26]\n",
    "    elif mavg.value == EMA12: new_data['ma'] = [ema12]\n",
    "    elif mavg.value == EMA26: new_data['ma'] = [ema26]\n",
    "\n",
    "    macd = ema12 - ema26\n",
    "    new_data['macd'] = [macd]\n",
    "\n",
    "    macd_series = source.data['macd'] + [macd]\n",
    "    macd9 = _ema(macd_series[-26:], 9)[0]\n",
    "    new_data['macd9'] = [macd9]\n",
    "    new_data['macdh'] = [macd - macd9]\n",
    "\n",
    "    source.stream(new_data, 300)\n",
    "\n",
    "curdoc().add_root(column(row(mean, stddev, mavg), gridplot([[p], [p2]], toolbar_location=\"left\", plot_width=1000)))\n",
    "curdoc().add_periodic_callback(update, 50)\n",
    "curdoc().title = \"OHLC\""
   ]
  },
  {
   "cell_type": "code",
   "execution_count": 4,
   "metadata": {},
   "outputs": [
    {
     "data": {
      "text/plain": [
       "(105.77556002562126,\n",
       " 106.7134742510443,\n",
       " 105.56676727306952,\n",
       " 105.71939940183024,\n",
       " 106.71310807070746)"
      ]
     },
     "execution_count": 4,
     "metadata": {},
     "output_type": "execute_result"
    }
   ],
   "source": [
    "_create_prices(0)"
   ]
  },
  {
   "cell_type": "code",
   "execution_count": null,
   "metadata": {},
   "outputs": [],
   "source": []
  }
 ],
 "metadata": {
  "kernelspec": {
   "display_name": "Python 3",
   "language": "python",
   "name": "python3"
  },
  "language_info": {
   "codemirror_mode": {
    "name": "ipython",
    "version": 3
   },
   "file_extension": ".py",
   "mimetype": "text/x-python",
   "name": "python",
   "nbconvert_exporter": "python",
   "pygments_lexer": "ipython3",
   "version": "3.6.5"
  },
  "toc": {
   "base_numbering": 1,
   "nav_menu": {},
   "number_sections": false,
   "sideBar": false,
   "skip_h1_title": false,
   "title_cell": "Table of Contents",
   "title_sidebar": "Contents",
   "toc_cell": false,
   "toc_position": {},
   "toc_section_display": false,
   "toc_window_display": false
  }
 },
 "nbformat": 4,
 "nbformat_minor": 2
}
