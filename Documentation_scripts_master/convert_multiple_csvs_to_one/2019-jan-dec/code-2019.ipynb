{
 "cells": [
  {
   "cell_type": "markdown",
   "metadata": {},
   "source": [
    "## How to concat multiple .csvs into a single .csv in arranged in Columns"
   ]
  },
  {
   "cell_type": "code",
   "execution_count": 1,
   "metadata": {},
   "outputs": [],
   "source": [
    "import pandas as pd\n",
    "from os import listdir"
   ]
  },
  {
   "cell_type": "code",
   "execution_count": 2,
   "metadata": {},
   "outputs": [
    {
     "data": {
      "text/plain": [
       "'/Users/bashirm/Documents/GitHub/daphne/Documentation_scripts_master/convert_multiple_csvs_to_one/2019-jan-dec'"
      ]
     },
     "execution_count": 2,
     "metadata": {},
     "output_type": "execute_result"
    }
   ],
   "source": [
    "pwd"
   ]
  },
  {
   "cell_type": "code",
   "execution_count": 3,
   "metadata": {},
   "outputs": [],
   "source": [
    "directory = 'data'"
   ]
  },
  {
   "cell_type": "code",
   "execution_count": 4,
   "metadata": {},
   "outputs": [],
   "source": [
    "data = pd.DataFrame()\n",
    "for file in listdir(directory):\n",
    "    filename = directory+\"/\"+file\n",
    "    dd = pd.read_csv(filename)\n",
    "    dd.columns = [\"{}_{}\".format(file.split(\".\")[0], i) for i in dd.columns]\n",
    "    data= pd.concat([data, dd[dd.columns[1::]]], axis=1)\n",
    "    \n",
    "    time = pd.DataFrame(dd[dd.columns[0]])\n",
    "    time.columns = ['time']\n",
    "data = pd.concat([time, data], axis=1)"
   ]
  },
  {
   "cell_type": "code",
   "execution_count": 5,
   "metadata": {},
   "outputs": [],
   "source": [
    "data.to_csv(\"2019_concat_data.csv\")"
   ]
  },
  {
   "cell_type": "code",
   "execution_count": 6,
   "metadata": {},
   "outputs": [
    {
     "data": {
      "text/plain": [
       "(8737, 105)"
      ]
     },
     "execution_count": 6,
     "metadata": {},
     "output_type": "execute_result"
    }
   ],
   "source": [
    "data.shape"
   ]
  },
  {
   "cell_type": "code",
   "execution_count": 7,
   "metadata": {},
   "outputs": [
    {
     "data": {
      "text/html": [
       "<div>\n",
       "<style scoped>\n",
       "    .dataframe tbody tr th:only-of-type {\n",
       "        vertical-align: middle;\n",
       "    }\n",
       "\n",
       "    .dataframe tbody tr th {\n",
       "        vertical-align: top;\n",
       "    }\n",
       "\n",
       "    .dataframe thead th {\n",
       "        text-align: right;\n",
       "    }\n",
       "</style>\n",
       "<table border=\"1\" class=\"dataframe\">\n",
       "  <thead>\n",
       "    <tr style=\"text-align: right;\">\n",
       "      <th></th>\n",
       "      <th>time</th>\n",
       "      <th>SACR_SUNN_in</th>\n",
       "      <th>SACR_SUNN_out</th>\n",
       "      <th>LOND_NEWY_in</th>\n",
       "      <th>LOND_NEWY_out</th>\n",
       "      <th>JGI_SACR_in</th>\n",
       "      <th>JGI_SACR_out</th>\n",
       "      <th>HOUS_PANTEX_in</th>\n",
       "      <th>HOUS_PANTEX_out</th>\n",
       "      <th>BOIS_PNWG_in</th>\n",
       "      <th>...</th>\n",
       "      <th>AMST_LOND_in</th>\n",
       "      <th>AMST_LOND_out</th>\n",
       "      <th>FNAL_STAR_in</th>\n",
       "      <th>FNAL_STAR_out</th>\n",
       "      <th>BOST_STAR_in</th>\n",
       "      <th>BOST_STAR_out</th>\n",
       "      <th>BOST_NEWY_in</th>\n",
       "      <th>BOST_NEWY_out</th>\n",
       "      <th>ATLA_WASH_in</th>\n",
       "      <th>ATLA_WASH_out</th>\n",
       "    </tr>\n",
       "  </thead>\n",
       "  <tbody>\n",
       "    <tr>\n",
       "      <th>0</th>\n",
       "      <td>2019-01-01 09:00:00</td>\n",
       "      <td>1.133655e+10</td>\n",
       "      <td>1.353560e+10</td>\n",
       "      <td>1.308054e+10</td>\n",
       "      <td>1.118905e+10</td>\n",
       "      <td>9.856045e+04</td>\n",
       "      <td>2.161109e+08</td>\n",
       "      <td>4.958271e+07</td>\n",
       "      <td>1.225558e+08</td>\n",
       "      <td>1.203009e+07</td>\n",
       "      <td>...</td>\n",
       "      <td>2.028780e+10</td>\n",
       "      <td>8.791009e+09</td>\n",
       "      <td>6.157185e+07</td>\n",
       "      <td>2.363276e+05</td>\n",
       "      <td>4.840072e+08</td>\n",
       "      <td>5.048601e+08</td>\n",
       "      <td>3.100098e+09</td>\n",
       "      <td>1.412909e+09</td>\n",
       "      <td>5.879588e+09</td>\n",
       "      <td>1.308217e+10</td>\n",
       "    </tr>\n",
       "    <tr>\n",
       "      <th>1</th>\n",
       "      <td>2019-01-01 10:00:00</td>\n",
       "      <td>1.033284e+10</td>\n",
       "      <td>1.277450e+10</td>\n",
       "      <td>1.346870e+10</td>\n",
       "      <td>9.126663e+09</td>\n",
       "      <td>3.906243e+07</td>\n",
       "      <td>5.634560e+07</td>\n",
       "      <td>1.912810e+07</td>\n",
       "      <td>6.069445e+07</td>\n",
       "      <td>1.087812e+07</td>\n",
       "      <td>...</td>\n",
       "      <td>2.174398e+10</td>\n",
       "      <td>8.993189e+09</td>\n",
       "      <td>3.081849e+07</td>\n",
       "      <td>1.190536e+08</td>\n",
       "      <td>5.102085e+08</td>\n",
       "      <td>8.270927e+08</td>\n",
       "      <td>2.746086e+09</td>\n",
       "      <td>1.318666e+09</td>\n",
       "      <td>5.768907e+09</td>\n",
       "      <td>1.341289e+10</td>\n",
       "    </tr>\n",
       "    <tr>\n",
       "      <th>2</th>\n",
       "      <td>2019-01-01 11:00:00</td>\n",
       "      <td>8.876761e+09</td>\n",
       "      <td>1.160661e+10</td>\n",
       "      <td>1.189719e+10</td>\n",
       "      <td>1.274241e+10</td>\n",
       "      <td>4.859224e+07</td>\n",
       "      <td>7.115637e+07</td>\n",
       "      <td>2.070451e+07</td>\n",
       "      <td>1.571161e+07</td>\n",
       "      <td>3.951148e+07</td>\n",
       "      <td>...</td>\n",
       "      <td>2.215961e+10</td>\n",
       "      <td>8.881044e+09</td>\n",
       "      <td>7.118097e+06</td>\n",
       "      <td>1.023241e+08</td>\n",
       "      <td>5.325426e+08</td>\n",
       "      <td>3.344625e+08</td>\n",
       "      <td>2.094773e+09</td>\n",
       "      <td>1.450597e+09</td>\n",
       "      <td>6.436416e+09</td>\n",
       "      <td>1.308143e+10</td>\n",
       "    </tr>\n",
       "    <tr>\n",
       "      <th>3</th>\n",
       "      <td>2019-01-01 12:00:00</td>\n",
       "      <td>1.141132e+10</td>\n",
       "      <td>1.148750e+10</td>\n",
       "      <td>1.297900e+10</td>\n",
       "      <td>1.207547e+10</td>\n",
       "      <td>4.571019e+04</td>\n",
       "      <td>8.294493e+07</td>\n",
       "      <td>3.326195e+06</td>\n",
       "      <td>1.071702e+07</td>\n",
       "      <td>1.091743e+07</td>\n",
       "      <td>...</td>\n",
       "      <td>1.942219e+10</td>\n",
       "      <td>1.246489e+10</td>\n",
       "      <td>7.322032e+07</td>\n",
       "      <td>1.048417e+08</td>\n",
       "      <td>3.268280e+09</td>\n",
       "      <td>6.440082e+08</td>\n",
       "      <td>1.719274e+09</td>\n",
       "      <td>9.510493e+08</td>\n",
       "      <td>7.083091e+09</td>\n",
       "      <td>1.485971e+10</td>\n",
       "    </tr>\n",
       "    <tr>\n",
       "      <th>4</th>\n",
       "      <td>2019-01-01 13:00:00</td>\n",
       "      <td>1.293554e+10</td>\n",
       "      <td>1.166589e+10</td>\n",
       "      <td>1.139435e+10</td>\n",
       "      <td>1.383934e+10</td>\n",
       "      <td>6.438687e+04</td>\n",
       "      <td>8.829242e+07</td>\n",
       "      <td>1.483401e+07</td>\n",
       "      <td>1.229402e+07</td>\n",
       "      <td>4.991357e+07</td>\n",
       "      <td>...</td>\n",
       "      <td>2.051460e+10</td>\n",
       "      <td>1.104386e+10</td>\n",
       "      <td>6.738803e+07</td>\n",
       "      <td>1.179567e+07</td>\n",
       "      <td>2.481459e+08</td>\n",
       "      <td>5.165409e+08</td>\n",
       "      <td>1.410758e+09</td>\n",
       "      <td>1.211944e+09</td>\n",
       "      <td>1.068952e+10</td>\n",
       "      <td>1.541085e+10</td>\n",
       "    </tr>\n",
       "  </tbody>\n",
       "</table>\n",
       "<p>5 rows × 105 columns</p>\n",
       "</div>"
      ],
      "text/plain": [
       "                  time  SACR_SUNN_in  SACR_SUNN_out  LOND_NEWY_in  \\\n",
       "0  2019-01-01 09:00:00  1.133655e+10   1.353560e+10  1.308054e+10   \n",
       "1  2019-01-01 10:00:00  1.033284e+10   1.277450e+10  1.346870e+10   \n",
       "2  2019-01-01 11:00:00  8.876761e+09   1.160661e+10  1.189719e+10   \n",
       "3  2019-01-01 12:00:00  1.141132e+10   1.148750e+10  1.297900e+10   \n",
       "4  2019-01-01 13:00:00  1.293554e+10   1.166589e+10  1.139435e+10   \n",
       "\n",
       "   LOND_NEWY_out   JGI_SACR_in  JGI_SACR_out  HOUS_PANTEX_in  HOUS_PANTEX_out  \\\n",
       "0   1.118905e+10  9.856045e+04  2.161109e+08    4.958271e+07     1.225558e+08   \n",
       "1   9.126663e+09  3.906243e+07  5.634560e+07    1.912810e+07     6.069445e+07   \n",
       "2   1.274241e+10  4.859224e+07  7.115637e+07    2.070451e+07     1.571161e+07   \n",
       "3   1.207547e+10  4.571019e+04  8.294493e+07    3.326195e+06     1.071702e+07   \n",
       "4   1.383934e+10  6.438687e+04  8.829242e+07    1.483401e+07     1.229402e+07   \n",
       "\n",
       "   BOIS_PNWG_in  ...  AMST_LOND_in  AMST_LOND_out  FNAL_STAR_in  \\\n",
       "0  1.203009e+07  ...  2.028780e+10   8.791009e+09  6.157185e+07   \n",
       "1  1.087812e+07  ...  2.174398e+10   8.993189e+09  3.081849e+07   \n",
       "2  3.951148e+07  ...  2.215961e+10   8.881044e+09  7.118097e+06   \n",
       "3  1.091743e+07  ...  1.942219e+10   1.246489e+10  7.322032e+07   \n",
       "4  4.991357e+07  ...  2.051460e+10   1.104386e+10  6.738803e+07   \n",
       "\n",
       "   FNAL_STAR_out  BOST_STAR_in  BOST_STAR_out  BOST_NEWY_in  BOST_NEWY_out  \\\n",
       "0   2.363276e+05  4.840072e+08   5.048601e+08  3.100098e+09   1.412909e+09   \n",
       "1   1.190536e+08  5.102085e+08   8.270927e+08  2.746086e+09   1.318666e+09   \n",
       "2   1.023241e+08  5.325426e+08   3.344625e+08  2.094773e+09   1.450597e+09   \n",
       "3   1.048417e+08  3.268280e+09   6.440082e+08  1.719274e+09   9.510493e+08   \n",
       "4   1.179567e+07  2.481459e+08   5.165409e+08  1.410758e+09   1.211944e+09   \n",
       "\n",
       "   ATLA_WASH_in  ATLA_WASH_out  \n",
       "0  5.879588e+09   1.308217e+10  \n",
       "1  5.768907e+09   1.341289e+10  \n",
       "2  6.436416e+09   1.308143e+10  \n",
       "3  7.083091e+09   1.485971e+10  \n",
       "4  1.068952e+10   1.541085e+10  \n",
       "\n",
       "[5 rows x 105 columns]"
      ]
     },
     "execution_count": 7,
     "metadata": {},
     "output_type": "execute_result"
    }
   ],
   "source": [
    "data.head()"
   ]
  },
  {
   "cell_type": "code",
   "execution_count": null,
   "metadata": {},
   "outputs": [],
   "source": []
  }
 ],
 "metadata": {
  "kernelspec": {
   "display_name": "Python 3",
   "language": "python",
   "name": "python3"
  },
  "language_info": {
   "codemirror_mode": {
    "name": "ipython",
    "version": 3
   },
   "file_extension": ".py",
   "mimetype": "text/x-python",
   "name": "python",
   "nbconvert_exporter": "python",
   "pygments_lexer": "ipython3",
   "version": "3.7.6"
  }
 },
 "nbformat": 4,
 "nbformat_minor": 2
}
