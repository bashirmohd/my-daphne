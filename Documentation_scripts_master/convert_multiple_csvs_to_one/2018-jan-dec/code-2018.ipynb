{
 "cells": [
  {
   "cell_type": "markdown",
   "metadata": {},
   "source": [
    "## How to concat multiple .csvs into a single .csv in arranged in Columns"
   ]
  },
  {
   "cell_type": "code",
   "execution_count": 1,
   "metadata": {},
   "outputs": [],
   "source": [
    "import pandas as pd\n",
    "from os import listdir"
   ]
  },
  {
   "cell_type": "code",
   "execution_count": 2,
   "metadata": {},
   "outputs": [
    {
     "data": {
      "text/plain": [
       "'/Users/bashirm/Dropbox/CodeRoom/2018-jan-dec'"
      ]
     },
     "execution_count": 2,
     "metadata": {},
     "output_type": "execute_result"
    }
   ],
   "source": [
    "pwd"
   ]
  },
  {
   "cell_type": "code",
   "execution_count": 3,
   "metadata": {},
   "outputs": [],
   "source": [
    "directory = 'data'"
   ]
  },
  {
   "cell_type": "code",
   "execution_count": 4,
   "metadata": {},
   "outputs": [],
   "source": [
    "data = pd.DataFrame()\n",
    "for file in listdir(directory):\n",
    "    filename = directory+\"/\"+file\n",
    "    dd = pd.read_csv(filename)\n",
    "    dd.columns = [\"{}_{}\".format(file.split(\".\")[0], i) for i in dd.columns]\n",
    "    data= pd.concat([data, dd[dd.columns[1::]]], axis=1)\n",
    "    \n",
    "    time = pd.DataFrame(dd[dd.columns[0]])\n",
    "    time.columns = ['time']\n",
    "data = pd.concat([time, data], axis=1)"
   ]
  },
  {
   "cell_type": "code",
   "execution_count": 5,
   "metadata": {},
   "outputs": [],
   "source": [
    "data.to_csv(\"2018concat_data.csv\")"
   ]
  },
  {
   "cell_type": "code",
   "execution_count": 6,
   "metadata": {},
   "outputs": [
    {
     "data": {
      "text/plain": [
       "(8737, 97)"
      ]
     },
     "execution_count": 6,
     "metadata": {},
     "output_type": "execute_result"
    }
   ],
   "source": [
    "data.shape"
   ]
  },
  {
   "cell_type": "code",
   "execution_count": 7,
   "metadata": {},
   "outputs": [
    {
     "data": {
      "text/html": [
       "<div>\n",
       "<style scoped>\n",
       "    .dataframe tbody tr th:only-of-type {\n",
       "        vertical-align: middle;\n",
       "    }\n",
       "\n",
       "    .dataframe tbody tr th {\n",
       "        vertical-align: top;\n",
       "    }\n",
       "\n",
       "    .dataframe thead th {\n",
       "        text-align: right;\n",
       "    }\n",
       "</style>\n",
       "<table border=\"1\" class=\"dataframe\">\n",
       "  <thead>\n",
       "    <tr style=\"text-align: right;\">\n",
       "      <th></th>\n",
       "      <th>time</th>\n",
       "      <th>SACR_SUNN_in</th>\n",
       "      <th>SACR_SUNN_out</th>\n",
       "      <th>LOND_NEWY_in</th>\n",
       "      <th>LOND_NEWY_out</th>\n",
       "      <th>JGI_SACR_in</th>\n",
       "      <th>JGI_SACR_out</th>\n",
       "      <th>HOUS_PANTEX_in</th>\n",
       "      <th>HOUS_PANTEX_out</th>\n",
       "      <th>BOIS_PNWG_in</th>\n",
       "      <th>...</th>\n",
       "      <th>AMST_LOND_in</th>\n",
       "      <th>AMST_LOND_out</th>\n",
       "      <th>FNAL_STAR_in</th>\n",
       "      <th>FNAL_STAR_out</th>\n",
       "      <th>BOST_STAR_in</th>\n",
       "      <th>BOST_STAR_out</th>\n",
       "      <th>BOST_NEWY_in</th>\n",
       "      <th>BOST_NEWY_out</th>\n",
       "      <th>ATLA_WASH_in</th>\n",
       "      <th>ATLA_WASH_out</th>\n",
       "    </tr>\n",
       "  </thead>\n",
       "  <tbody>\n",
       "    <tr>\n",
       "      <th>0</th>\n",
       "      <td>2018-01-01 09:00:00</td>\n",
       "      <td>1.345362e+10</td>\n",
       "      <td>9.191558e+09</td>\n",
       "      <td>1.242256e+09</td>\n",
       "      <td>5.181239e+09</td>\n",
       "      <td>4.375739e+04</td>\n",
       "      <td>4.701692e+08</td>\n",
       "      <td>4.930735e+07</td>\n",
       "      <td>2.024036e+07</td>\n",
       "      <td>7.070847e+06</td>\n",
       "      <td>...</td>\n",
       "      <td>4.157574e+09</td>\n",
       "      <td>7.468747e+09</td>\n",
       "      <td>1.943452e+08</td>\n",
       "      <td>3.058273e+08</td>\n",
       "      <td>4.952796e+09</td>\n",
       "      <td>1.096238e+10</td>\n",
       "      <td>7.879534e+09</td>\n",
       "      <td>2.225971e+09</td>\n",
       "      <td>3.043124e+09</td>\n",
       "      <td>4.402875e+09</td>\n",
       "    </tr>\n",
       "    <tr>\n",
       "      <th>1</th>\n",
       "      <td>2018-01-01 10:00:00</td>\n",
       "      <td>1.216888e+10</td>\n",
       "      <td>7.793842e+09</td>\n",
       "      <td>2.006322e+09</td>\n",
       "      <td>1.224286e+10</td>\n",
       "      <td>4.315725e+04</td>\n",
       "      <td>2.543191e+08</td>\n",
       "      <td>5.684365e+07</td>\n",
       "      <td>1.307625e+07</td>\n",
       "      <td>5.132826e+07</td>\n",
       "      <td>...</td>\n",
       "      <td>6.164468e+09</td>\n",
       "      <td>1.451626e+10</td>\n",
       "      <td>2.368597e+08</td>\n",
       "      <td>2.297360e+08</td>\n",
       "      <td>7.193835e+09</td>\n",
       "      <td>1.840171e+10</td>\n",
       "      <td>1.573402e+10</td>\n",
       "      <td>2.598615e+09</td>\n",
       "      <td>3.254450e+09</td>\n",
       "      <td>3.451973e+09</td>\n",
       "    </tr>\n",
       "    <tr>\n",
       "      <th>2</th>\n",
       "      <td>2018-01-01 11:00:00</td>\n",
       "      <td>1.123120e+10</td>\n",
       "      <td>7.097238e+09</td>\n",
       "      <td>1.073181e+09</td>\n",
       "      <td>4.717642e+09</td>\n",
       "      <td>8.277154e+07</td>\n",
       "      <td>1.670671e+08</td>\n",
       "      <td>4.664524e+07</td>\n",
       "      <td>1.534413e+07</td>\n",
       "      <td>5.217827e+06</td>\n",
       "      <td>...</td>\n",
       "      <td>3.856222e+09</td>\n",
       "      <td>7.139046e+09</td>\n",
       "      <td>2.644591e+07</td>\n",
       "      <td>8.776042e+07</td>\n",
       "      <td>4.389148e+09</td>\n",
       "      <td>7.153226e+09</td>\n",
       "      <td>7.690503e+09</td>\n",
       "      <td>1.992397e+09</td>\n",
       "      <td>3.717638e+09</td>\n",
       "      <td>5.663406e+09</td>\n",
       "    </tr>\n",
       "    <tr>\n",
       "      <th>3</th>\n",
       "      <td>2018-01-01 12:00:00</td>\n",
       "      <td>1.078085e+10</td>\n",
       "      <td>8.048294e+09</td>\n",
       "      <td>8.645069e+08</td>\n",
       "      <td>1.987249e+09</td>\n",
       "      <td>3.343548e+04</td>\n",
       "      <td>1.137023e+08</td>\n",
       "      <td>3.096695e+07</td>\n",
       "      <td>2.302353e+07</td>\n",
       "      <td>7.495363e+06</td>\n",
       "      <td>...</td>\n",
       "      <td>2.483093e+09</td>\n",
       "      <td>4.691328e+09</td>\n",
       "      <td>3.782775e+07</td>\n",
       "      <td>7.183373e+07</td>\n",
       "      <td>2.982568e+09</td>\n",
       "      <td>4.568829e+09</td>\n",
       "      <td>4.828736e+09</td>\n",
       "      <td>2.083069e+09</td>\n",
       "      <td>3.753083e+09</td>\n",
       "      <td>4.915730e+09</td>\n",
       "    </tr>\n",
       "    <tr>\n",
       "      <th>4</th>\n",
       "      <td>2018-01-01 13:00:00</td>\n",
       "      <td>1.073063e+10</td>\n",
       "      <td>7.449518e+09</td>\n",
       "      <td>2.095669e+09</td>\n",
       "      <td>2.365351e+09</td>\n",
       "      <td>1.827496e+05</td>\n",
       "      <td>1.798477e+08</td>\n",
       "      <td>4.921667e+07</td>\n",
       "      <td>1.675123e+07</td>\n",
       "      <td>5.446681e+06</td>\n",
       "      <td>...</td>\n",
       "      <td>3.691804e+09</td>\n",
       "      <td>4.618420e+09</td>\n",
       "      <td>2.962602e+08</td>\n",
       "      <td>1.164944e+08</td>\n",
       "      <td>5.078842e+09</td>\n",
       "      <td>6.674401e+09</td>\n",
       "      <td>5.447330e+09</td>\n",
       "      <td>2.850519e+09</td>\n",
       "      <td>3.131658e+09</td>\n",
       "      <td>6.144426e+09</td>\n",
       "    </tr>\n",
       "  </tbody>\n",
       "</table>\n",
       "<p>5 rows × 97 columns</p>\n",
       "</div>"
      ],
      "text/plain": [
       "                  time  SACR_SUNN_in  SACR_SUNN_out  LOND_NEWY_in  \\\n",
       "0  2018-01-01 09:00:00  1.345362e+10   9.191558e+09  1.242256e+09   \n",
       "1  2018-01-01 10:00:00  1.216888e+10   7.793842e+09  2.006322e+09   \n",
       "2  2018-01-01 11:00:00  1.123120e+10   7.097238e+09  1.073181e+09   \n",
       "3  2018-01-01 12:00:00  1.078085e+10   8.048294e+09  8.645069e+08   \n",
       "4  2018-01-01 13:00:00  1.073063e+10   7.449518e+09  2.095669e+09   \n",
       "\n",
       "   LOND_NEWY_out   JGI_SACR_in  JGI_SACR_out  HOUS_PANTEX_in  HOUS_PANTEX_out  \\\n",
       "0   5.181239e+09  4.375739e+04  4.701692e+08    4.930735e+07     2.024036e+07   \n",
       "1   1.224286e+10  4.315725e+04  2.543191e+08    5.684365e+07     1.307625e+07   \n",
       "2   4.717642e+09  8.277154e+07  1.670671e+08    4.664524e+07     1.534413e+07   \n",
       "3   1.987249e+09  3.343548e+04  1.137023e+08    3.096695e+07     2.302353e+07   \n",
       "4   2.365351e+09  1.827496e+05  1.798477e+08    4.921667e+07     1.675123e+07   \n",
       "\n",
       "   BOIS_PNWG_in  ...  AMST_LOND_in  AMST_LOND_out  FNAL_STAR_in  \\\n",
       "0  7.070847e+06  ...  4.157574e+09   7.468747e+09  1.943452e+08   \n",
       "1  5.132826e+07  ...  6.164468e+09   1.451626e+10  2.368597e+08   \n",
       "2  5.217827e+06  ...  3.856222e+09   7.139046e+09  2.644591e+07   \n",
       "3  7.495363e+06  ...  2.483093e+09   4.691328e+09  3.782775e+07   \n",
       "4  5.446681e+06  ...  3.691804e+09   4.618420e+09  2.962602e+08   \n",
       "\n",
       "   FNAL_STAR_out  BOST_STAR_in  BOST_STAR_out  BOST_NEWY_in  BOST_NEWY_out  \\\n",
       "0   3.058273e+08  4.952796e+09   1.096238e+10  7.879534e+09   2.225971e+09   \n",
       "1   2.297360e+08  7.193835e+09   1.840171e+10  1.573402e+10   2.598615e+09   \n",
       "2   8.776042e+07  4.389148e+09   7.153226e+09  7.690503e+09   1.992397e+09   \n",
       "3   7.183373e+07  2.982568e+09   4.568829e+09  4.828736e+09   2.083069e+09   \n",
       "4   1.164944e+08  5.078842e+09   6.674401e+09  5.447330e+09   2.850519e+09   \n",
       "\n",
       "   ATLA_WASH_in  ATLA_WASH_out  \n",
       "0  3.043124e+09   4.402875e+09  \n",
       "1  3.254450e+09   3.451973e+09  \n",
       "2  3.717638e+09   5.663406e+09  \n",
       "3  3.753083e+09   4.915730e+09  \n",
       "4  3.131658e+09   6.144426e+09  \n",
       "\n",
       "[5 rows x 97 columns]"
      ]
     },
     "execution_count": 7,
     "metadata": {},
     "output_type": "execute_result"
    }
   ],
   "source": [
    "data.head()"
   ]
  },
  {
   "cell_type": "code",
   "execution_count": null,
   "metadata": {},
   "outputs": [],
   "source": []
  }
 ],
 "metadata": {
  "kernelspec": {
   "display_name": "Python 3",
   "language": "python",
   "name": "python3"
  },
  "language_info": {
   "codemirror_mode": {
    "name": "ipython",
    "version": 3
   },
   "file_extension": ".py",
   "mimetype": "text/x-python",
   "name": "python",
   "nbconvert_exporter": "python",
   "pygments_lexer": "ipython3",
   "version": "3.7.6"
  }
 },
 "nbformat": 4,
 "nbformat_minor": 2
}
