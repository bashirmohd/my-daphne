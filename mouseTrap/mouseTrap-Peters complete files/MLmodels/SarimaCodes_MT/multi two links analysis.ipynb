{
 "cells": [
  {
   "cell_type": "code",
   "execution_count": 182,
   "metadata": {},
   "outputs": [],
   "source": [
    "import numpy as np\n",
    "import pandas as pd\n",
    "import matplotlib\n",
    "%matplotlib inline\n",
    "import matplotlib.pyplot as plt\n",
    "import statsmodels.api as sm\n",
    "\n",
    "# Load specific forecasting tools\n",
    "from statsmodels.tsa.api import VAR, DynamicVAR\n",
    "from statsmodels.tsa.stattools import adfuller\n",
    "from statsmodels.tools.eval_measures import rmse\n",
    "\n",
    "# Ignore harmless warnings\n",
    "import warnings\n",
    "warnings.filterwarnings(\"ignore\")"
   ]
  },
  {
   "cell_type": "code",
   "execution_count": 183,
   "metadata": {},
   "outputs": [],
   "source": [
    "path_to_data = 'https://raw.githubusercontent.com/bashirmohd/DataSceince/master/Time-series-prediction_production/aofa_lond_in_out_links.csv'"
   ]
  },
  {
   "cell_type": "code",
   "execution_count": 184,
   "metadata": {},
   "outputs": [],
   "source": [
    "df = pd.read_csv(path_to_data)"
   ]
  },
  {
   "cell_type": "code",
   "execution_count": 185,
   "metadata": {},
   "outputs": [
    {
     "data": {
      "text/html": [
       "<div>\n",
       "<style scoped>\n",
       "    .dataframe tbody tr th:only-of-type {\n",
       "        vertical-align: middle;\n",
       "    }\n",
       "\n",
       "    .dataframe tbody tr th {\n",
       "        vertical-align: top;\n",
       "    }\n",
       "\n",
       "    .dataframe thead th {\n",
       "        text-align: right;\n",
       "    }\n",
       "</style>\n",
       "<table border=\"1\" class=\"dataframe\">\n",
       "  <thead>\n",
       "    <tr style=\"text-align: right;\">\n",
       "      <th></th>\n",
       "      <th>Days</th>\n",
       "      <th>In_Speed</th>\n",
       "      <th>Out_Speed</th>\n",
       "    </tr>\n",
       "  </thead>\n",
       "  <tbody>\n",
       "    <tr>\n",
       "      <th>0</th>\n",
       "      <td>16/10/2018 00:00</td>\n",
       "      <td>408.349690</td>\n",
       "      <td>690.415634</td>\n",
       "    </tr>\n",
       "    <tr>\n",
       "      <th>1</th>\n",
       "      <td>16/10/2018 01:00</td>\n",
       "      <td>457.998735</td>\n",
       "      <td>762.059386</td>\n",
       "    </tr>\n",
       "    <tr>\n",
       "      <th>2</th>\n",
       "      <td>16/10/2018 02:00</td>\n",
       "      <td>424.732987</td>\n",
       "      <td>675.971718</td>\n",
       "    </tr>\n",
       "    <tr>\n",
       "      <th>3</th>\n",
       "      <td>16/10/2018 03:00</td>\n",
       "      <td>354.733448</td>\n",
       "      <td>620.564280</td>\n",
       "    </tr>\n",
       "    <tr>\n",
       "      <th>4</th>\n",
       "      <td>16/10/2018 04:00</td>\n",
       "      <td>362.946799</td>\n",
       "      <td>667.688283</td>\n",
       "    </tr>\n",
       "  </tbody>\n",
       "</table>\n",
       "</div>"
      ],
      "text/plain": [
       "               Days    In_Speed   Out_Speed\n",
       "0  16/10/2018 00:00  408.349690  690.415634\n",
       "1  16/10/2018 01:00  457.998735  762.059386\n",
       "2  16/10/2018 02:00  424.732987  675.971718\n",
       "3  16/10/2018 03:00  354.733448  620.564280\n",
       "4  16/10/2018 04:00  362.946799  667.688283"
      ]
     },
     "execution_count": 185,
     "metadata": {},
     "output_type": "execute_result"
    }
   ],
   "source": [
    "df.head()"
   ]
  },
  {
   "cell_type": "code",
   "execution_count": 186,
   "metadata": {},
   "outputs": [
    {
     "data": {
      "text/html": [
       "<div>\n",
       "<style scoped>\n",
       "    .dataframe tbody tr th:only-of-type {\n",
       "        vertical-align: middle;\n",
       "    }\n",
       "\n",
       "    .dataframe tbody tr th {\n",
       "        vertical-align: top;\n",
       "    }\n",
       "\n",
       "    .dataframe thead th {\n",
       "        text-align: right;\n",
       "    }\n",
       "</style>\n",
       "<table border=\"1\" class=\"dataframe\">\n",
       "  <thead>\n",
       "    <tr style=\"text-align: right;\">\n",
       "      <th></th>\n",
       "      <th>Days</th>\n",
       "      <th>In_Speed</th>\n",
       "      <th>Out_Speed</th>\n",
       "    </tr>\n",
       "  </thead>\n",
       "  <tbody>\n",
       "    <tr>\n",
       "      <th>2155</th>\n",
       "      <td>13/01/2019 19:00</td>\n",
       "      <td>119.590209</td>\n",
       "      <td>218.709408</td>\n",
       "    </tr>\n",
       "    <tr>\n",
       "      <th>2156</th>\n",
       "      <td>13/01/2019 20:00</td>\n",
       "      <td>97.765101</td>\n",
       "      <td>208.164222</td>\n",
       "    </tr>\n",
       "    <tr>\n",
       "      <th>2157</th>\n",
       "      <td>13/01/2019 21:00</td>\n",
       "      <td>81.826164</td>\n",
       "      <td>215.351361</td>\n",
       "    </tr>\n",
       "    <tr>\n",
       "      <th>2158</th>\n",
       "      <td>13/01/2019 22:00</td>\n",
       "      <td>187.980324</td>\n",
       "      <td>323.162112</td>\n",
       "    </tr>\n",
       "    <tr>\n",
       "      <th>2159</th>\n",
       "      <td>13/01/2019 23:00</td>\n",
       "      <td>203.064999</td>\n",
       "      <td>305.765805</td>\n",
       "    </tr>\n",
       "  </tbody>\n",
       "</table>\n",
       "</div>"
      ],
      "text/plain": [
       "                  Days    In_Speed   Out_Speed\n",
       "2155  13/01/2019 19:00  119.590209  218.709408\n",
       "2156  13/01/2019 20:00   97.765101  208.164222\n",
       "2157  13/01/2019 21:00   81.826164  215.351361\n",
       "2158  13/01/2019 22:00  187.980324  323.162112\n",
       "2159  13/01/2019 23:00  203.064999  305.765805"
      ]
     },
     "execution_count": 186,
     "metadata": {},
     "output_type": "execute_result"
    }
   ],
   "source": [
    "df.tail()"
   ]
  },
  {
   "cell_type": "code",
   "execution_count": 187,
   "metadata": {},
   "outputs": [
    {
     "data": {
      "text/plain": [
       "(2160, 3)"
      ]
     },
     "execution_count": 187,
     "metadata": {},
     "output_type": "execute_result"
    }
   ],
   "source": [
    "df.shape"
   ]
  },
  {
   "cell_type": "code",
   "execution_count": 188,
   "metadata": {},
   "outputs": [
    {
     "data": {
      "text/plain": [
       "Text(0.5,1,'Bandwidth Utitilization Over Time (3-Months)')"
      ]
     },
     "execution_count": 188,
     "metadata": {},
     "output_type": "execute_result"
    },
    {
     "data": {
      "image/png": "[encoded data removed]",
      "text/plain": [
       "<Figure size 864x576 with 1 Axes>"
      ]
     },
     "metadata": {},
     "output_type": "display_data"
    }
   ],
   "source": [
    "df.plot(figsize=(12,8))\n",
    "plt.xlabel('Time (Hours)')\n",
    "plt.ylabel('Bandwith Utilization(Gbps)')\n",
    "plt.title('Bandwidth Utitilization Over Time (3-Months)')"
   ]
  },
  {
   "cell_type": "code",
   "execution_count": 189,
   "metadata": {},
   "outputs": [],
   "source": [
    "df['Days'] =  pd.to_datetime(df['Days'], infer_datetime_format=True)"
   ]
  },
  {
   "cell_type": "code",
   "execution_count": 190,
   "metadata": {},
   "outputs": [
    {
     "data": {
      "text/plain": [
       "Days         datetime64[ns]\n",
       "In_Speed            float64\n",
       "Out_Speed           float64\n",
       "dtype: object"
      ]
     },
     "execution_count": 190,
     "metadata": {},
     "output_type": "execute_result"
    }
   ],
   "source": [
    "df.dtypes"
   ]
  },
  {
   "cell_type": "code",
   "execution_count": 191,
   "metadata": {},
   "outputs": [],
   "source": [
    "df = df.set_index('Days')"
   ]
  },
  {
   "cell_type": "code",
   "execution_count": 192,
   "metadata": {},
   "outputs": [
    {
     "data": {
      "text/html": [
       "<div>\n",
       "<style scoped>\n",
       "    .dataframe tbody tr th:only-of-type {\n",
       "        vertical-align: middle;\n",
       "    }\n",
       "\n",
       "    .dataframe tbody tr th {\n",
       "        vertical-align: top;\n",
       "    }\n",
       "\n",
       "    .dataframe thead th {\n",
       "        text-align: right;\n",
       "    }\n",
       "</style>\n",
       "<table border=\"1\" class=\"dataframe\">\n",
       "  <thead>\n",
       "    <tr style=\"text-align: right;\">\n",
       "      <th></th>\n",
       "      <th>In_Speed</th>\n",
       "      <th>Out_Speed</th>\n",
       "    </tr>\n",
       "    <tr>\n",
       "      <th>Days</th>\n",
       "      <th></th>\n",
       "      <th></th>\n",
       "    </tr>\n",
       "  </thead>\n",
       "  <tbody>\n",
       "    <tr>\n",
       "      <th>2018-10-16 00:00:00</th>\n",
       "      <td>408.349690</td>\n",
       "      <td>690.415634</td>\n",
       "    </tr>\n",
       "    <tr>\n",
       "      <th>2018-10-16 01:00:00</th>\n",
       "      <td>457.998735</td>\n",
       "      <td>762.059386</td>\n",
       "    </tr>\n",
       "    <tr>\n",
       "      <th>2018-10-16 02:00:00</th>\n",
       "      <td>424.732987</td>\n",
       "      <td>675.971718</td>\n",
       "    </tr>\n",
       "    <tr>\n",
       "      <th>2018-10-16 03:00:00</th>\n",
       "      <td>354.733448</td>\n",
       "      <td>620.564280</td>\n",
       "    </tr>\n",
       "    <tr>\n",
       "      <th>2018-10-16 04:00:00</th>\n",
       "      <td>362.946799</td>\n",
       "      <td>667.688283</td>\n",
       "    </tr>\n",
       "  </tbody>\n",
       "</table>\n",
       "</div>"
      ],
      "text/plain": [
       "                       In_Speed   Out_Speed\n",
       "Days                                       \n",
       "2018-10-16 00:00:00  408.349690  690.415634\n",
       "2018-10-16 01:00:00  457.998735  762.059386\n",
       "2018-10-16 02:00:00  424.732987  675.971718\n",
       "2018-10-16 03:00:00  354.733448  620.564280\n",
       "2018-10-16 04:00:00  362.946799  667.688283"
      ]
     },
     "execution_count": 192,
     "metadata": {},
     "output_type": "execute_result"
    }
   ],
   "source": [
    "df.head()"
   ]
  },
  {
   "cell_type": "code",
   "execution_count": 193,
   "metadata": {},
   "outputs": [
    {
     "data": {
      "text/plain": [
       "Index(['In_Speed', 'Out_Speed'], dtype='object')"
      ]
     },
     "execution_count": 193,
     "metadata": {},
     "output_type": "execute_result"
    }
   ],
   "source": [
    "df.columns"
   ]
  },
  {
   "cell_type": "code",
   "execution_count": 194,
   "metadata": {},
   "outputs": [],
   "source": [
    "average_daily_speed = df.resample('D').mean()"
   ]
  },
  {
   "cell_type": "code",
   "execution_count": 195,
   "metadata": {},
   "outputs": [
    {
     "data": {
      "text/plain": [
       "In_Speed     float64\n",
       "Out_Speed    float64\n",
       "dtype: object"
      ]
     },
     "execution_count": 195,
     "metadata": {},
     "output_type": "execute_result"
    }
   ],
   "source": [
    "average_daily_speed.dtypes"
   ]
  },
  {
   "cell_type": "code",
   "execution_count": 196,
   "metadata": {},
   "outputs": [
    {
     "data": {
      "image/png": "[encoded data removed]",
      "text/plain": [
       "<Figure size 432x288 with 1 Axes>"
      ]
     },
     "metadata": {},
     "output_type": "display_data"
    }
   ],
   "source": [
    "average_daily_speed.plot()\n",
    "plt.title('Average daily Speed (Gbps)')\n",
    "plt.show()"
   ]
  },
  {
   "cell_type": "code",
   "execution_count": 197,
   "metadata": {},
   "outputs": [],
   "source": [
    "#Test for Stationarity\n",
    "def adf_test(series,title=''):\n",
    "    \"\"\"\n",
    "    Pass in a time series and an optional title, returns an ADF report\n",
    "    \"\"\"\n",
    "    print(f'Augmented Dickey-Fuller Test: {title}')\n",
    "    result = adfuller(series.dropna(),autolag='AIC') # .dropna() handles differenced data\n",
    "    \n",
    "    labels = ['ADF test statistic','p-value','# lags used','# observations']\n",
    "    out = pd.Series(result[0:4],index=labels)\n",
    "\n",
    "    for key,val in result[4].items():\n",
    "        out[f'critical value ({key})']=val\n",
    "        \n",
    "    print(out.to_string())          # .to_string() removes the line \"dtype: float64\"\n",
    "    \n",
    "    if result[1] <= 0.05:\n",
    "        print(\"Strong evidence against the null hypothesis\")\n",
    "        print(\"Reject the null hypothesis\")\n",
    "        print(\"Data has no unit root and is stationary\")\n",
    "    else:\n",
    "        print(\"Weak evidence against the null hypothesis\")\n",
    "        print(\"Fail to reject the null hypothesis\")\n",
    "        print(\"Data has a unit root and is non-stationary\")"
   ]
  },
  {
   "cell_type": "code",
   "execution_count": 198,
   "metadata": {},
   "outputs": [
    {
     "name": "stdout",
     "output_type": "stream",
     "text": [
      "Augmented Dickey-Fuller Test: \n",
      "ADF test statistic        -2.922002\n",
      "p-value                    0.042849\n",
      "# lags used               25.000000\n",
      "# observations          2134.000000\n",
      "critical value (1%)       -3.433418\n",
      "critical value (5%)       -2.862895\n",
      "critical value (10%)      -2.567492\n",
      "Strong evidence against the null hypothesis\n",
      "Reject the null hypothesis\n",
      "Data has no unit root and is stationary\n"
     ]
    }
   ],
   "source": [
    "adf_test(df['In_Speed'])"
   ]
  },
  {
   "cell_type": "code",
   "execution_count": 199,
   "metadata": {},
   "outputs": [
    {
     "name": "stdout",
     "output_type": "stream",
     "text": [
      "Augmented Dickey-Fuller Test: \n",
      "ADF test statistic     -8.288254e+00\n",
      "p-value                 4.331419e-13\n",
      "# lags used             5.000000e+00\n",
      "# observations          2.154000e+03\n",
      "critical value (1%)    -3.433390e+00\n",
      "critical value (5%)    -2.862883e+00\n",
      "critical value (10%)   -2.567485e+00\n",
      "Strong evidence against the null hypothesis\n",
      "Reject the null hypothesis\n",
      "Data has no unit root and is stationary\n"
     ]
    }
   ],
   "source": [
    "adf_test(df['Out_Speed'])"
   ]
  },
  {
   "cell_type": "code",
   "execution_count": 200,
   "metadata": {},
   "outputs": [],
   "source": [
    "#from pylab import rcParams\n",
    "#rcParams['figure.figsize'] = 12, 8\n",
    "#decomposition = sm.tsa.seasonal_decompose(df['In_Speed'], model='additive')\n",
    "#fig = decomposition.plot()\n",
    "#plt.show()"
   ]
  },
  {
   "cell_type": "code",
   "execution_count": 201,
   "metadata": {},
   "outputs": [
    {
     "data": {
      "text/plain": [
       "In_Speed     float64\n",
       "Out_Speed    float64\n",
       "dtype: object"
      ]
     },
     "execution_count": 201,
     "metadata": {},
     "output_type": "execute_result"
    }
   ],
   "source": [
    "average_daily_speed = df.resample('D').mean()\n",
    "average_daily_speed.dtypes"
   ]
  },
  {
   "cell_type": "code",
   "execution_count": 202,
   "metadata": {},
   "outputs": [
    {
     "data": {
      "image/png": "[encoded data removed]",
      "text/plain": [
       "<Figure size 432x288 with 1 Axes>"
      ]
     },
     "metadata": {},
     "output_type": "display_data"
    }
   ],
   "source": [
    "average_daily_speed.plot()\n",
    "plt.title('Average daily Speed (Gbps)')\n",
    "plt.show()"
   ]
  },
  {
   "cell_type": "code",
   "execution_count": 203,
   "metadata": {},
   "outputs": [
    {
     "data": {
      "text/html": [
       "<div>\n",
       "<style scoped>\n",
       "    .dataframe tbody tr th:only-of-type {\n",
       "        vertical-align: middle;\n",
       "    }\n",
       "\n",
       "    .dataframe tbody tr th {\n",
       "        vertical-align: top;\n",
       "    }\n",
       "\n",
       "    .dataframe thead th {\n",
       "        text-align: right;\n",
       "    }\n",
       "</style>\n",
       "<table border=\"1\" class=\"dataframe\">\n",
       "  <thead>\n",
       "    <tr style=\"text-align: right;\">\n",
       "      <th></th>\n",
       "      <th>In_Speed</th>\n",
       "      <th>Out_Speed</th>\n",
       "    </tr>\n",
       "    <tr>\n",
       "      <th>Days</th>\n",
       "      <th></th>\n",
       "      <th></th>\n",
       "    </tr>\n",
       "  </thead>\n",
       "  <tbody>\n",
       "    <tr>\n",
       "      <th>2018-10-16</th>\n",
       "      <td>437.322709</td>\n",
       "      <td>668.236505</td>\n",
       "    </tr>\n",
       "    <tr>\n",
       "      <th>2018-10-17</th>\n",
       "      <td>389.297759</td>\n",
       "      <td>565.362320</td>\n",
       "    </tr>\n",
       "    <tr>\n",
       "      <th>2018-10-18</th>\n",
       "      <td>428.162168</td>\n",
       "      <td>398.529560</td>\n",
       "    </tr>\n",
       "    <tr>\n",
       "      <th>2018-10-19</th>\n",
       "      <td>509.773571</td>\n",
       "      <td>276.883716</td>\n",
       "    </tr>\n",
       "    <tr>\n",
       "      <th>2018-10-20</th>\n",
       "      <td>425.864657</td>\n",
       "      <td>329.079479</td>\n",
       "    </tr>\n",
       "  </tbody>\n",
       "</table>\n",
       "</div>"
      ],
      "text/plain": [
       "              In_Speed   Out_Speed\n",
       "Days                              \n",
       "2018-10-16  437.322709  668.236505\n",
       "2018-10-17  389.297759  565.362320\n",
       "2018-10-18  428.162168  398.529560\n",
       "2018-10-19  509.773571  276.883716\n",
       "2018-10-20  425.864657  329.079479"
      ]
     },
     "execution_count": 203,
     "metadata": {},
     "output_type": "execute_result"
    }
   ],
   "source": [
    "average_daily_speed.head()"
   ]
  },
  {
   "cell_type": "code",
   "execution_count": 204,
   "metadata": {},
   "outputs": [],
   "source": [
    "df_av = average_daily_speed"
   ]
  },
  {
   "cell_type": "code",
   "execution_count": 205,
   "metadata": {},
   "outputs": [
    {
     "data": {
      "text/html": [
       "<div>\n",
       "<style scoped>\n",
       "    .dataframe tbody tr th:only-of-type {\n",
       "        vertical-align: middle;\n",
       "    }\n",
       "\n",
       "    .dataframe tbody tr th {\n",
       "        vertical-align: top;\n",
       "    }\n",
       "\n",
       "    .dataframe thead th {\n",
       "        text-align: right;\n",
       "    }\n",
       "</style>\n",
       "<table border=\"1\" class=\"dataframe\">\n",
       "  <thead>\n",
       "    <tr style=\"text-align: right;\">\n",
       "      <th></th>\n",
       "      <th>In_Speed</th>\n",
       "      <th>Out_Speed</th>\n",
       "    </tr>\n",
       "    <tr>\n",
       "      <th>Days</th>\n",
       "      <th></th>\n",
       "      <th></th>\n",
       "    </tr>\n",
       "  </thead>\n",
       "  <tbody>\n",
       "    <tr>\n",
       "      <th>2018-10-16</th>\n",
       "      <td>437.322709</td>\n",
       "      <td>668.236505</td>\n",
       "    </tr>\n",
       "    <tr>\n",
       "      <th>2018-10-17</th>\n",
       "      <td>389.297759</td>\n",
       "      <td>565.362320</td>\n",
       "    </tr>\n",
       "    <tr>\n",
       "      <th>2018-10-18</th>\n",
       "      <td>428.162168</td>\n",
       "      <td>398.529560</td>\n",
       "    </tr>\n",
       "    <tr>\n",
       "      <th>2018-10-19</th>\n",
       "      <td>509.773571</td>\n",
       "      <td>276.883716</td>\n",
       "    </tr>\n",
       "    <tr>\n",
       "      <th>2018-10-20</th>\n",
       "      <td>425.864657</td>\n",
       "      <td>329.079479</td>\n",
       "    </tr>\n",
       "  </tbody>\n",
       "</table>\n",
       "</div>"
      ],
      "text/plain": [
       "              In_Speed   Out_Speed\n",
       "Days                              \n",
       "2018-10-16  437.322709  668.236505\n",
       "2018-10-17  389.297759  565.362320\n",
       "2018-10-18  428.162168  398.529560\n",
       "2018-10-19  509.773571  276.883716\n",
       "2018-10-20  425.864657  329.079479"
      ]
     },
     "execution_count": 205,
     "metadata": {},
     "output_type": "execute_result"
    }
   ],
   "source": [
    "df_av.head()"
   ]
  },
  {
   "cell_type": "code",
   "execution_count": 152,
   "metadata": {},
   "outputs": [
    {
     "data": {
      "text/html": [
       "<div>\n",
       "<style scoped>\n",
       "    .dataframe tbody tr th:only-of-type {\n",
       "        vertical-align: middle;\n",
       "    }\n",
       "\n",
       "    .dataframe tbody tr th {\n",
       "        vertical-align: top;\n",
       "    }\n",
       "\n",
       "    .dataframe thead th {\n",
       "        text-align: right;\n",
       "    }\n",
       "</style>\n",
       "<table border=\"1\" class=\"dataframe\">\n",
       "  <thead>\n",
       "    <tr style=\"text-align: right;\">\n",
       "      <th></th>\n",
       "      <th>In_Speed</th>\n",
       "      <th>Out_Speed</th>\n",
       "    </tr>\n",
       "    <tr>\n",
       "      <th>Days</th>\n",
       "      <th></th>\n",
       "      <th></th>\n",
       "    </tr>\n",
       "  </thead>\n",
       "  <tbody>\n",
       "    <tr>\n",
       "      <th>2019-01-09</th>\n",
       "      <td>113.414866</td>\n",
       "      <td>246.063962</td>\n",
       "    </tr>\n",
       "    <tr>\n",
       "      <th>2019-01-10</th>\n",
       "      <td>135.131709</td>\n",
       "      <td>255.718699</td>\n",
       "    </tr>\n",
       "    <tr>\n",
       "      <th>2019-01-11</th>\n",
       "      <td>125.451465</td>\n",
       "      <td>272.797631</td>\n",
       "    </tr>\n",
       "    <tr>\n",
       "      <th>2019-01-12</th>\n",
       "      <td>152.480680</td>\n",
       "      <td>287.178498</td>\n",
       "    </tr>\n",
       "    <tr>\n",
       "      <th>2019-01-13</th>\n",
       "      <td>126.516942</td>\n",
       "      <td>251.450144</td>\n",
       "    </tr>\n",
       "  </tbody>\n",
       "</table>\n",
       "</div>"
      ],
      "text/plain": [
       "              In_Speed   Out_Speed\n",
       "Days                              \n",
       "2019-01-09  113.414866  246.063962\n",
       "2019-01-10  135.131709  255.718699\n",
       "2019-01-11  125.451465  272.797631\n",
       "2019-01-12  152.480680  287.178498\n",
       "2019-01-13  126.516942  251.450144"
      ]
     },
     "execution_count": 152,
     "metadata": {},
     "output_type": "execute_result"
    }
   ],
   "source": [
    "df_av.tail()"
   ]
  },
  {
   "cell_type": "code",
   "execution_count": 232,
   "metadata": {},
   "outputs": [
    {
     "data": {
      "text/plain": [
       "(90, 2)"
      ]
     },
     "execution_count": 232,
     "metadata": {},
     "output_type": "execute_result"
    }
   ],
   "source": [
    "df_av.shape"
   ]
  },
  {
   "cell_type": "code",
   "execution_count": 233,
   "metadata": {},
   "outputs": [],
   "source": [
    "#df.shape"
   ]
  },
  {
   "cell_type": "code",
   "execution_count": 234,
   "metadata": {},
   "outputs": [],
   "source": [
    "# NUm of Observations\n",
    "nobs = 24"
   ]
  },
  {
   "cell_type": "code",
   "execution_count": 235,
   "metadata": {},
   "outputs": [],
   "source": [
    "train = df_av[0:-nobs] #Start=  begining of df--> -24 from the end"
   ]
  },
  {
   "cell_type": "code",
   "execution_count": 236,
   "metadata": {},
   "outputs": [],
   "source": [
    "test = df_av[-nobs:]# start -24 from the end of the DF ---> go to the end of DF"
   ]
  },
  {
   "cell_type": "code",
   "execution_count": 237,
   "metadata": {},
   "outputs": [
    {
     "name": "stdout",
     "output_type": "stream",
     "text": [
      "(66, 2)\n",
      "(24, 2)\n"
     ]
    }
   ],
   "source": [
    "print(train.shape)\n",
    "print(test.shape)"
   ]
  },
  {
   "cell_type": "code",
   "execution_count": 238,
   "metadata": {},
   "outputs": [
    {
     "data": {
      "text/html": [
       "<div>\n",
       "<style scoped>\n",
       "    .dataframe tbody tr th:only-of-type {\n",
       "        vertical-align: middle;\n",
       "    }\n",
       "\n",
       "    .dataframe tbody tr th {\n",
       "        vertical-align: top;\n",
       "    }\n",
       "\n",
       "    .dataframe thead th {\n",
       "        text-align: right;\n",
       "    }\n",
       "</style>\n",
       "<table border=\"1\" class=\"dataframe\">\n",
       "  <thead>\n",
       "    <tr style=\"text-align: right;\">\n",
       "      <th></th>\n",
       "      <th>In_Speed</th>\n",
       "      <th>Out_Speed</th>\n",
       "    </tr>\n",
       "    <tr>\n",
       "      <th>Days</th>\n",
       "      <th></th>\n",
       "      <th></th>\n",
       "    </tr>\n",
       "  </thead>\n",
       "  <tbody>\n",
       "    <tr>\n",
       "      <th>2018-12-21</th>\n",
       "      <td>215.879720</td>\n",
       "      <td>306.440569</td>\n",
       "    </tr>\n",
       "    <tr>\n",
       "      <th>2018-12-22</th>\n",
       "      <td>228.973823</td>\n",
       "      <td>395.635975</td>\n",
       "    </tr>\n",
       "    <tr>\n",
       "      <th>2018-12-23</th>\n",
       "      <td>181.240180</td>\n",
       "      <td>296.084513</td>\n",
       "    </tr>\n",
       "    <tr>\n",
       "      <th>2018-12-24</th>\n",
       "      <td>114.956234</td>\n",
       "      <td>440.358917</td>\n",
       "    </tr>\n",
       "    <tr>\n",
       "      <th>2018-12-25</th>\n",
       "      <td>72.512225</td>\n",
       "      <td>388.518913</td>\n",
       "    </tr>\n",
       "    <tr>\n",
       "      <th>2018-12-26</th>\n",
       "      <td>154.237042</td>\n",
       "      <td>363.306233</td>\n",
       "    </tr>\n",
       "    <tr>\n",
       "      <th>2018-12-27</th>\n",
       "      <td>119.583671</td>\n",
       "      <td>266.616529</td>\n",
       "    </tr>\n",
       "    <tr>\n",
       "      <th>2018-12-28</th>\n",
       "      <td>117.028806</td>\n",
       "      <td>447.063789</td>\n",
       "    </tr>\n",
       "    <tr>\n",
       "      <th>2018-12-29</th>\n",
       "      <td>63.865425</td>\n",
       "      <td>356.737656</td>\n",
       "    </tr>\n",
       "    <tr>\n",
       "      <th>2018-12-30</th>\n",
       "      <td>104.643744</td>\n",
       "      <td>348.820129</td>\n",
       "    </tr>\n",
       "    <tr>\n",
       "      <th>2018-12-31</th>\n",
       "      <td>99.373857</td>\n",
       "      <td>264.084217</td>\n",
       "    </tr>\n",
       "    <tr>\n",
       "      <th>2019-01-01</th>\n",
       "      <td>93.023888</td>\n",
       "      <td>310.522009</td>\n",
       "    </tr>\n",
       "    <tr>\n",
       "      <th>2019-01-02</th>\n",
       "      <td>79.326084</td>\n",
       "      <td>336.928367</td>\n",
       "    </tr>\n",
       "    <tr>\n",
       "      <th>2019-01-03</th>\n",
       "      <td>108.149370</td>\n",
       "      <td>322.380700</td>\n",
       "    </tr>\n",
       "    <tr>\n",
       "      <th>2019-01-04</th>\n",
       "      <td>119.534581</td>\n",
       "      <td>330.396235</td>\n",
       "    </tr>\n",
       "    <tr>\n",
       "      <th>2019-01-05</th>\n",
       "      <td>91.001282</td>\n",
       "      <td>379.387328</td>\n",
       "    </tr>\n",
       "    <tr>\n",
       "      <th>2019-01-06</th>\n",
       "      <td>75.487054</td>\n",
       "      <td>331.953667</td>\n",
       "    </tr>\n",
       "    <tr>\n",
       "      <th>2019-01-07</th>\n",
       "      <td>72.107611</td>\n",
       "      <td>404.523555</td>\n",
       "    </tr>\n",
       "    <tr>\n",
       "      <th>2019-01-08</th>\n",
       "      <td>91.144693</td>\n",
       "      <td>318.875145</td>\n",
       "    </tr>\n",
       "    <tr>\n",
       "      <th>2019-01-09</th>\n",
       "      <td>113.414866</td>\n",
       "      <td>246.063962</td>\n",
       "    </tr>\n",
       "    <tr>\n",
       "      <th>2019-01-10</th>\n",
       "      <td>135.131709</td>\n",
       "      <td>255.718699</td>\n",
       "    </tr>\n",
       "    <tr>\n",
       "      <th>2019-01-11</th>\n",
       "      <td>125.451465</td>\n",
       "      <td>272.797631</td>\n",
       "    </tr>\n",
       "    <tr>\n",
       "      <th>2019-01-12</th>\n",
       "      <td>152.480680</td>\n",
       "      <td>287.178498</td>\n",
       "    </tr>\n",
       "    <tr>\n",
       "      <th>2019-01-13</th>\n",
       "      <td>126.516942</td>\n",
       "      <td>251.450144</td>\n",
       "    </tr>\n",
       "  </tbody>\n",
       "</table>\n",
       "</div>"
      ],
      "text/plain": [
       "              In_Speed   Out_Speed\n",
       "Days                              \n",
       "2018-12-21  215.879720  306.440569\n",
       "2018-12-22  228.973823  395.635975\n",
       "2018-12-23  181.240180  296.084513\n",
       "2018-12-24  114.956234  440.358917\n",
       "2018-12-25   72.512225  388.518913\n",
       "2018-12-26  154.237042  363.306233\n",
       "2018-12-27  119.583671  266.616529\n",
       "2018-12-28  117.028806  447.063789\n",
       "2018-12-29   63.865425  356.737656\n",
       "2018-12-30  104.643744  348.820129\n",
       "2018-12-31   99.373857  264.084217\n",
       "2019-01-01   93.023888  310.522009\n",
       "2019-01-02   79.326084  336.928367\n",
       "2019-01-03  108.149370  322.380700\n",
       "2019-01-04  119.534581  330.396235\n",
       "2019-01-05   91.001282  379.387328\n",
       "2019-01-06   75.487054  331.953667\n",
       "2019-01-07   72.107611  404.523555\n",
       "2019-01-08   91.144693  318.875145\n",
       "2019-01-09  113.414866  246.063962\n",
       "2019-01-10  135.131709  255.718699\n",
       "2019-01-11  125.451465  272.797631\n",
       "2019-01-12  152.480680  287.178498\n",
       "2019-01-13  126.516942  251.450144"
      ]
     },
     "execution_count": 238,
     "metadata": {},
     "output_type": "execute_result"
    }
   ],
   "source": [
    "test"
   ]
  },
  {
   "cell_type": "code",
   "execution_count": 239,
   "metadata": {},
   "outputs": [
    {
     "name": "stdout",
     "output_type": "stream",
     "text": [
      "ORDER 1\n",
      "AIC: 16.592670841568637\n",
      "\n",
      "\n",
      "ORDER 2\n",
      "AIC: 16.644200391460043\n",
      "\n",
      "\n",
      "ORDER 3\n",
      "AIC: 16.544704765577784\n",
      "\n",
      "\n",
      "ORDER 4\n",
      "AIC: 16.45182205421273\n",
      "\n",
      "\n",
      "ORDER 5\n",
      "AIC: 16.404845515221865\n",
      "\n",
      "\n",
      "ORDER 6\n",
      "AIC: 16.500231334635505\n",
      "\n",
      "\n",
      "ORDER 7\n",
      "AIC: 16.606467085460984\n",
      "\n",
      "\n"
     ]
    }
   ],
   "source": [
    "model = VAR(train)\n",
    "\n",
    "for p in [1,2,3,4,5,6,7]:\n",
    "    \n",
    "    results = model.fit(p)\n",
    "    print(f'ORDER {p}')\n",
    "    print(f'AIC: {results.aic}')\n",
    "    print('\\n')\n",
    "    "
   ]
  },
  {
   "cell_type": "code",
   "execution_count": 214,
   "metadata": {},
   "outputs": [],
   "source": [
    "results = model.fit(5)"
   ]
  },
  {
   "cell_type": "code",
   "execution_count": 215,
   "metadata": {},
   "outputs": [
    {
     "data": {
      "text/plain": [
       "  Summary of Regression Results   \n",
       "==================================\n",
       "Model:                         VAR\n",
       "Method:                        OLS\n",
       "Date:           Mon, 17, Jun, 2019\n",
       "Time:                     09:40:30\n",
       "--------------------------------------------------------------------\n",
       "No. of Equations:         2.00000    BIC:                    17.1661\n",
       "Nobs:                     61.0000    HQIC:                   16.7032\n",
       "Log likelihood:          -651.458    FPE:                1.34276e+07\n",
       "AIC:                      16.4048    Det(Omega_mle):     9.63811e+06\n",
       "--------------------------------------------------------------------\n",
       "Results for equation In_Speed\n",
       "===============================================================================\n",
       "                  coefficient       std. error           t-stat            prob\n",
       "-------------------------------------------------------------------------------\n",
       "const               47.942226        60.507590            0.792           0.428\n",
       "L1.In_Speed          0.696935         0.148927            4.680           0.000\n",
       "L1.Out_Speed         0.013309         0.140345            0.095           0.924\n",
       "L2.In_Speed         -0.330335         0.173697           -1.902           0.057\n",
       "L2.Out_Speed         0.086130         0.154807            0.556           0.578\n",
       "L3.In_Speed          0.408870         0.175451            2.330           0.020\n",
       "L3.Out_Speed        -0.017861         0.152110           -0.117           0.907\n",
       "L4.In_Speed          0.035423         0.181595            0.195           0.845\n",
       "L4.Out_Speed        -0.135591         0.149125           -0.909           0.363\n",
       "L5.In_Speed         -0.186723         0.146928           -1.271           0.204\n",
       "L5.Out_Speed         0.245617         0.117763            2.086           0.037\n",
       "===============================================================================\n",
       "\n",
       "Results for equation Out_Speed\n",
       "===============================================================================\n",
       "                  coefficient       std. error           t-stat            prob\n",
       "-------------------------------------------------------------------------------\n",
       "const              182.552902        65.575455            2.784           0.005\n",
       "L1.In_Speed          0.142918         0.161401            0.885           0.376\n",
       "L1.Out_Speed         0.569138         0.152100            3.742           0.000\n",
       "L2.In_Speed         -0.193128         0.188246           -1.026           0.305\n",
       "L2.Out_Speed        -0.085834         0.167773           -0.512           0.609\n",
       "L3.In_Speed          0.375762         0.190146            1.976           0.048\n",
       "L3.Out_Speed         0.127737         0.164850            0.775           0.438\n",
       "L4.In_Speed          0.033800         0.196804            0.172           0.864\n",
       "L4.Out_Speed        -0.104399         0.161615           -0.646           0.518\n",
       "L5.In_Speed         -0.222540         0.159234           -1.398           0.162\n",
       "L5.Out_Speed        -0.100982         0.127626           -0.791           0.429\n",
       "===============================================================================\n",
       "\n",
       "Correlation matrix of residuals\n",
       "             In_Speed  Out_Speed\n",
       "In_Speed     1.000000   0.470406\n",
       "Out_Speed    0.470406   1.000000\n",
       "\n"
      ]
     },
     "execution_count": 215,
     "metadata": {},
     "output_type": "execute_result"
    }
   ],
   "source": [
    "results.summary()"
   ]
  },
  {
   "cell_type": "code",
   "execution_count": 216,
   "metadata": {},
   "outputs": [
    {
     "data": {
      "text/plain": [
       "(66, 2)"
      ]
     },
     "execution_count": 216,
     "metadata": {},
     "output_type": "execute_result"
    }
   ],
   "source": [
    "#Grab the 5 Lagged Values, right before the test stats\n",
    "# Numpy Array\n",
    "train.values.shape"
   ]
  },
  {
   "cell_type": "code",
   "execution_count": 217,
   "metadata": {},
   "outputs": [
    {
     "data": {
      "text/plain": [
       "(5, 2)"
      ]
     },
     "execution_count": 217,
     "metadata": {},
     "output_type": "execute_result"
    }
   ],
   "source": [
    "train.values[-5:].shape"
   ]
  },
  {
   "cell_type": "code",
   "execution_count": 218,
   "metadata": {},
   "outputs": [],
   "source": [
    "lagged_values = train.values[-5:] #lagged order = 6, k= 2(2 time series variables)"
   ]
  },
  {
   "cell_type": "code",
   "execution_count": 219,
   "metadata": {},
   "outputs": [],
   "source": [
    "z = results.forecast(y=lagged_values,steps=24)"
   ]
  },
  {
   "cell_type": "code",
   "execution_count": 220,
   "metadata": {},
   "outputs": [
    {
     "data": {
      "text/plain": [
       "array([[241.49083835, 292.12432821],\n",
       "       [252.81935235, 339.61325108],\n",
       "       [258.78255029, 359.36816778],\n",
       "       [287.2444256 , 368.95582512],\n",
       "       [290.86780724, 391.21829785],\n",
       "       [281.71212408, 392.63135623],\n",
       "       [294.61793947, 392.25863057],\n",
       "       [311.28437356, 396.38231292],\n",
       "       [309.04078011, 385.88706318],\n",
       "       [311.7461366 , 377.31093491],\n",
       "       [322.65972464, 383.3100258 ],\n",
       "       [325.51328567, 383.61243999],\n",
       "       [324.92137479, 378.38532079],\n",
       "       [326.97759192, 382.1618286 ],\n",
       "       [326.32912587, 386.2854857 ],\n",
       "       [324.92518497, 383.95873685],\n",
       "       [325.48765761, 383.32031413],\n",
       "       [324.18317526, 384.12608206],\n",
       "       [322.47302386, 382.22827972],\n",
       "       [323.39727621, 381.13968556],\n",
       "       [323.67778883, 381.3911955 ],\n",
       "       [322.39493122, 380.41542248],\n",
       "       [322.45245141, 380.15846874],\n",
       "       [322.97258483, 381.20659795]])"
      ]
     },
     "execution_count": 220,
     "metadata": {},
     "output_type": "execute_result"
    }
   ],
   "source": [
    "z"
   ]
  },
  {
   "cell_type": "code",
   "execution_count": 221,
   "metadata": {},
   "outputs": [
    {
     "data": {
      "text/html": [
       "<div>\n",
       "<style scoped>\n",
       "    .dataframe tbody tr th:only-of-type {\n",
       "        vertical-align: middle;\n",
       "    }\n",
       "\n",
       "    .dataframe tbody tr th {\n",
       "        vertical-align: top;\n",
       "    }\n",
       "\n",
       "    .dataframe thead th {\n",
       "        text-align: right;\n",
       "    }\n",
       "</style>\n",
       "<table border=\"1\" class=\"dataframe\">\n",
       "  <thead>\n",
       "    <tr style=\"text-align: right;\">\n",
       "      <th></th>\n",
       "      <th>In_Speed</th>\n",
       "      <th>Out_Speed</th>\n",
       "    </tr>\n",
       "    <tr>\n",
       "      <th>Days</th>\n",
       "      <th></th>\n",
       "      <th></th>\n",
       "    </tr>\n",
       "  </thead>\n",
       "  <tbody>\n",
       "    <tr>\n",
       "      <th>2018-12-21</th>\n",
       "      <td>215.879720</td>\n",
       "      <td>306.440569</td>\n",
       "    </tr>\n",
       "    <tr>\n",
       "      <th>2018-12-22</th>\n",
       "      <td>228.973823</td>\n",
       "      <td>395.635975</td>\n",
       "    </tr>\n",
       "    <tr>\n",
       "      <th>2018-12-23</th>\n",
       "      <td>181.240180</td>\n",
       "      <td>296.084513</td>\n",
       "    </tr>\n",
       "    <tr>\n",
       "      <th>2018-12-24</th>\n",
       "      <td>114.956234</td>\n",
       "      <td>440.358917</td>\n",
       "    </tr>\n",
       "    <tr>\n",
       "      <th>2018-12-25</th>\n",
       "      <td>72.512225</td>\n",
       "      <td>388.518913</td>\n",
       "    </tr>\n",
       "    <tr>\n",
       "      <th>2018-12-26</th>\n",
       "      <td>154.237042</td>\n",
       "      <td>363.306233</td>\n",
       "    </tr>\n",
       "    <tr>\n",
       "      <th>2018-12-27</th>\n",
       "      <td>119.583671</td>\n",
       "      <td>266.616529</td>\n",
       "    </tr>\n",
       "    <tr>\n",
       "      <th>2018-12-28</th>\n",
       "      <td>117.028806</td>\n",
       "      <td>447.063789</td>\n",
       "    </tr>\n",
       "    <tr>\n",
       "      <th>2018-12-29</th>\n",
       "      <td>63.865425</td>\n",
       "      <td>356.737656</td>\n",
       "    </tr>\n",
       "    <tr>\n",
       "      <th>2018-12-30</th>\n",
       "      <td>104.643744</td>\n",
       "      <td>348.820129</td>\n",
       "    </tr>\n",
       "    <tr>\n",
       "      <th>2018-12-31</th>\n",
       "      <td>99.373857</td>\n",
       "      <td>264.084217</td>\n",
       "    </tr>\n",
       "    <tr>\n",
       "      <th>2019-01-01</th>\n",
       "      <td>93.023888</td>\n",
       "      <td>310.522009</td>\n",
       "    </tr>\n",
       "    <tr>\n",
       "      <th>2019-01-02</th>\n",
       "      <td>79.326084</td>\n",
       "      <td>336.928367</td>\n",
       "    </tr>\n",
       "    <tr>\n",
       "      <th>2019-01-03</th>\n",
       "      <td>108.149370</td>\n",
       "      <td>322.380700</td>\n",
       "    </tr>\n",
       "    <tr>\n",
       "      <th>2019-01-04</th>\n",
       "      <td>119.534581</td>\n",
       "      <td>330.396235</td>\n",
       "    </tr>\n",
       "    <tr>\n",
       "      <th>2019-01-05</th>\n",
       "      <td>91.001282</td>\n",
       "      <td>379.387328</td>\n",
       "    </tr>\n",
       "    <tr>\n",
       "      <th>2019-01-06</th>\n",
       "      <td>75.487054</td>\n",
       "      <td>331.953667</td>\n",
       "    </tr>\n",
       "    <tr>\n",
       "      <th>2019-01-07</th>\n",
       "      <td>72.107611</td>\n",
       "      <td>404.523555</td>\n",
       "    </tr>\n",
       "    <tr>\n",
       "      <th>2019-01-08</th>\n",
       "      <td>91.144693</td>\n",
       "      <td>318.875145</td>\n",
       "    </tr>\n",
       "    <tr>\n",
       "      <th>2019-01-09</th>\n",
       "      <td>113.414866</td>\n",
       "      <td>246.063962</td>\n",
       "    </tr>\n",
       "    <tr>\n",
       "      <th>2019-01-10</th>\n",
       "      <td>135.131709</td>\n",
       "      <td>255.718699</td>\n",
       "    </tr>\n",
       "    <tr>\n",
       "      <th>2019-01-11</th>\n",
       "      <td>125.451465</td>\n",
       "      <td>272.797631</td>\n",
       "    </tr>\n",
       "    <tr>\n",
       "      <th>2019-01-12</th>\n",
       "      <td>152.480680</td>\n",
       "      <td>287.178498</td>\n",
       "    </tr>\n",
       "    <tr>\n",
       "      <th>2019-01-13</th>\n",
       "      <td>126.516942</td>\n",
       "      <td>251.450144</td>\n",
       "    </tr>\n",
       "  </tbody>\n",
       "</table>\n",
       "</div>"
      ],
      "text/plain": [
       "              In_Speed   Out_Speed\n",
       "Days                              \n",
       "2018-12-21  215.879720  306.440569\n",
       "2018-12-22  228.973823  395.635975\n",
       "2018-12-23  181.240180  296.084513\n",
       "2018-12-24  114.956234  440.358917\n",
       "2018-12-25   72.512225  388.518913\n",
       "2018-12-26  154.237042  363.306233\n",
       "2018-12-27  119.583671  266.616529\n",
       "2018-12-28  117.028806  447.063789\n",
       "2018-12-29   63.865425  356.737656\n",
       "2018-12-30  104.643744  348.820129\n",
       "2018-12-31   99.373857  264.084217\n",
       "2019-01-01   93.023888  310.522009\n",
       "2019-01-02   79.326084  336.928367\n",
       "2019-01-03  108.149370  322.380700\n",
       "2019-01-04  119.534581  330.396235\n",
       "2019-01-05   91.001282  379.387328\n",
       "2019-01-06   75.487054  331.953667\n",
       "2019-01-07   72.107611  404.523555\n",
       "2019-01-08   91.144693  318.875145\n",
       "2019-01-09  113.414866  246.063962\n",
       "2019-01-10  135.131709  255.718699\n",
       "2019-01-11  125.451465  272.797631\n",
       "2019-01-12  152.480680  287.178498\n",
       "2019-01-13  126.516942  251.450144"
      ]
     },
     "execution_count": 221,
     "metadata": {},
     "output_type": "execute_result"
    }
   ],
   "source": [
    "test"
   ]
  },
  {
   "cell_type": "code",
   "execution_count": 240,
   "metadata": {},
   "outputs": [
    {
     "data": {
      "text/plain": [
       "Index(['In_Speed', 'Out_Speed'], dtype='object')"
      ]
     },
     "execution_count": 240,
     "metadata": {},
     "output_type": "execute_result"
    }
   ],
   "source": [
    "df_av.columns"
   ]
  },
  {
   "cell_type": "code",
   "execution_count": 241,
   "metadata": {},
   "outputs": [],
   "source": [
    "idx = pd.date_range('2018-12-21', periods =24, freq='D')"
   ]
  },
  {
   "cell_type": "code",
   "execution_count": 242,
   "metadata": {
    "scrolled": true
   },
   "outputs": [
    {
     "data": {
      "text/plain": [
       "DatetimeIndex(['2018-12-21', '2018-12-22', '2018-12-23', '2018-12-24',\n",
       "               '2018-12-25', '2018-12-26', '2018-12-27', '2018-12-28',\n",
       "               '2018-12-29', '2018-12-30', '2018-12-31', '2019-01-01',\n",
       "               '2019-01-02', '2019-01-03', '2019-01-04', '2019-01-05',\n",
       "               '2019-01-06', '2019-01-07', '2019-01-08', '2019-01-09',\n",
       "               '2019-01-10', '2019-01-11', '2019-01-12', '2019-01-13'],\n",
       "              dtype='datetime64[ns]', freq='D')"
      ]
     },
     "execution_count": 242,
     "metadata": {},
     "output_type": "execute_result"
    }
   ],
   "source": [
    "idx"
   ]
  },
  {
   "cell_type": "code",
   "execution_count": 243,
   "metadata": {},
   "outputs": [],
   "source": [
    "df_av_forecast = pd.DataFrame(data=z,index=idx,columns=['aofa_lon_In_speed_f','aofa_lon_out_speed_f'])"
   ]
  },
  {
   "cell_type": "code",
   "execution_count": 244,
   "metadata": {},
   "outputs": [
    {
     "data": {
      "text/html": [
       "<div>\n",
       "<style scoped>\n",
       "    .dataframe tbody tr th:only-of-type {\n",
       "        vertical-align: middle;\n",
       "    }\n",
       "\n",
       "    .dataframe tbody tr th {\n",
       "        vertical-align: top;\n",
       "    }\n",
       "\n",
       "    .dataframe thead th {\n",
       "        text-align: right;\n",
       "    }\n",
       "</style>\n",
       "<table border=\"1\" class=\"dataframe\">\n",
       "  <thead>\n",
       "    <tr style=\"text-align: right;\">\n",
       "      <th></th>\n",
       "      <th>aofa_lon_In_speed_f</th>\n",
       "      <th>aofa_lon_out_speed_f</th>\n",
       "    </tr>\n",
       "  </thead>\n",
       "  <tbody>\n",
       "    <tr>\n",
       "      <th>2018-12-21</th>\n",
       "      <td>241.490838</td>\n",
       "      <td>292.124328</td>\n",
       "    </tr>\n",
       "    <tr>\n",
       "      <th>2018-12-22</th>\n",
       "      <td>252.819352</td>\n",
       "      <td>339.613251</td>\n",
       "    </tr>\n",
       "    <tr>\n",
       "      <th>2018-12-23</th>\n",
       "      <td>258.782550</td>\n",
       "      <td>359.368168</td>\n",
       "    </tr>\n",
       "    <tr>\n",
       "      <th>2018-12-24</th>\n",
       "      <td>287.244426</td>\n",
       "      <td>368.955825</td>\n",
       "    </tr>\n",
       "    <tr>\n",
       "      <th>2018-12-25</th>\n",
       "      <td>290.867807</td>\n",
       "      <td>391.218298</td>\n",
       "    </tr>\n",
       "  </tbody>\n",
       "</table>\n",
       "</div>"
      ],
      "text/plain": [
       "            aofa_lon_In_speed_f  aofa_lon_out_speed_f\n",
       "2018-12-21           241.490838            292.124328\n",
       "2018-12-22           252.819352            339.613251\n",
       "2018-12-23           258.782550            359.368168\n",
       "2018-12-24           287.244426            368.955825\n",
       "2018-12-25           290.867807            391.218298"
      ]
     },
     "execution_count": 244,
     "metadata": {},
     "output_type": "execute_result"
    }
   ],
   "source": [
    "df_av_forecast.head()"
   ]
  },
  {
   "cell_type": "code",
   "execution_count": 245,
   "metadata": {},
   "outputs": [
    {
     "data": {
      "text/html": [
       "<div>\n",
       "<style scoped>\n",
       "    .dataframe tbody tr th:only-of-type {\n",
       "        vertical-align: middle;\n",
       "    }\n",
       "\n",
       "    .dataframe tbody tr th {\n",
       "        vertical-align: top;\n",
       "    }\n",
       "\n",
       "    .dataframe thead th {\n",
       "        text-align: right;\n",
       "    }\n",
       "</style>\n",
       "<table border=\"1\" class=\"dataframe\">\n",
       "  <thead>\n",
       "    <tr style=\"text-align: right;\">\n",
       "      <th></th>\n",
       "      <th>In_Speed</th>\n",
       "      <th>Out_Speed</th>\n",
       "    </tr>\n",
       "    <tr>\n",
       "      <th>Days</th>\n",
       "      <th></th>\n",
       "      <th></th>\n",
       "    </tr>\n",
       "  </thead>\n",
       "  <tbody>\n",
       "    <tr>\n",
       "      <th>2018-10-16</th>\n",
       "      <td>437.322709</td>\n",
       "      <td>668.236505</td>\n",
       "    </tr>\n",
       "    <tr>\n",
       "      <th>2018-10-17</th>\n",
       "      <td>389.297759</td>\n",
       "      <td>565.362320</td>\n",
       "    </tr>\n",
       "    <tr>\n",
       "      <th>2018-10-18</th>\n",
       "      <td>428.162168</td>\n",
       "      <td>398.529560</td>\n",
       "    </tr>\n",
       "    <tr>\n",
       "      <th>2018-10-19</th>\n",
       "      <td>509.773571</td>\n",
       "      <td>276.883716</td>\n",
       "    </tr>\n",
       "    <tr>\n",
       "      <th>2018-10-20</th>\n",
       "      <td>425.864657</td>\n",
       "      <td>329.079479</td>\n",
       "    </tr>\n",
       "  </tbody>\n",
       "</table>\n",
       "</div>"
      ],
      "text/plain": [
       "              In_Speed   Out_Speed\n",
       "Days                              \n",
       "2018-10-16  437.322709  668.236505\n",
       "2018-10-17  389.297759  565.362320\n",
       "2018-10-18  428.162168  398.529560\n",
       "2018-10-19  509.773571  276.883716\n",
       "2018-10-20  425.864657  329.079479"
      ]
     },
     "execution_count": 245,
     "metadata": {},
     "output_type": "execute_result"
    }
   ],
   "source": [
    "df_av.head()"
   ]
  },
  {
   "cell_type": "code",
   "execution_count": 246,
   "metadata": {},
   "outputs": [],
   "source": [
    " df1 = df_av_forecast.join(df_av)"
   ]
  },
  {
   "cell_type": "code",
   "execution_count": 247,
   "metadata": {},
   "outputs": [
    {
     "data": {
      "text/plain": [
       "(24, 4)"
      ]
     },
     "execution_count": 247,
     "metadata": {},
     "output_type": "execute_result"
    }
   ],
   "source": [
    "df1.shape"
   ]
  },
  {
   "cell_type": "code",
   "execution_count": 248,
   "metadata": {},
   "outputs": [
    {
     "data": {
      "text/html": [
       "<div>\n",
       "<style scoped>\n",
       "    .dataframe tbody tr th:only-of-type {\n",
       "        vertical-align: middle;\n",
       "    }\n",
       "\n",
       "    .dataframe tbody tr th {\n",
       "        vertical-align: top;\n",
       "    }\n",
       "\n",
       "    .dataframe thead th {\n",
       "        text-align: right;\n",
       "    }\n",
       "</style>\n",
       "<table border=\"1\" class=\"dataframe\">\n",
       "  <thead>\n",
       "    <tr style=\"text-align: right;\">\n",
       "      <th></th>\n",
       "      <th>aofa_lon_In_speed_f</th>\n",
       "      <th>aofa_lon_out_speed_f</th>\n",
       "      <th>In_Speed</th>\n",
       "      <th>Out_Speed</th>\n",
       "    </tr>\n",
       "  </thead>\n",
       "  <tbody>\n",
       "    <tr>\n",
       "      <th>2018-12-21</th>\n",
       "      <td>241.490838</td>\n",
       "      <td>292.124328</td>\n",
       "      <td>215.879720</td>\n",
       "      <td>306.440569</td>\n",
       "    </tr>\n",
       "    <tr>\n",
       "      <th>2018-12-22</th>\n",
       "      <td>252.819352</td>\n",
       "      <td>339.613251</td>\n",
       "      <td>228.973823</td>\n",
       "      <td>395.635975</td>\n",
       "    </tr>\n",
       "    <tr>\n",
       "      <th>2018-12-23</th>\n",
       "      <td>258.782550</td>\n",
       "      <td>359.368168</td>\n",
       "      <td>181.240180</td>\n",
       "      <td>296.084513</td>\n",
       "    </tr>\n",
       "    <tr>\n",
       "      <th>2018-12-24</th>\n",
       "      <td>287.244426</td>\n",
       "      <td>368.955825</td>\n",
       "      <td>114.956234</td>\n",
       "      <td>440.358917</td>\n",
       "    </tr>\n",
       "    <tr>\n",
       "      <th>2018-12-25</th>\n",
       "      <td>290.867807</td>\n",
       "      <td>391.218298</td>\n",
       "      <td>72.512225</td>\n",
       "      <td>388.518913</td>\n",
       "    </tr>\n",
       "    <tr>\n",
       "      <th>2018-12-26</th>\n",
       "      <td>281.712124</td>\n",
       "      <td>392.631356</td>\n",
       "      <td>154.237042</td>\n",
       "      <td>363.306233</td>\n",
       "    </tr>\n",
       "    <tr>\n",
       "      <th>2018-12-27</th>\n",
       "      <td>294.617939</td>\n",
       "      <td>392.258631</td>\n",
       "      <td>119.583671</td>\n",
       "      <td>266.616529</td>\n",
       "    </tr>\n",
       "    <tr>\n",
       "      <th>2018-12-28</th>\n",
       "      <td>311.284374</td>\n",
       "      <td>396.382313</td>\n",
       "      <td>117.028806</td>\n",
       "      <td>447.063789</td>\n",
       "    </tr>\n",
       "    <tr>\n",
       "      <th>2018-12-29</th>\n",
       "      <td>309.040780</td>\n",
       "      <td>385.887063</td>\n",
       "      <td>63.865425</td>\n",
       "      <td>356.737656</td>\n",
       "    </tr>\n",
       "    <tr>\n",
       "      <th>2018-12-30</th>\n",
       "      <td>311.746137</td>\n",
       "      <td>377.310935</td>\n",
       "      <td>104.643744</td>\n",
       "      <td>348.820129</td>\n",
       "    </tr>\n",
       "    <tr>\n",
       "      <th>2018-12-31</th>\n",
       "      <td>322.659725</td>\n",
       "      <td>383.310026</td>\n",
       "      <td>99.373857</td>\n",
       "      <td>264.084217</td>\n",
       "    </tr>\n",
       "    <tr>\n",
       "      <th>2019-01-01</th>\n",
       "      <td>325.513286</td>\n",
       "      <td>383.612440</td>\n",
       "      <td>93.023888</td>\n",
       "      <td>310.522009</td>\n",
       "    </tr>\n",
       "    <tr>\n",
       "      <th>2019-01-02</th>\n",
       "      <td>324.921375</td>\n",
       "      <td>378.385321</td>\n",
       "      <td>79.326084</td>\n",
       "      <td>336.928367</td>\n",
       "    </tr>\n",
       "    <tr>\n",
       "      <th>2019-01-03</th>\n",
       "      <td>326.977592</td>\n",
       "      <td>382.161829</td>\n",
       "      <td>108.149370</td>\n",
       "      <td>322.380700</td>\n",
       "    </tr>\n",
       "    <tr>\n",
       "      <th>2019-01-04</th>\n",
       "      <td>326.329126</td>\n",
       "      <td>386.285486</td>\n",
       "      <td>119.534581</td>\n",
       "      <td>330.396235</td>\n",
       "    </tr>\n",
       "    <tr>\n",
       "      <th>2019-01-05</th>\n",
       "      <td>324.925185</td>\n",
       "      <td>383.958737</td>\n",
       "      <td>91.001282</td>\n",
       "      <td>379.387328</td>\n",
       "    </tr>\n",
       "    <tr>\n",
       "      <th>2019-01-06</th>\n",
       "      <td>325.487658</td>\n",
       "      <td>383.320314</td>\n",
       "      <td>75.487054</td>\n",
       "      <td>331.953667</td>\n",
       "    </tr>\n",
       "    <tr>\n",
       "      <th>2019-01-07</th>\n",
       "      <td>324.183175</td>\n",
       "      <td>384.126082</td>\n",
       "      <td>72.107611</td>\n",
       "      <td>404.523555</td>\n",
       "    </tr>\n",
       "    <tr>\n",
       "      <th>2019-01-08</th>\n",
       "      <td>322.473024</td>\n",
       "      <td>382.228280</td>\n",
       "      <td>91.144693</td>\n",
       "      <td>318.875145</td>\n",
       "    </tr>\n",
       "    <tr>\n",
       "      <th>2019-01-09</th>\n",
       "      <td>323.397276</td>\n",
       "      <td>381.139686</td>\n",
       "      <td>113.414866</td>\n",
       "      <td>246.063962</td>\n",
       "    </tr>\n",
       "    <tr>\n",
       "      <th>2019-01-10</th>\n",
       "      <td>323.677789</td>\n",
       "      <td>381.391195</td>\n",
       "      <td>135.131709</td>\n",
       "      <td>255.718699</td>\n",
       "    </tr>\n",
       "    <tr>\n",
       "      <th>2019-01-11</th>\n",
       "      <td>322.394931</td>\n",
       "      <td>380.415422</td>\n",
       "      <td>125.451465</td>\n",
       "      <td>272.797631</td>\n",
       "    </tr>\n",
       "    <tr>\n",
       "      <th>2019-01-12</th>\n",
       "      <td>322.452451</td>\n",
       "      <td>380.158469</td>\n",
       "      <td>152.480680</td>\n",
       "      <td>287.178498</td>\n",
       "    </tr>\n",
       "    <tr>\n",
       "      <th>2019-01-13</th>\n",
       "      <td>322.972585</td>\n",
       "      <td>381.206598</td>\n",
       "      <td>126.516942</td>\n",
       "      <td>251.450144</td>\n",
       "    </tr>\n",
       "  </tbody>\n",
       "</table>\n",
       "</div>"
      ],
      "text/plain": [
       "            aofa_lon_In_speed_f  aofa_lon_out_speed_f    In_Speed   Out_Speed\n",
       "2018-12-21           241.490838            292.124328  215.879720  306.440569\n",
       "2018-12-22           252.819352            339.613251  228.973823  395.635975\n",
       "2018-12-23           258.782550            359.368168  181.240180  296.084513\n",
       "2018-12-24           287.244426            368.955825  114.956234  440.358917\n",
       "2018-12-25           290.867807            391.218298   72.512225  388.518913\n",
       "2018-12-26           281.712124            392.631356  154.237042  363.306233\n",
       "2018-12-27           294.617939            392.258631  119.583671  266.616529\n",
       "2018-12-28           311.284374            396.382313  117.028806  447.063789\n",
       "2018-12-29           309.040780            385.887063   63.865425  356.737656\n",
       "2018-12-30           311.746137            377.310935  104.643744  348.820129\n",
       "2018-12-31           322.659725            383.310026   99.373857  264.084217\n",
       "2019-01-01           325.513286            383.612440   93.023888  310.522009\n",
       "2019-01-02           324.921375            378.385321   79.326084  336.928367\n",
       "2019-01-03           326.977592            382.161829  108.149370  322.380700\n",
       "2019-01-04           326.329126            386.285486  119.534581  330.396235\n",
       "2019-01-05           324.925185            383.958737   91.001282  379.387328\n",
       "2019-01-06           325.487658            383.320314   75.487054  331.953667\n",
       "2019-01-07           324.183175            384.126082   72.107611  404.523555\n",
       "2019-01-08           322.473024            382.228280   91.144693  318.875145\n",
       "2019-01-09           323.397276            381.139686  113.414866  246.063962\n",
       "2019-01-10           323.677789            381.391195  135.131709  255.718699\n",
       "2019-01-11           322.394931            380.415422  125.451465  272.797631\n",
       "2019-01-12           322.452451            380.158469  152.480680  287.178498\n",
       "2019-01-13           322.972585            381.206598  126.516942  251.450144"
      ]
     },
     "execution_count": 248,
     "metadata": {},
     "output_type": "execute_result"
    }
   ],
   "source": [
    "df1"
   ]
  },
  {
   "cell_type": "code",
   "execution_count": 249,
   "metadata": {},
   "outputs": [],
   "source": [
    "test_range = df_av[-nobs:]"
   ]
  },
  {
   "cell_type": "code",
   "execution_count": 253,
   "metadata": {},
   "outputs": [
    {
     "data": {
      "text/html": [
       "<div>\n",
       "<style scoped>\n",
       "    .dataframe tbody tr th:only-of-type {\n",
       "        vertical-align: middle;\n",
       "    }\n",
       "\n",
       "    .dataframe tbody tr th {\n",
       "        vertical-align: top;\n",
       "    }\n",
       "\n",
       "    .dataframe thead th {\n",
       "        text-align: right;\n",
       "    }\n",
       "</style>\n",
       "<table border=\"1\" class=\"dataframe\">\n",
       "  <thead>\n",
       "    <tr style=\"text-align: right;\">\n",
       "      <th></th>\n",
       "      <th>In_Speed</th>\n",
       "      <th>Out_Speed</th>\n",
       "    </tr>\n",
       "    <tr>\n",
       "      <th>Days</th>\n",
       "      <th></th>\n",
       "      <th></th>\n",
       "    </tr>\n",
       "  </thead>\n",
       "  <tbody>\n",
       "    <tr>\n",
       "      <th>2018-12-21</th>\n",
       "      <td>215.879720</td>\n",
       "      <td>306.440569</td>\n",
       "    </tr>\n",
       "    <tr>\n",
       "      <th>2018-12-22</th>\n",
       "      <td>228.973823</td>\n",
       "      <td>395.635975</td>\n",
       "    </tr>\n",
       "    <tr>\n",
       "      <th>2018-12-23</th>\n",
       "      <td>181.240180</td>\n",
       "      <td>296.084513</td>\n",
       "    </tr>\n",
       "    <tr>\n",
       "      <th>2018-12-24</th>\n",
       "      <td>114.956234</td>\n",
       "      <td>440.358917</td>\n",
       "    </tr>\n",
       "    <tr>\n",
       "      <th>2018-12-25</th>\n",
       "      <td>72.512225</td>\n",
       "      <td>388.518913</td>\n",
       "    </tr>\n",
       "    <tr>\n",
       "      <th>2018-12-26</th>\n",
       "      <td>154.237042</td>\n",
       "      <td>363.306233</td>\n",
       "    </tr>\n",
       "    <tr>\n",
       "      <th>2018-12-27</th>\n",
       "      <td>119.583671</td>\n",
       "      <td>266.616529</td>\n",
       "    </tr>\n",
       "    <tr>\n",
       "      <th>2018-12-28</th>\n",
       "      <td>117.028806</td>\n",
       "      <td>447.063789</td>\n",
       "    </tr>\n",
       "    <tr>\n",
       "      <th>2018-12-29</th>\n",
       "      <td>63.865425</td>\n",
       "      <td>356.737656</td>\n",
       "    </tr>\n",
       "    <tr>\n",
       "      <th>2018-12-30</th>\n",
       "      <td>104.643744</td>\n",
       "      <td>348.820129</td>\n",
       "    </tr>\n",
       "    <tr>\n",
       "      <th>2018-12-31</th>\n",
       "      <td>99.373857</td>\n",
       "      <td>264.084217</td>\n",
       "    </tr>\n",
       "    <tr>\n",
       "      <th>2019-01-01</th>\n",
       "      <td>93.023888</td>\n",
       "      <td>310.522009</td>\n",
       "    </tr>\n",
       "    <tr>\n",
       "      <th>2019-01-02</th>\n",
       "      <td>79.326084</td>\n",
       "      <td>336.928367</td>\n",
       "    </tr>\n",
       "    <tr>\n",
       "      <th>2019-01-03</th>\n",
       "      <td>108.149370</td>\n",
       "      <td>322.380700</td>\n",
       "    </tr>\n",
       "    <tr>\n",
       "      <th>2019-01-04</th>\n",
       "      <td>119.534581</td>\n",
       "      <td>330.396235</td>\n",
       "    </tr>\n",
       "    <tr>\n",
       "      <th>2019-01-05</th>\n",
       "      <td>91.001282</td>\n",
       "      <td>379.387328</td>\n",
       "    </tr>\n",
       "    <tr>\n",
       "      <th>2019-01-06</th>\n",
       "      <td>75.487054</td>\n",
       "      <td>331.953667</td>\n",
       "    </tr>\n",
       "    <tr>\n",
       "      <th>2019-01-07</th>\n",
       "      <td>72.107611</td>\n",
       "      <td>404.523555</td>\n",
       "    </tr>\n",
       "    <tr>\n",
       "      <th>2019-01-08</th>\n",
       "      <td>91.144693</td>\n",
       "      <td>318.875145</td>\n",
       "    </tr>\n",
       "    <tr>\n",
       "      <th>2019-01-09</th>\n",
       "      <td>113.414866</td>\n",
       "      <td>246.063962</td>\n",
       "    </tr>\n",
       "    <tr>\n",
       "      <th>2019-01-10</th>\n",
       "      <td>135.131709</td>\n",
       "      <td>255.718699</td>\n",
       "    </tr>\n",
       "    <tr>\n",
       "      <th>2019-01-11</th>\n",
       "      <td>125.451465</td>\n",
       "      <td>272.797631</td>\n",
       "    </tr>\n",
       "    <tr>\n",
       "      <th>2019-01-12</th>\n",
       "      <td>152.480680</td>\n",
       "      <td>287.178498</td>\n",
       "    </tr>\n",
       "    <tr>\n",
       "      <th>2019-01-13</th>\n",
       "      <td>126.516942</td>\n",
       "      <td>251.450144</td>\n",
       "    </tr>\n",
       "  </tbody>\n",
       "</table>\n",
       "</div>"
      ],
      "text/plain": [
       "              In_Speed   Out_Speed\n",
       "Days                              \n",
       "2018-12-21  215.879720  306.440569\n",
       "2018-12-22  228.973823  395.635975\n",
       "2018-12-23  181.240180  296.084513\n",
       "2018-12-24  114.956234  440.358917\n",
       "2018-12-25   72.512225  388.518913\n",
       "2018-12-26  154.237042  363.306233\n",
       "2018-12-27  119.583671  266.616529\n",
       "2018-12-28  117.028806  447.063789\n",
       "2018-12-29   63.865425  356.737656\n",
       "2018-12-30  104.643744  348.820129\n",
       "2018-12-31   99.373857  264.084217\n",
       "2019-01-01   93.023888  310.522009\n",
       "2019-01-02   79.326084  336.928367\n",
       "2019-01-03  108.149370  322.380700\n",
       "2019-01-04  119.534581  330.396235\n",
       "2019-01-05   91.001282  379.387328\n",
       "2019-01-06   75.487054  331.953667\n",
       "2019-01-07   72.107611  404.523555\n",
       "2019-01-08   91.144693  318.875145\n",
       "2019-01-09  113.414866  246.063962\n",
       "2019-01-10  135.131709  255.718699\n",
       "2019-01-11  125.451465  272.797631\n",
       "2019-01-12  152.480680  287.178498\n",
       "2019-01-13  126.516942  251.450144"
      ]
     },
     "execution_count": 253,
     "metadata": {},
     "output_type": "execute_result"
    }
   ],
   "source": [
    "test_range"
   ]
  },
  {
   "cell_type": "code",
   "execution_count": 254,
   "metadata": {},
   "outputs": [
    {
     "data": {
      "text/plain": [
       "(24, 2)"
      ]
     },
     "execution_count": 254,
     "metadata": {},
     "output_type": "execute_result"
    }
   ],
   "source": [
    "test_range.shape"
   ]
  },
  {
   "cell_type": "code",
   "execution_count": 252,
   "metadata": {},
   "outputs": [
    {
     "data": {
      "text/plain": [
       "<matplotlib.axes._subplots.AxesSubplot at 0x1c2af38f98>"
      ]
     },
     "execution_count": 252,
     "metadata": {},
     "output_type": "execute_result"
    },
    {
     "data": {
      "image/png": "[encoded data removed]",
      "text/plain": [
       "<Figure size 864x576 with 1 Axes>"
      ]
     },
     "metadata": {},
     "output_type": "display_data"
    }
   ],
   "source": [
    "test_range.plot(figsize=(12,8))"
   ]
  },
  {
   "cell_type": "code",
   "execution_count": 255,
   "metadata": {},
   "outputs": [
    {
     "data": {
      "text/plain": [
       "Index(['aofa_lon_In_speed_f', 'aofa_lon_out_speed_f', 'In_Speed', 'Out_Speed'], dtype='object')"
      ]
     },
     "execution_count": 255,
     "metadata": {},
     "output_type": "execute_result"
    }
   ],
   "source": [
    "df1.columns"
   ]
  },
  {
   "cell_type": "code",
   "execution_count": 256,
   "metadata": {},
   "outputs": [
    {
     "data": {
      "text/plain": [
       "<matplotlib.axes._subplots.AxesSubplot at 0x1c2af1f9e8>"
      ]
     },
     "execution_count": 256,
     "metadata": {},
     "output_type": "execute_result"
    },
    {
     "data": {
      "image/png": "[encoded data removed]",
      "text/plain": [
       "<Figure size 864x576 with 1 Axes>"
      ]
     },
     "metadata": {},
     "output_type": "display_data"
    }
   ],
   "source": [
    "df1[['aofa_lon_In_speed_f','aofa_lon_out_speed_f']].plot(figsize=(12,8))"
   ]
  },
  {
   "cell_type": "code",
   "execution_count": 257,
   "metadata": {},
   "outputs": [
    {
     "data": {
      "text/plain": [
       "<matplotlib.axes._subplots.AxesSubplot at 0x1c2d2e7048>"
      ]
     },
     "execution_count": 257,
     "metadata": {},
     "output_type": "execute_result"
    },
    {
     "data": {
      "image/png": "[encoded data removed]",
      "text/plain": [
       "<Figure size 864x576 with 1 Axes>"
      ]
     },
     "metadata": {},
     "output_type": "display_data"
    }
   ],
   "source": [
    "test_range['In_Speed'].plot(legend=True,figsize=(12,8))\n",
    "df_av_forecast['aofa_lon_In_speed_f'].plot(legend=True)"
   ]
  },
  {
   "cell_type": "code",
   "execution_count": 258,
   "metadata": {},
   "outputs": [
    {
     "data": {
      "text/plain": [
       "<matplotlib.axes._subplots.AxesSubplot at 0x1c2d467e80>"
      ]
     },
     "execution_count": 258,
     "metadata": {},
     "output_type": "execute_result"
    },
    {
     "data": {
      "image/png": "[encoded data removed]",
      "text/plain": [
       "<Figure size 864x576 with 1 Axes>"
      ]
     },
     "metadata": {},
     "output_type": "display_data"
    }
   ],
   "source": [
    "test_range['Out_Speed'].plot(legend=True,figsize=(12,8))\n",
    "df_av_forecast['aofa_lon_out_speed_f'].plot(legend=True)"
   ]
  },
  {
   "cell_type": "code",
   "execution_count": 262,
   "metadata": {},
   "outputs": [
    {
     "data": {
      "text/plain": [
       "198.67149408080488"
      ]
     },
     "execution_count": 262,
     "metadata": {},
     "output_type": "execute_result"
    }
   ],
   "source": [
    "rmse(test_range['In_Speed'],df_av_forecast['aofa_lon_In_speed_f'])"
   ]
  },
  {
   "cell_type": "code",
   "execution_count": 263,
   "metadata": {},
   "outputs": [
    {
     "data": {
      "text/plain": [
       "118.9610396522222"
      ]
     },
     "execution_count": 263,
     "metadata": {},
     "output_type": "execute_result"
    }
   ],
   "source": [
    "test_range['In_Speed'].mean()"
   ]
  },
  {
   "cell_type": "code",
   "execution_count": 264,
   "metadata": {},
   "outputs": [
    {
     "data": {
      "text/plain": [
       "76.23831786965066"
      ]
     },
     "execution_count": 264,
     "metadata": {},
     "output_type": "execute_result"
    }
   ],
   "source": [
    "rmse(test_range['Out_Speed'],df_av_forecast['aofa_lon_out_speed_f'])"
   ]
  },
  {
   "cell_type": "code",
   "execution_count": 265,
   "metadata": {},
   "outputs": [
    {
     "data": {
      "text/plain": [
       "330.0768075232864"
      ]
     },
     "execution_count": 265,
     "metadata": {},
     "output_type": "execute_result"
    }
   ],
   "source": [
    "test_range['Out_Speed'].mean()"
   ]
  },
  {
   "cell_type": "code",
   "execution_count": null,
   "metadata": {},
   "outputs": [],
   "source": []
  }
 ],
 "metadata": {
  "kernelspec": {
   "display_name": "Python 3",
   "language": "python",
   "name": "python3"
  },
  "language_info": {
   "codemirror_mode": {
    "name": "ipython",
    "version": 3
   },
   "file_extension": ".py",
   "mimetype": "text/x-python",
   "name": "python",
   "nbconvert_exporter": "python",
   "pygments_lexer": "ipython3",
   "version": "3.6.5"
  }
 },
 "nbformat": 4,
 "nbformat_minor": 2
}
